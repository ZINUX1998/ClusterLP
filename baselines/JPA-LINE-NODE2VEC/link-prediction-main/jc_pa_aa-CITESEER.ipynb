{
 "cells": [
  {
   "cell_type": "markdown",
   "id": "454eab00",
   "metadata": {},
   "source": [
    "# IMPORT FUNCFIONS"
   ]
  },
  {
   "cell_type": "code",
   "execution_count": 1,
   "id": "dd54ac7b",
   "metadata": {
    "ExecuteTime": {
     "end_time": "2022-10-30T11:37:53.900818Z",
     "start_time": "2022-10-30T11:37:52.463418Z"
    }
   },
   "outputs": [],
   "source": [
    "import pandas as pd\n",
    "import numpy as np\n",
    "import networkx as nx\n",
    "import itertools\n",
    "import pickle\n",
    "import os\n",
    "import random\n",
    "from sklearn.model_selection import train_test_split\n",
    "\n",
    "from sklearn.metrics import average_precision_score\n",
    "from sklearn import metrics\n",
    "\n",
    "from sklearn.ensemble import RandomForestClassifier\n",
    "from node2vec import Node2Vec\n",
    "from node2vec.edges import HadamardEmbedder, WeightedL1Embedder, WeightedL2Embedder\n",
    "from sklearn.linear_model import LogisticRegression"
   ]
  },
  {
   "cell_type": "markdown",
   "id": "3321a4ab",
   "metadata": {},
   "source": [
    "# READ DATA"
   ]
  },
  {
   "cell_type": "code",
   "execution_count": 2,
   "id": "7fa06711",
   "metadata": {
    "ExecuteTime": {
     "end_time": "2022-10-30T06:11:22.736162Z",
     "start_time": "2022-10-30T06:11:22.723120Z"
    }
   },
   "outputs": [],
   "source": [
    "def get_edges_dict(traindata):\n",
    "    if os.path.isfile(\"edgesdic.pkl\"):\n",
    "        f = open(\"edgesdic.pkl\",\"rb\")\n",
    "        edges = pickle.load(f)\n",
    "        f.close()\n",
    "        return edges\n",
    "    else:\n",
    "        edges = dict()\n",
    "        for edge in range(len(traindata)): \n",
    "            edges[(traindata.loc[[edge]]['id_1'].values[0],traindata.loc[[edge]]['id_2'].values[0])] = 1 \n",
    "            edges[(traindata.loc[[edge]]['id_2'].values[0],traindata.loc[[edge]]['id_1'].values[0])] = 1  \n",
    "        f = open(\"edgesdic.pkl\",\"wb\")\n",
    "        pickle.dump(edges,f)\n",
    "        f.close()\n",
    "        return edges\n",
    "\n",
    "def get_negative_edges(traindata,g):\n",
    "    edges = get_edges_dict(traindata)\n",
    "    # for missing edges.\n",
    "    negative_edges = set([])\n",
    "    maxNodenum = max(max(traindata['id_1']),max(traindata['id_2']))\n",
    "    #產生與原圖同edge數目的negative edges\n",
    "    while (len(negative_edges)<len(traindata)):\n",
    "        node1=random.randint(0, maxNodenum) \n",
    "        node2=random.randint(0, maxNodenum) \n",
    "        tmp = edges.get((node1,node2),0) #edge不在graph裡標為0\n",
    "        if tmp == 0 and node1!=node2 and g.has_node(node1) and g.has_node(node2): # if edge不在graph裡才要做處理\n",
    "            negative_edges.add((node1,node2))\n",
    "        else:\n",
    "            continue\n",
    "    return negative_edges"
   ]
  },
  {
   "cell_type": "markdown",
   "id": "e3b548e6",
   "metadata": {},
   "source": [
    "# MODELS"
   ]
  },
  {
   "cell_type": "code",
   "execution_count": 3,
   "id": "4449f9fe",
   "metadata": {
    "ExecuteTime": {
     "end_time": "2022-10-30T06:11:23.481845Z",
     "start_time": "2022-10-30T06:11:23.461800Z"
    }
   },
   "outputs": [],
   "source": [
    "def get_proximity_score(G, edges, feature):\n",
    "    jc_list = [[] for i in itertools.repeat(None, len(edges))]\n",
    "    pa_list = [[] for i in itertools.repeat(None, len(edges))]\n",
    "    adar_list = [[] for i in itertools.repeat(None, len(edges))]\n",
    "    \n",
    "    jc = nx.jaccard_coefficient(G, edges)\n",
    "    pa = nx.preferential_attachment(G, edges)\n",
    "    aa = nx.adamic_adar_index(G, edges)\n",
    "\n",
    "    for i, data in enumerate(jc):\n",
    "        jc_list[i] = data[2]\n",
    "    for i, data in enumerate(pa):\n",
    "        pa_list[i] = data[2]\n",
    "    for i, data in enumerate(aa):\n",
    "        adar_list[i] = data[2]  \n",
    "    \n",
    "    if feature == 'jc':\n",
    "        return jc_list\n",
    "    elif feature == 'pa':\n",
    "        return pa_list\n",
    "    elif feature == 'aa':\n",
    "        return adar_list\n",
    "    else:\n",
    "        return jc_list, pa_list, adar_list\n",
    "    \n",
    "    return jc_list, pa_list, adar_list"
   ]
  },
  {
   "cell_type": "code",
   "execution_count": 4,
   "id": "9c3a7c31",
   "metadata": {
    "ExecuteTime": {
     "end_time": "2022-10-30T06:12:30.850861Z",
     "start_time": "2022-10-30T06:11:23.990957Z"
    }
   },
   "outputs": [
    {
     "name": "stdout",
     "output_type": "stream",
     "text": [
      "AP：  0.6546370780564794\n",
      "AUC SCORE:  0.7096597145993414\n",
      "AP：  0.6700447673492853\n",
      "AUC SCORE:  0.7233809001097695\n",
      "AP：  0.6693539045391612\n",
      "AUC SCORE:  0.7239297475301866\n",
      "AP：  0.6792760299895317\n",
      "AUC SCORE:  0.7321624588364436\n",
      "AP：  0.6509651291362439\n",
      "AUC SCORE:  0.7069154774972558\n",
      "AP：  0.6629412628384851\n",
      "AUC SCORE:  0.716794731064764\n",
      "AP：  0.6590979406566673\n",
      "AUC SCORE:  0.712403951701427\n",
      "AP：  0.66761544941669\n",
      "AUC SCORE:  0.7206366630076839\n",
      "AP：  0.6770049643616858\n",
      "AUC SCORE:  0.7332601536772777\n",
      "AP：  0.6861880866506866\n",
      "AUC SCORE:  0.7392974753018662\n",
      "####################### SUM UP ############################\n",
      "AP MEAN :  0.6677124612994916\n",
      "AP STD :  0.010573419253250118\n",
      "AUC MEAN :  0.7218441273326015\n",
      "AUC STD :  0.0101760515344253\n"
     ]
    }
   ],
   "source": [
    "all_ap = []\n",
    "all_auc = []\n",
    "\n",
    "filename = 'citeseer'\n",
    "\n",
    "for i in range(10):\n",
    "    ori_df = pd.read_csv('data/'+filename+'.txt', header=None, sep=' ')\n",
    "    ori_df.columns = ['id_1', 'id_2']\n",
    "    \n",
    "    nodes_number = 3327\n",
    "    ori_graph_np = np.zeros((nodes_number, nodes_number))\n",
    "    for i in range(ori_df.shape[0]):\n",
    "        ori_graph_np[ori_df.iloc[i, 0], ori_df.iloc[i, 1]] = 1\n",
    "        ori_graph_np[ori_df.iloc[i, 1], ori_df.iloc[i, 0]] = 1\n",
    "\n",
    "    ori_G = nx.from_numpy_matrix(ori_graph_np)\n",
    "    \n",
    "    \n",
    "    #ori_G = nx.from_pandas_edgelist(ori_df, 'id_1', 'id_2')\n",
    "    #print(nx.info(ori_G))\n",
    "    \n",
    "    negative_edges = get_negative_edges(ori_df, ori_G)\n",
    "    #print(len(negative_edges))\n",
    "\n",
    "    train_df, test_df = train_test_split(ori_df, test_size=0.1)\n",
    "    \n",
    "    nodes_number = len(ori_G.nodes)\n",
    "    graph_np = np.zeros((nodes_number, nodes_number))\n",
    "    for i in range(train_df.shape[0]):\n",
    "        graph_np[train_df.iloc[i, 0], train_df.iloc[i, 1]] = 1\n",
    "        graph_np[train_df.iloc[i, 1], train_df.iloc[i, 0]] = 1\n",
    "\n",
    "    train_G = nx.from_numpy_matrix(graph_np)\n",
    "    #print(nx.info(train_G))\n",
    "\n",
    "    pos_edges = [(data.id_1, data.id_2) for data in train_df.itertuples()]\n",
    "\n",
    "    train_df['jc'], train_df['pa'], train_df['aa'] = get_proximity_score(train_G, pos_edges, 'all')\n",
    "\n",
    "    test_pos_edges = [(data.id_1, data.id_2) for data in test_df.itertuples()]\n",
    "    test_df['jc'], test_df['pa'], test_df['aa'] = get_proximity_score(train_G, test_pos_edges,'all')\n",
    "\n",
    "    df_neg = pd.DataFrame(list(negative_edges), columns=['id_1', 'id_2'])\n",
    "    neg_edges = list(negative_edges)\n",
    "\n",
    "    df_neg['jc'], df_neg['pa'], df_neg['aa'] = get_proximity_score(train_G, neg_edges, 'all')\n",
    "\n",
    "    X_train_neg, X_test_neg = train_test_split(df_neg, test_size=0.1)\n",
    "\n",
    "    y_train_pos = np.ones(len(train_df))\n",
    "    y_train_neg = np.zeros(len(X_train_neg))\n",
    "    y_test_pos = np.ones(len(test_df))\n",
    "    y_test_neg = np.zeros(len(X_test_neg))\n",
    "\n",
    "    X_train = np.concatenate((train_df, X_train_neg))\n",
    "    y_train = np.concatenate((y_train_pos, y_train_neg))\n",
    "    X_test = np.concatenate((test_df, X_test_neg))\n",
    "    y_test = np.concatenate((y_test_pos, y_test_neg))\n",
    "\n",
    "    clf1 = RandomForestClassifier(n_estimators=400)\n",
    "    clf1.fit(X_train, y_train)\n",
    "\n",
    "    predict_Y = clf1.predict(X_test)\n",
    "    \n",
    "    ap = average_precision_score(y_test, predict_Y)\n",
    "    print(\"AP： \", ap)\n",
    "    fpr, tpr, _ = metrics.roc_curve(y_test, predict_Y, pos_label=1)\n",
    "    auc = metrics.auc(fpr, tpr)\n",
    "    print(\"AUC SCORE: \",auc)\n",
    "    \n",
    "    all_ap.append(ap)\n",
    "    all_auc.append(auc)\n",
    "\n",
    "print(\"####################### SUM UP ############################\")\n",
    "print(\"AP MEAN : \", np.array(all_ap).mean())\n",
    "print(\"AP STD : \", np.array(all_ap).std())\n",
    "print(\"AUC MEAN : \", np.array(all_auc).mean())\n",
    "print(\"AUC STD : \", np.array(all_auc).std())"
   ]
  },
  {
   "cell_type": "code",
   "execution_count": null,
   "id": "dc9b6125",
   "metadata": {},
   "outputs": [],
   "source": []
  }
 ],
 "metadata": {
  "kernelspec": {
   "display_name": "pytorch-env",
   "language": "python",
   "name": "pytorch"
  },
  "language_info": {
   "codemirror_mode": {
    "name": "ipython",
    "version": 3
   },
   "file_extension": ".py",
   "mimetype": "text/x-python",
   "name": "python",
   "nbconvert_exporter": "python",
   "pygments_lexer": "ipython3",
   "version": "3.9.7"
  },
  "toc": {
   "base_numbering": 1,
   "nav_menu": {},
   "number_sections": true,
   "sideBar": true,
   "skip_h1_title": false,
   "title_cell": "Table of Contents",
   "title_sidebar": "Contents",
   "toc_cell": false,
   "toc_position": {},
   "toc_section_display": true,
   "toc_window_display": false
  },
  "varInspector": {
   "cols": {
    "lenName": 16,
    "lenType": 16,
    "lenVar": 40
   },
   "kernels_config": {
    "python": {
     "delete_cmd_postfix": "",
     "delete_cmd_prefix": "del ",
     "library": "var_list.py",
     "varRefreshCmd": "print(var_dic_list())"
    },
    "r": {
     "delete_cmd_postfix": ") ",
     "delete_cmd_prefix": "rm(",
     "library": "var_list.r",
     "varRefreshCmd": "cat(var_dic_list()) "
    }
   },
   "types_to_exclude": [
    "module",
    "function",
    "builtin_function_or_method",
    "instance",
    "_Feature"
   ],
   "window_display": false
  }
 },
 "nbformat": 4,
 "nbformat_minor": 5
}
