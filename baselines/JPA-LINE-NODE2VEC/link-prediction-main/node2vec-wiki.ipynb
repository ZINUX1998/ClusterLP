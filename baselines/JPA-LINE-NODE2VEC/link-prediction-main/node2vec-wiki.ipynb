{
 "cells": [
  {
   "cell_type": "markdown",
   "id": "454eab00",
   "metadata": {},
   "source": [
    "# IMPORT FUNCFIONS"
   ]
  },
  {
   "cell_type": "code",
   "execution_count": 1,
   "id": "dd54ac7b",
   "metadata": {
    "ExecuteTime": {
     "end_time": "2022-10-30T07:17:24.353420Z",
     "start_time": "2022-10-30T07:17:23.143351Z"
    }
   },
   "outputs": [],
   "source": [
    "import pandas as pd\n",
    "import numpy as np\n",
    "import networkx as nx\n",
    "import itertools\n",
    "import pickle\n",
    "import os\n",
    "import random\n",
    "from sklearn.model_selection import train_test_split\n",
    "\n",
    "from sklearn.metrics import average_precision_score\n",
    "from sklearn import metrics\n",
    "\n",
    "from sklearn.ensemble import RandomForestClassifier\n",
    "from node2vec import Node2Vec\n",
    "from node2vec.edges import HadamardEmbedder, WeightedL1Embedder, WeightedL2Embedder\n",
    "from sklearn.linear_model import LogisticRegression"
   ]
  },
  {
   "cell_type": "markdown",
   "id": "3321a4ab",
   "metadata": {},
   "source": [
    "# READ DATA"
   ]
  },
  {
   "cell_type": "code",
   "execution_count": 2,
   "id": "7fa06711",
   "metadata": {
    "ExecuteTime": {
     "end_time": "2022-10-30T07:17:24.384301Z",
     "start_time": "2022-10-30T07:17:24.369851Z"
    }
   },
   "outputs": [],
   "source": [
    "def get_edges_dict(traindata):\n",
    "    if os.path.isfile(\"edgesdic.pkl\"):\n",
    "        f = open(\"edgesdic.pkl\",\"rb\")\n",
    "        edges = pickle.load(f)\n",
    "        f.close()\n",
    "        return edges\n",
    "    else:\n",
    "        edges = dict()\n",
    "        for edge in range(len(traindata)): \n",
    "            edges[(traindata.loc[[edge]]['id_1'].values[0],traindata.loc[[edge]]['id_2'].values[0])] = 1 \n",
    "            edges[(traindata.loc[[edge]]['id_2'].values[0],traindata.loc[[edge]]['id_1'].values[0])] = 1  \n",
    "        f = open(\"edgesdic.pkl\",\"wb\")\n",
    "        pickle.dump(edges,f)\n",
    "        f.close()\n",
    "        return edges\n",
    "\n",
    "def get_negative_edges(traindata,g):\n",
    "    edges = get_edges_dict(traindata)\n",
    "    # for missing edges.\n",
    "    negative_edges = set([])\n",
    "    maxNodenum = max(max(traindata['id_1']),max(traindata['id_2']))\n",
    "    #產生與原圖同edge數目的negative edges\n",
    "    while (len(negative_edges)<len(traindata)):\n",
    "        node1=random.randint(0, maxNodenum) \n",
    "        node2=random.randint(0, maxNodenum) \n",
    "        tmp = edges.get((node1,node2),0) #edge不在graph裡標為0\n",
    "        if tmp == 0 and node1!=node2 and g.has_node(node1) and g.has_node(node2): # if edge不在graph裡才要做處理\n",
    "            negative_edges.add((node1,node2))\n",
    "        else:\n",
    "            continue\n",
    "    return negative_edges"
   ]
  },
  {
   "cell_type": "markdown",
   "id": "e3b548e6",
   "metadata": {},
   "source": [
    "# MODELS"
   ]
  },
  {
   "cell_type": "code",
   "execution_count": 3,
   "id": "3f18b068",
   "metadata": {
    "ExecuteTime": {
     "end_time": "2022-10-30T07:17:25.256097Z",
     "start_time": "2022-10-30T07:17:25.236952Z"
    }
   },
   "outputs": [],
   "source": [
    "def n2v_embedding(train_G):  #https://github.com/eliorc/node2vec\n",
    "    node2vec  = Node2Vec(train_G, dimensions=24, walk_length=80, num_walks=10, workers=4, p=0.25, q=0.25)\n",
    "    model = node2vec.fit(window=10, min_count=1, batch_words=4)\n",
    "    edges_embs = HadamardEmbedder(keyed_vectors=model.wv)\n",
    "    return edges_embs"
   ]
  },
  {
   "cell_type": "code",
   "execution_count": 4,
   "id": "d7463fce",
   "metadata": {
    "ExecuteTime": {
     "end_time": "2022-10-30T07:17:25.848041Z",
     "start_time": "2022-10-30T07:17:25.829038Z"
    }
   },
   "outputs": [],
   "source": [
    "def n2v_combine_embedding(data, embeddings):\n",
    "    i=0\n",
    "    X = []\n",
    "    for edge in data:\n",
    "        X.append(np.concatenate((data[i], embeddings[(str(int(edge[0])), str(int(edge[1])))])))\n",
    "        # print(embeddings[str(int(data[0]))])\n",
    "        i+=1\n",
    "    return X"
   ]
  },
  {
   "cell_type": "code",
   "execution_count": 5,
   "id": "dea188e8",
   "metadata": {
    "ExecuteTime": {
     "end_time": "2022-10-30T07:32:16.851623Z",
     "start_time": "2022-10-30T07:17:39.760269Z"
    }
   },
   "outputs": [
    {
     "data": {
      "application/json": {
       "ascii": false,
       "bar_format": null,
       "colour": null,
       "elapsed": 0.011427640914916992,
       "initial": 0,
       "n": 0,
       "ncols": null,
       "nrows": 29,
       "postfix": null,
       "prefix": "Computing transition probabilities",
       "rate": null,
       "total": 2405,
       "unit": "it",
       "unit_divisor": 1000,
       "unit_scale": false
      },
      "application/vnd.jupyter.widget-view+json": {
       "model_id": "5da88bdfb16449708e18510e6d675c8b",
       "version_major": 2,
       "version_minor": 0
      },
      "text/plain": [
       "Computing transition probabilities:   0%|          | 0/2405 [00:00<?, ?it/s]"
      ]
     },
     "metadata": {},
     "output_type": "display_data"
    },
    {
     "name": "stdout",
     "output_type": "stream",
     "text": [
      "AP：  0.86989626645696\n",
      "AUC SCORE:  0.8818788215675374\n"
     ]
    },
    {
     "data": {
      "application/json": {
       "ascii": false,
       "bar_format": null,
       "colour": null,
       "elapsed": 0.011010408401489258,
       "initial": 0,
       "n": 0,
       "ncols": null,
       "nrows": 29,
       "postfix": null,
       "prefix": "Computing transition probabilities",
       "rate": null,
       "total": 2405,
       "unit": "it",
       "unit_divisor": 1000,
       "unit_scale": false
      },
      "application/vnd.jupyter.widget-view+json": {
       "model_id": "2c72a86867a647ee99927b56da729376",
       "version_major": 2,
       "version_minor": 0
      },
      "text/plain": [
       "Computing transition probabilities:   0%|          | 0/2405 [00:00<?, ?it/s]"
      ]
     },
     "metadata": {},
     "output_type": "display_data"
    },
    {
     "name": "stdout",
     "output_type": "stream",
     "text": [
      "AP：  0.8674335818224737\n",
      "AUC SCORE:  0.8796553640911616\n"
     ]
    },
    {
     "data": {
      "application/json": {
       "ascii": false,
       "bar_format": null,
       "colour": null,
       "elapsed": 0.00900411605834961,
       "initial": 0,
       "n": 0,
       "ncols": null,
       "nrows": 29,
       "postfix": null,
       "prefix": "Computing transition probabilities",
       "rate": null,
       "total": 2405,
       "unit": "it",
       "unit_divisor": 1000,
       "unit_scale": false
      },
      "application/vnd.jupyter.widget-view+json": {
       "model_id": "f528e6ae2044476c96d4aeea15f39b8c",
       "version_major": 2,
       "version_minor": 0
      },
      "text/plain": [
       "Computing transition probabilities:   0%|          | 0/2405 [00:00<?, ?it/s]"
      ]
     },
     "metadata": {},
     "output_type": "display_data"
    },
    {
     "name": "stdout",
     "output_type": "stream",
     "text": [
      "AP：  0.8762438680977992\n",
      "AUC SCORE:  0.8879933296275709\n"
     ]
    },
    {
     "data": {
      "application/json": {
       "ascii": false,
       "bar_format": null,
       "colour": null,
       "elapsed": 0.01000070571899414,
       "initial": 0,
       "n": 0,
       "ncols": null,
       "nrows": 29,
       "postfix": null,
       "prefix": "Computing transition probabilities",
       "rate": null,
       "total": 2405,
       "unit": "it",
       "unit_divisor": 1000,
       "unit_scale": false
      },
      "application/vnd.jupyter.widget-view+json": {
       "model_id": "44ba9f251fcb455597287ae9b2392baf",
       "version_major": 2,
       "version_minor": 0
      },
      "text/plain": [
       "Computing transition probabilities:   0%|          | 0/2405 [00:00<?, ?it/s]"
      ]
     },
     "metadata": {},
     "output_type": "display_data"
    },
    {
     "name": "stdout",
     "output_type": "stream",
     "text": [
      "AP：  0.87177304061599\n",
      "AUC SCORE:  0.8832684824902722\n"
     ]
    },
    {
     "data": {
      "application/json": {
       "ascii": false,
       "bar_format": null,
       "colour": null,
       "elapsed": 0.009208202362060547,
       "initial": 0,
       "n": 0,
       "ncols": null,
       "nrows": 29,
       "postfix": null,
       "prefix": "Computing transition probabilities",
       "rate": null,
       "total": 2405,
       "unit": "it",
       "unit_divisor": 1000,
       "unit_scale": false
      },
      "application/vnd.jupyter.widget-view+json": {
       "model_id": "cb04569fc731431a8d8638a1b744a2a4",
       "version_major": 2,
       "version_minor": 0
      },
      "text/plain": [
       "Computing transition probabilities:   0%|          | 0/2405 [00:00<?, ?it/s]"
      ]
     },
     "metadata": {},
     "output_type": "display_data"
    },
    {
     "name": "stdout",
     "output_type": "stream",
     "text": [
      "AP：  0.8643491297982449\n",
      "AUC SCORE:  0.8740967204002223\n"
     ]
    },
    {
     "data": {
      "application/json": {
       "ascii": false,
       "bar_format": null,
       "colour": null,
       "elapsed": 0.009008646011352539,
       "initial": 0,
       "n": 0,
       "ncols": null,
       "nrows": 29,
       "postfix": null,
       "prefix": "Computing transition probabilities",
       "rate": null,
       "total": 2405,
       "unit": "it",
       "unit_divisor": 1000,
       "unit_scale": false
      },
      "application/vnd.jupyter.widget-view+json": {
       "model_id": "80a8dd8fe4e244f89c1bea376ae5abb4",
       "version_major": 2,
       "version_minor": 0
      },
      "text/plain": [
       "Computing transition probabilities:   0%|          | 0/2405 [00:00<?, ?it/s]"
      ]
     },
     "metadata": {},
     "output_type": "display_data"
    },
    {
     "name": "stdout",
     "output_type": "stream",
     "text": [
      "AP：  0.870376152991873\n",
      "AUC SCORE:  0.8793774319066148\n"
     ]
    },
    {
     "data": {
      "application/json": {
       "ascii": false,
       "bar_format": null,
       "colour": null,
       "elapsed": 0.008995532989501953,
       "initial": 0,
       "n": 0,
       "ncols": null,
       "nrows": 29,
       "postfix": null,
       "prefix": "Computing transition probabilities",
       "rate": null,
       "total": 2405,
       "unit": "it",
       "unit_divisor": 1000,
       "unit_scale": false
      },
      "application/vnd.jupyter.widget-view+json": {
       "model_id": "de8da75dcbbe40b7b210e011209c9b90",
       "version_major": 2,
       "version_minor": 0
      },
      "text/plain": [
       "Computing transition probabilities:   0%|          | 0/2405 [00:00<?, ?it/s]"
      ]
     },
     "metadata": {},
     "output_type": "display_data"
    },
    {
     "name": "stdout",
     "output_type": "stream",
     "text": [
      "AP：  0.8713732143717319\n",
      "AUC SCORE:  0.8818788215675374\n"
     ]
    },
    {
     "data": {
      "application/json": {
       "ascii": false,
       "bar_format": null,
       "colour": null,
       "elapsed": 0.01032257080078125,
       "initial": 0,
       "n": 0,
       "ncols": null,
       "nrows": 29,
       "postfix": null,
       "prefix": "Computing transition probabilities",
       "rate": null,
       "total": 2405,
       "unit": "it",
       "unit_divisor": 1000,
       "unit_scale": false
      },
      "application/vnd.jupyter.widget-view+json": {
       "model_id": "45c210ebcf234be9b74725378a971087",
       "version_major": 2,
       "version_minor": 0
      },
      "text/plain": [
       "Computing transition probabilities:   0%|          | 0/2405 [00:00<?, ?it/s]"
      ]
     },
     "metadata": {},
     "output_type": "display_data"
    },
    {
     "name": "stdout",
     "output_type": "stream",
     "text": [
      "AP：  0.8689987535971901\n",
      "AUC SCORE:  0.8804891606448026\n"
     ]
    },
    {
     "data": {
      "application/json": {
       "ascii": false,
       "bar_format": null,
       "colour": null,
       "elapsed": 0.010126113891601562,
       "initial": 0,
       "n": 0,
       "ncols": null,
       "nrows": 29,
       "postfix": null,
       "prefix": "Computing transition probabilities",
       "rate": null,
       "total": 2405,
       "unit": "it",
       "unit_divisor": 1000,
       "unit_scale": false
      },
      "application/vnd.jupyter.widget-view+json": {
       "model_id": "18eb46bbb5d24f19ac006ddf63ace0b5",
       "version_major": 2,
       "version_minor": 0
      },
      "text/plain": [
       "Computing transition probabilities:   0%|          | 0/2405 [00:00<?, ?it/s]"
      ]
     },
     "metadata": {},
     "output_type": "display_data"
    },
    {
     "name": "stdout",
     "output_type": "stream",
     "text": [
      "AP：  0.8855850132197128\n",
      "AUC SCORE:  0.8966092273485269\n"
     ]
    },
    {
     "data": {
      "application/json": {
       "ascii": false,
       "bar_format": null,
       "colour": null,
       "elapsed": 0.01024937629699707,
       "initial": 0,
       "n": 0,
       "ncols": null,
       "nrows": 29,
       "postfix": null,
       "prefix": "Computing transition probabilities",
       "rate": null,
       "total": 2405,
       "unit": "it",
       "unit_divisor": 1000,
       "unit_scale": false
      },
      "application/vnd.jupyter.widget-view+json": {
       "model_id": "d3ae38a4eb3441d2afff13f6c2e043f3",
       "version_major": 2,
       "version_minor": 0
      },
      "text/plain": [
       "Computing transition probabilities:   0%|          | 0/2405 [00:00<?, ?it/s]"
      ]
     },
     "metadata": {},
     "output_type": "display_data"
    },
    {
     "name": "stdout",
     "output_type": "stream",
     "text": [
      "AP：  0.868443904498299\n",
      "AUC SCORE:  0.8799332962757086\n",
      "####################### SUM UP ############################\n",
      "AP MEAN :  0.8714472925470276\n",
      "AP STD :  0.0055502826508298615\n",
      "AUC MEAN :  0.8825180655919956\n",
      "AUC STD :  0.0057419067359686\n"
     ]
    }
   ],
   "source": [
    "all_ap = []\n",
    "all_auc = []\n",
    "\n",
    "filename = 'wiki'\n",
    "\n",
    "for i in range(10):\n",
    "    ori_df = pd.read_csv('data/'+filename+'.txt', header=None, sep=' ')\n",
    "    ori_df.columns = ['id_1', 'id_2']\n",
    "\n",
    "    ori_G = nx.from_pandas_edgelist(ori_df, 'id_1', 'id_2')\n",
    "    #print(nx.info(ori_G))\n",
    "    \n",
    "    negative_edges = get_negative_edges(ori_df, ori_G)\n",
    "    #print(len(negative_edges))\n",
    "\n",
    "    train_df, test_df = train_test_split(ori_df, test_size=0.1)\n",
    "    \n",
    "    nodes_number = len(ori_G.nodes)\n",
    "    graph_np = np.zeros((nodes_number, nodes_number))\n",
    "    for i in range(train_df.shape[0]):\n",
    "        graph_np[train_df.iloc[i, 0], train_df.iloc[i, 1]] = 1\n",
    "        graph_np[train_df.iloc[i, 1], train_df.iloc[i, 0]] = 1\n",
    "\n",
    "    train_G = nx.from_numpy_matrix(graph_np)\n",
    "    #print(nx.info(train_G))\n",
    "\n",
    "    edges_embs = n2v_embedding(train_G)\n",
    "    \n",
    "    df_neg = pd.DataFrame(list(negative_edges), columns=['id_1', 'id_2'])\n",
    "    \n",
    "    train_df = train_df.values\n",
    "    test_pos_df = test_df.values\n",
    "    df_neg = df_neg.values\n",
    "    \n",
    "    train_df = n2v_combine_embedding(train_df, edges_embs)\n",
    "    test_pos_df = n2v_combine_embedding(test_pos_df, edges_embs)\n",
    "    df_neg = n2v_combine_embedding(df_neg, edges_embs)\n",
    "    \n",
    "    X_train_neg, X_test_neg = train_test_split(df_neg, test_size=0.1)\n",
    "    \n",
    "    y_train_pos = np.ones(len(train_df))\n",
    "    y_train_neg = np.zeros(len(X_train_neg))\n",
    "    y_test_pos = np.ones(len(test_pos_df))\n",
    "    y_test_neg = np.zeros(len(X_test_neg))\n",
    "    \n",
    "    X_train = np.concatenate((train_df, X_train_neg))\n",
    "    y_train = np.concatenate((y_train_pos, y_train_neg))\n",
    "    X_test = np.concatenate((test_pos_df, X_test_neg))\n",
    "    y_test = np.concatenate((y_test_pos, y_test_neg))\n",
    "    \n",
    "    clf2 = RandomForestClassifier(n_estimators=400)\n",
    "    clf2.fit(X_train, y_train)\n",
    "    \n",
    "    predict_Y = clf2.predict(X_test)\n",
    "    \n",
    "    ap = average_precision_score(y_test, predict_Y)\n",
    "    print(\"AP： \", ap)\n",
    "    fpr, tpr, _ = metrics.roc_curve(y_test, predict_Y, pos_label=1)\n",
    "    auc = metrics.auc(fpr, tpr)\n",
    "    print(\"AUC SCORE: \",auc)\n",
    "    \n",
    "    all_ap.append(ap)\n",
    "    all_auc.append(auc)\n",
    "\n",
    "print(\"####################### SUM UP ############################\")\n",
    "print(\"AP MEAN : \", np.array(all_ap).mean())\n",
    "print(\"AP STD : \", np.array(all_ap).std())\n",
    "print(\"AUC MEAN : \", np.array(all_auc).mean())\n",
    "print(\"AUC STD : \", np.array(all_auc).std())"
   ]
  },
  {
   "cell_type": "code",
   "execution_count": null,
   "id": "f4afc898",
   "metadata": {},
   "outputs": [],
   "source": []
  }
 ],
 "metadata": {
  "kernelspec": {
   "display_name": "pytorch-env",
   "language": "python",
   "name": "pytorch"
  },
  "language_info": {
   "codemirror_mode": {
    "name": "ipython",
    "version": 3
   },
   "file_extension": ".py",
   "mimetype": "text/x-python",
   "name": "python",
   "nbconvert_exporter": "python",
   "pygments_lexer": "ipython3",
   "version": "3.9.7"
  },
  "toc": {
   "base_numbering": 1,
   "nav_menu": {},
   "number_sections": true,
   "sideBar": true,
   "skip_h1_title": false,
   "title_cell": "Table of Contents",
   "title_sidebar": "Contents",
   "toc_cell": false,
   "toc_position": {},
   "toc_section_display": true,
   "toc_window_display": false
  },
  "varInspector": {
   "cols": {
    "lenName": 16,
    "lenType": 16,
    "lenVar": 40
   },
   "kernels_config": {
    "python": {
     "delete_cmd_postfix": "",
     "delete_cmd_prefix": "del ",
     "library": "var_list.py",
     "varRefreshCmd": "print(var_dic_list())"
    },
    "r": {
     "delete_cmd_postfix": ") ",
     "delete_cmd_prefix": "rm(",
     "library": "var_list.r",
     "varRefreshCmd": "cat(var_dic_list()) "
    }
   },
   "types_to_exclude": [
    "module",
    "function",
    "builtin_function_or_method",
    "instance",
    "_Feature"
   ],
   "window_display": false
  }
 },
 "nbformat": 4,
 "nbformat_minor": 5
}
