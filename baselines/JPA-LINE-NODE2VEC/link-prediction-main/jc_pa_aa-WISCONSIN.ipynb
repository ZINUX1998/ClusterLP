{
 "cells": [
  {
   "cell_type": "markdown",
   "id": "454eab00",
   "metadata": {},
   "source": [
    "# IMPORT FUNCFIONS"
   ]
  },
  {
   "cell_type": "code",
   "execution_count": 1,
   "id": "dd54ac7b",
   "metadata": {
    "ExecuteTime": {
     "end_time": "2022-10-30T05:50:03.603082Z",
     "start_time": "2022-10-30T05:50:02.326395Z"
    }
   },
   "outputs": [],
   "source": [
    "import pandas as pd\n",
    "import numpy as np\n",
    "import networkx as nx\n",
    "import itertools\n",
    "import pickle\n",
    "import os\n",
    "import random\n",
    "from sklearn.model_selection import train_test_split\n",
    "\n",
    "from sklearn.metrics import average_precision_score\n",
    "from sklearn import metrics\n",
    "\n",
    "from sklearn.ensemble import RandomForestClassifier\n",
    "from node2vec import Node2Vec\n",
    "from node2vec.edges import HadamardEmbedder, WeightedL1Embedder, WeightedL2Embedder\n",
    "from sklearn.linear_model import LogisticRegression"
   ]
  },
  {
   "cell_type": "markdown",
   "id": "3321a4ab",
   "metadata": {},
   "source": [
    "# READ DATA"
   ]
  },
  {
   "cell_type": "code",
   "execution_count": 2,
   "id": "7fa06711",
   "metadata": {
    "ExecuteTime": {
     "end_time": "2022-10-30T05:50:04.220009Z",
     "start_time": "2022-10-30T05:50:04.211005Z"
    }
   },
   "outputs": [],
   "source": [
    "def get_edges_dict(traindata):\n",
    "    if os.path.isfile(\"edgesdic.pkl\"):\n",
    "        f = open(\"edgesdic.pkl\",\"rb\")\n",
    "        edges = pickle.load(f)\n",
    "        f.close()\n",
    "        return edges\n",
    "    else:\n",
    "        edges = dict()\n",
    "        for edge in range(len(traindata)): \n",
    "            edges[(traindata.loc[[edge]]['id_1'].values[0],traindata.loc[[edge]]['id_2'].values[0])] = 1 \n",
    "            edges[(traindata.loc[[edge]]['id_2'].values[0],traindata.loc[[edge]]['id_1'].values[0])] = 1  \n",
    "        f = open(\"edgesdic.pkl\",\"wb\")\n",
    "        pickle.dump(edges,f)\n",
    "        f.close()\n",
    "        return edges\n",
    "\n",
    "def get_negative_edges(traindata,g):\n",
    "    edges = get_edges_dict(traindata)\n",
    "    # for missing edges.\n",
    "    negative_edges = set([])\n",
    "    maxNodenum = max(max(traindata['id_1']),max(traindata['id_2']))\n",
    "    #產生與原圖同edge數目的negative edges\n",
    "    while (len(negative_edges)<len(traindata)):\n",
    "        node1=random.randint(0, maxNodenum) \n",
    "        node2=random.randint(0, maxNodenum) \n",
    "        tmp = edges.get((node1,node2),0) #edge不在graph裡標為0\n",
    "        if tmp == 0 and node1!=node2 and g.has_node(node1) and g.has_node(node2): # if edge不在graph裡才要做處理\n",
    "            negative_edges.add((node1,node2))\n",
    "        else:\n",
    "            continue\n",
    "    return negative_edges"
   ]
  },
  {
   "cell_type": "markdown",
   "id": "e3b548e6",
   "metadata": {},
   "source": [
    "# MODELS"
   ]
  },
  {
   "cell_type": "code",
   "execution_count": 3,
   "id": "4449f9fe",
   "metadata": {
    "ExecuteTime": {
     "end_time": "2022-10-30T05:50:05.429214Z",
     "start_time": "2022-10-30T05:50:05.411179Z"
    }
   },
   "outputs": [],
   "source": [
    "def get_proximity_score(G, edges, feature):\n",
    "    jc_list = [[] for i in itertools.repeat(None, len(edges))]\n",
    "    pa_list = [[] for i in itertools.repeat(None, len(edges))]\n",
    "    adar_list = [[] for i in itertools.repeat(None, len(edges))]\n",
    "    \n",
    "    jc = nx.jaccard_coefficient(G, edges)\n",
    "    pa = nx.preferential_attachment(G, edges)\n",
    "    aa = nx.adamic_adar_index(G, edges)\n",
    "\n",
    "    for i, data in enumerate(jc):\n",
    "        jc_list[i] = data[2]\n",
    "    for i, data in enumerate(pa):\n",
    "        pa_list[i] = data[2]\n",
    "    for i, data in enumerate(aa):\n",
    "        adar_list[i] = data[2]  \n",
    "    \n",
    "    if feature == 'jc':\n",
    "        return jc_list\n",
    "    elif feature == 'pa':\n",
    "        return pa_list\n",
    "    elif feature == 'aa':\n",
    "        return adar_list\n",
    "    else:\n",
    "        return jc_list, pa_list, adar_list\n",
    "    \n",
    "    return jc_list, pa_list, adar_list"
   ]
  },
  {
   "cell_type": "code",
   "execution_count": 4,
   "id": "9c3a7c31",
   "metadata": {
    "ExecuteTime": {
     "end_time": "2022-10-30T05:50:25.223486Z",
     "start_time": "2022-10-30T05:50:20.374852Z"
    }
   },
   "outputs": [
    {
     "name": "stdout",
     "output_type": "stream",
     "text": [
      "AP：  0.6529411764705881\n",
      "AUC SCORE:  0.6999999999999998\n",
      "AP：  0.6356125356125356\n",
      "AUC SCORE:  0.6888888888888889\n",
      "AP：  0.6403174603174604\n",
      "AUC SCORE:  0.688888888888889\n",
      "AP：  0.6529411764705881\n",
      "AUC SCORE:  0.6999999999999998\n",
      "AP：  0.6212121212121212\n",
      "AUC SCORE:  0.6666666666666666\n",
      "AP：  0.706060606060606\n",
      "AUC SCORE:  0.7666666666666666\n",
      "AP：  0.7072072072072073\n",
      "AUC SCORE:  0.7555555555555554\n",
      "AP：  0.630718954248366\n",
      "AUC SCORE:  0.6777777777777778\n",
      "AP：  0.6153846153846154\n",
      "AUC SCORE:  0.6666666666666667\n",
      "AP：  0.7175438596491228\n",
      "AUC SCORE:  0.7666666666666666\n",
      "####################### SUM UP ############################\n",
      "AP MEAN :  0.657993971263321\n",
      "AP STD :  0.03613221638062517\n",
      "AUC MEAN :  0.7077777777777777\n",
      "AUC STD :  0.037859388972001785\n"
     ]
    }
   ],
   "source": [
    "all_ap = []\n",
    "all_auc = []\n",
    "\n",
    "filename = 'wisconsin'\n",
    "\n",
    "for i in range(10):\n",
    "    ori_df = pd.read_csv('data/'+filename+'.txt', header=None, sep=' ')\n",
    "    ori_df.columns = ['id_1', 'id_2']\n",
    "\n",
    "    ori_G = nx.from_pandas_edgelist(ori_df, 'id_1', 'id_2')\n",
    "    #print(nx.info(ori_G))\n",
    "    \n",
    "    negative_edges = get_negative_edges(ori_df, ori_G)\n",
    "    #print(len(negative_edges))\n",
    "\n",
    "    train_df, test_df = train_test_split(ori_df, test_size=0.1)\n",
    "    \n",
    "    nodes_number = len(ori_G.nodes)\n",
    "    graph_np = np.zeros((nodes_number, nodes_number))\n",
    "    for i in range(train_df.shape[0]):\n",
    "        graph_np[train_df.iloc[i, 0], train_df.iloc[i, 1]] = 1\n",
    "        graph_np[train_df.iloc[i, 1], train_df.iloc[i, 0]] = 1\n",
    "\n",
    "    train_G = nx.from_numpy_matrix(graph_np)\n",
    "    #print(nx.info(train_G))\n",
    "\n",
    "    pos_edges = [(data.id_1, data.id_2) for data in train_df.itertuples()]\n",
    "\n",
    "    train_df['jc'], train_df['pa'], train_df['aa'] = get_proximity_score(train_G, pos_edges, 'all')\n",
    "\n",
    "    test_pos_edges = [(data.id_1, data.id_2) for data in test_df.itertuples()]\n",
    "    test_df['jc'], test_df['pa'], test_df['aa'] = get_proximity_score(train_G, test_pos_edges,'all')\n",
    "\n",
    "    df_neg = pd.DataFrame(list(negative_edges), columns=['id_1', 'id_2'])\n",
    "    neg_edges = list(negative_edges)\n",
    "\n",
    "    df_neg['jc'], df_neg['pa'], df_neg['aa'] = get_proximity_score(train_G, neg_edges, 'all')\n",
    "\n",
    "    X_train_neg, X_test_neg = train_test_split(df_neg, test_size=0.1)\n",
    "\n",
    "    y_train_pos = np.ones(len(train_df))\n",
    "    y_train_neg = np.zeros(len(X_train_neg))\n",
    "    y_test_pos = np.ones(len(test_df))\n",
    "    y_test_neg = np.zeros(len(X_test_neg))\n",
    "\n",
    "    X_train = np.concatenate((train_df, X_train_neg))\n",
    "    y_train = np.concatenate((y_train_pos, y_train_neg))\n",
    "    X_test = np.concatenate((test_df, X_test_neg))\n",
    "    y_test = np.concatenate((y_test_pos, y_test_neg))\n",
    "\n",
    "    clf1 = RandomForestClassifier(n_estimators=400)\n",
    "    clf1.fit(X_train, y_train)\n",
    "\n",
    "    predict_Y = clf1.predict(X_test)\n",
    "    \n",
    "    ap = average_precision_score(y_test, predict_Y)\n",
    "    print(\"AP： \", ap)\n",
    "    fpr, tpr, _ = metrics.roc_curve(y_test, predict_Y, pos_label=1)\n",
    "    auc = metrics.auc(fpr, tpr)\n",
    "    print(\"AUC SCORE: \",auc)\n",
    "    \n",
    "    all_ap.append(ap)\n",
    "    all_auc.append(auc)\n",
    "\n",
    "print(\"####################### SUM UP ############################\")\n",
    "print(\"AP MEAN : \", np.array(all_ap).mean())\n",
    "print(\"AP STD : \", np.array(all_ap).std())\n",
    "print(\"AUC MEAN : \", np.array(all_auc).mean())\n",
    "print(\"AUC STD : \", np.array(all_auc).std())"
   ]
  },
  {
   "cell_type": "code",
   "execution_count": null,
   "id": "dea188e8",
   "metadata": {},
   "outputs": [],
   "source": []
  }
 ],
 "metadata": {
  "kernelspec": {
   "display_name": "pytorch-env",
   "language": "python",
   "name": "pytorch"
  },
  "language_info": {
   "codemirror_mode": {
    "name": "ipython",
    "version": 3
   },
   "file_extension": ".py",
   "mimetype": "text/x-python",
   "name": "python",
   "nbconvert_exporter": "python",
   "pygments_lexer": "ipython3",
   "version": "3.9.7"
  },
  "toc": {
   "base_numbering": 1,
   "nav_menu": {},
   "number_sections": true,
   "sideBar": true,
   "skip_h1_title": false,
   "title_cell": "Table of Contents",
   "title_sidebar": "Contents",
   "toc_cell": false,
   "toc_position": {},
   "toc_section_display": true,
   "toc_window_display": false
  },
  "varInspector": {
   "cols": {
    "lenName": 16,
    "lenType": 16,
    "lenVar": 40
   },
   "kernels_config": {
    "python": {
     "delete_cmd_postfix": "",
     "delete_cmd_prefix": "del ",
     "library": "var_list.py",
     "varRefreshCmd": "print(var_dic_list())"
    },
    "r": {
     "delete_cmd_postfix": ") ",
     "delete_cmd_prefix": "rm(",
     "library": "var_list.r",
     "varRefreshCmd": "cat(var_dic_list()) "
    }
   },
   "types_to_exclude": [
    "module",
    "function",
    "builtin_function_or_method",
    "instance",
    "_Feature"
   ],
   "window_display": false
  }
 },
 "nbformat": 4,
 "nbformat_minor": 5
}
