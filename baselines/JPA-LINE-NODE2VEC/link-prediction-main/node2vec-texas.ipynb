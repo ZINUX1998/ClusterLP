{
 "cells": [
  {
   "cell_type": "markdown",
   "id": "454eab00",
   "metadata": {},
   "source": [
    "# IMPORT FUNCFIONS"
   ]
  },
  {
   "cell_type": "code",
   "execution_count": 1,
   "id": "dd54ac7b",
   "metadata": {
    "ExecuteTime": {
     "end_time": "2022-10-30T06:54:39.893297Z",
     "start_time": "2022-10-30T06:54:38.711819Z"
    }
   },
   "outputs": [],
   "source": [
    "import pandas as pd\n",
    "import numpy as np\n",
    "import networkx as nx\n",
    "import itertools\n",
    "import pickle\n",
    "import os\n",
    "import random\n",
    "from sklearn.model_selection import train_test_split\n",
    "\n",
    "from sklearn.metrics import average_precision_score\n",
    "from sklearn import metrics\n",
    "\n",
    "from sklearn.ensemble import RandomForestClassifier\n",
    "from node2vec import Node2Vec\n",
    "from node2vec.edges import HadamardEmbedder, WeightedL1Embedder, WeightedL2Embedder\n",
    "from sklearn.linear_model import LogisticRegression"
   ]
  },
  {
   "cell_type": "markdown",
   "id": "3321a4ab",
   "metadata": {},
   "source": [
    "# READ DATA"
   ]
  },
  {
   "cell_type": "code",
   "execution_count": 2,
   "id": "7fa06711",
   "metadata": {
    "ExecuteTime": {
     "end_time": "2022-10-30T06:54:39.924442Z",
     "start_time": "2022-10-30T06:54:39.911307Z"
    }
   },
   "outputs": [],
   "source": [
    "def get_edges_dict(traindata):\n",
    "    if os.path.isfile(\"edgesdic.pkl\"):\n",
    "        f = open(\"edgesdic.pkl\",\"rb\")\n",
    "        edges = pickle.load(f)\n",
    "        f.close()\n",
    "        return edges\n",
    "    else:\n",
    "        edges = dict()\n",
    "        for edge in range(len(traindata)): \n",
    "            edges[(traindata.loc[[edge]]['id_1'].values[0],traindata.loc[[edge]]['id_2'].values[0])] = 1 \n",
    "            edges[(traindata.loc[[edge]]['id_2'].values[0],traindata.loc[[edge]]['id_1'].values[0])] = 1  \n",
    "        f = open(\"edgesdic.pkl\",\"wb\")\n",
    "        pickle.dump(edges,f)\n",
    "        f.close()\n",
    "        return edges\n",
    "\n",
    "def get_negative_edges(traindata,g):\n",
    "    edges = get_edges_dict(traindata)\n",
    "    # for missing edges.\n",
    "    negative_edges = set([])\n",
    "    maxNodenum = max(max(traindata['id_1']),max(traindata['id_2']))\n",
    "    #產生與原圖同edge數目的negative edges\n",
    "    while (len(negative_edges)<len(traindata)):\n",
    "        node1=random.randint(0, maxNodenum) \n",
    "        node2=random.randint(0, maxNodenum) \n",
    "        tmp = edges.get((node1,node2),0) #edge不在graph裡標為0\n",
    "        if tmp == 0 and node1!=node2 and g.has_node(node1) and g.has_node(node2): # if edge不在graph裡才要做處理\n",
    "            negative_edges.add((node1,node2))\n",
    "        else:\n",
    "            continue\n",
    "    return negative_edges"
   ]
  },
  {
   "cell_type": "markdown",
   "id": "e3b548e6",
   "metadata": {},
   "source": [
    "# MODELS"
   ]
  },
  {
   "cell_type": "code",
   "execution_count": 3,
   "id": "3f18b068",
   "metadata": {
    "ExecuteTime": {
     "end_time": "2022-10-30T06:54:40.612639Z",
     "start_time": "2022-10-30T06:54:40.597671Z"
    }
   },
   "outputs": [],
   "source": [
    "def n2v_embedding(train_G):  #https://github.com/eliorc/node2vec\n",
    "    node2vec  = Node2Vec(train_G, dimensions=12, walk_length=10, num_walks=20, workers=4, p=0.25, q=0.25)\n",
    "    model = node2vec.fit(window=10, min_count=1, batch_words=4)\n",
    "    edges_embs = HadamardEmbedder(keyed_vectors=model.wv)\n",
    "    return edges_embs"
   ]
  },
  {
   "cell_type": "code",
   "execution_count": 4,
   "id": "d7463fce",
   "metadata": {
    "ExecuteTime": {
     "end_time": "2022-10-30T06:54:41.168730Z",
     "start_time": "2022-10-30T06:54:41.157727Z"
    }
   },
   "outputs": [],
   "source": [
    "def n2v_combine_embedding(data, embeddings):\n",
    "    i=0\n",
    "    X = []\n",
    "    for edge in data:\n",
    "        X.append(np.concatenate((data[i], embeddings[(str(int(edge[0])), str(int(edge[1])))])))\n",
    "        # print(embeddings[str(int(data[0]))])\n",
    "        i+=1\n",
    "    return X"
   ]
  },
  {
   "cell_type": "code",
   "execution_count": 5,
   "id": "dea188e8",
   "metadata": {
    "ExecuteTime": {
     "end_time": "2022-10-30T06:55:11.722096Z",
     "start_time": "2022-10-30T06:54:48.744551Z"
    }
   },
   "outputs": [
    {
     "data": {
      "application/json": {
       "ascii": false,
       "bar_format": null,
       "colour": null,
       "elapsed": 0.011749505996704102,
       "initial": 0,
       "n": 0,
       "ncols": null,
       "nrows": 29,
       "postfix": null,
       "prefix": "Computing transition probabilities",
       "rate": null,
       "total": 183,
       "unit": "it",
       "unit_divisor": 1000,
       "unit_scale": false
      },
      "application/vnd.jupyter.widget-view+json": {
       "model_id": "1355ddd36bee4cebac32e70d87678bba",
       "version_major": 2,
       "version_minor": 0
      },
      "text/plain": [
       "Computing transition probabilities:   0%|          | 0/183 [00:00<?, ?it/s]"
      ]
     },
     "metadata": {},
     "output_type": "display_data"
    },
    {
     "name": "stdout",
     "output_type": "stream",
     "text": [
      "AP：  0.7321428571428572\n",
      "AUC SCORE:  0.7321428571428572\n"
     ]
    },
    {
     "data": {
      "application/json": {
       "ascii": false,
       "bar_format": null,
       "colour": null,
       "elapsed": 0.009000539779663086,
       "initial": 0,
       "n": 0,
       "ncols": null,
       "nrows": 29,
       "postfix": null,
       "prefix": "Computing transition probabilities",
       "rate": null,
       "total": 183,
       "unit": "it",
       "unit_divisor": 1000,
       "unit_scale": false
      },
      "application/vnd.jupyter.widget-view+json": {
       "model_id": "ea1ecb11995f497aa06ae6b368aae8a5",
       "version_major": 2,
       "version_minor": 0
      },
      "text/plain": [
       "Computing transition probabilities:   0%|          | 0/183 [00:00<?, ?it/s]"
      ]
     },
     "metadata": {},
     "output_type": "display_data"
    },
    {
     "name": "stdout",
     "output_type": "stream",
     "text": [
      "AP：  0.7321428571428572\n",
      "AUC SCORE:  0.7321428571428572\n"
     ]
    },
    {
     "data": {
      "application/json": {
       "ascii": false,
       "bar_format": null,
       "colour": null,
       "elapsed": 0.012000799179077148,
       "initial": 0,
       "n": 0,
       "ncols": null,
       "nrows": 29,
       "postfix": null,
       "prefix": "Computing transition probabilities",
       "rate": null,
       "total": 183,
       "unit": "it",
       "unit_divisor": 1000,
       "unit_scale": false
      },
      "application/vnd.jupyter.widget-view+json": {
       "model_id": "92d140b230ea4f559d3dfcddd387292a",
       "version_major": 2,
       "version_minor": 0
      },
      "text/plain": [
       "Computing transition probabilities:   0%|          | 0/183 [00:00<?, ?it/s]"
      ]
     },
     "metadata": {},
     "output_type": "display_data"
    },
    {
     "name": "stdout",
     "output_type": "stream",
     "text": [
      "AP：  0.7521008403361344\n",
      "AUC SCORE:  0.7678571428571429\n"
     ]
    },
    {
     "data": {
      "application/json": {
       "ascii": false,
       "bar_format": null,
       "colour": null,
       "elapsed": 0.013638973236083984,
       "initial": 0,
       "n": 0,
       "ncols": null,
       "nrows": 29,
       "postfix": null,
       "prefix": "Computing transition probabilities",
       "rate": null,
       "total": 183,
       "unit": "it",
       "unit_divisor": 1000,
       "unit_scale": false
      },
      "application/vnd.jupyter.widget-view+json": {
       "model_id": "e24b681bb650469ba3ebc994d6f21c59",
       "version_major": 2,
       "version_minor": 0
      },
      "text/plain": [
       "Computing transition probabilities:   0%|          | 0/183 [00:00<?, ?it/s]"
      ]
     },
     "metadata": {},
     "output_type": "display_data"
    },
    {
     "name": "stdout",
     "output_type": "stream",
     "text": [
      "AP：  0.635989010989011\n",
      "AUC SCORE:  0.6607142857142857\n"
     ]
    },
    {
     "data": {
      "application/json": {
       "ascii": false,
       "bar_format": null,
       "colour": null,
       "elapsed": 0.01159358024597168,
       "initial": 0,
       "n": 0,
       "ncols": null,
       "nrows": 29,
       "postfix": null,
       "prefix": "Computing transition probabilities",
       "rate": null,
       "total": 183,
       "unit": "it",
       "unit_divisor": 1000,
       "unit_scale": false
      },
      "application/vnd.jupyter.widget-view+json": {
       "model_id": "66156fbce717438d89b13c30ce00278e",
       "version_major": 2,
       "version_minor": 0
      },
      "text/plain": [
       "Computing transition probabilities:   0%|          | 0/183 [00:00<?, ?it/s]"
      ]
     },
     "metadata": {},
     "output_type": "display_data"
    },
    {
     "name": "stdout",
     "output_type": "stream",
     "text": [
      "AP：  0.7698412698412698\n",
      "AUC SCORE:  0.7857142857142857\n"
     ]
    },
    {
     "data": {
      "application/json": {
       "ascii": false,
       "bar_format": null,
       "colour": null,
       "elapsed": 0.012226343154907227,
       "initial": 0,
       "n": 0,
       "ncols": null,
       "nrows": 29,
       "postfix": null,
       "prefix": "Computing transition probabilities",
       "rate": null,
       "total": 183,
       "unit": "it",
       "unit_divisor": 1000,
       "unit_scale": false
      },
      "application/vnd.jupyter.widget-view+json": {
       "model_id": "6fe8d68bb52a44b88f8efbfbef4cd91d",
       "version_major": 2,
       "version_minor": 0
      },
      "text/plain": [
       "Computing transition probabilities:   0%|          | 0/183 [00:00<?, ?it/s]"
      ]
     },
     "metadata": {},
     "output_type": "display_data"
    },
    {
     "name": "stdout",
     "output_type": "stream",
     "text": [
      "AP：  0.75\n",
      "AUC SCORE:  0.75\n"
     ]
    },
    {
     "data": {
      "application/json": {
       "ascii": false,
       "bar_format": null,
       "colour": null,
       "elapsed": 0.009999990463256836,
       "initial": 0,
       "n": 0,
       "ncols": null,
       "nrows": 29,
       "postfix": null,
       "prefix": "Computing transition probabilities",
       "rate": null,
       "total": 183,
       "unit": "it",
       "unit_divisor": 1000,
       "unit_scale": false
      },
      "application/vnd.jupyter.widget-view+json": {
       "model_id": "2711e2963e534d27a51ec5f3a35dbf68",
       "version_major": 2,
       "version_minor": 0
      },
      "text/plain": [
       "Computing transition probabilities:   0%|          | 0/183 [00:00<?, ?it/s]"
      ]
     },
     "metadata": {},
     "output_type": "display_data"
    },
    {
     "name": "stdout",
     "output_type": "stream",
     "text": [
      "AP：  0.5961538461538461\n",
      "AUC SCORE:  0.625\n"
     ]
    },
    {
     "data": {
      "application/json": {
       "ascii": false,
       "bar_format": null,
       "colour": null,
       "elapsed": 0.012032032012939453,
       "initial": 0,
       "n": 0,
       "ncols": null,
       "nrows": 29,
       "postfix": null,
       "prefix": "Computing transition probabilities",
       "rate": null,
       "total": 183,
       "unit": "it",
       "unit_divisor": 1000,
       "unit_scale": false
      },
      "application/vnd.jupyter.widget-view+json": {
       "model_id": "b72e22bb52c046df904d33d3e13e8882",
       "version_major": 2,
       "version_minor": 0
      },
      "text/plain": [
       "Computing transition probabilities:   0%|          | 0/183 [00:00<?, ?it/s]"
      ]
     },
     "metadata": {},
     "output_type": "display_data"
    },
    {
     "name": "stdout",
     "output_type": "stream",
     "text": [
      "AP：  0.7142857142857142\n",
      "AUC SCORE:  0.7142857142857143\n"
     ]
    },
    {
     "data": {
      "application/json": {
       "ascii": false,
       "bar_format": null,
       "colour": null,
       "elapsed": 0.016941070556640625,
       "initial": 0,
       "n": 0,
       "ncols": null,
       "nrows": 29,
       "postfix": null,
       "prefix": "Computing transition probabilities",
       "rate": null,
       "total": 183,
       "unit": "it",
       "unit_divisor": 1000,
       "unit_scale": false
      },
      "application/vnd.jupyter.widget-view+json": {
       "model_id": "f667ef6ee8484cb39c273784b449f5f3",
       "version_major": 2,
       "version_minor": 0
      },
      "text/plain": [
       "Computing transition probabilities:   0%|          | 0/183 [00:00<?, ?it/s]"
      ]
     },
     "metadata": {},
     "output_type": "display_data"
    },
    {
     "name": "stdout",
     "output_type": "stream",
     "text": [
      "AP：  0.6450892857142857\n",
      "AUC SCORE:  0.6785714285714287\n"
     ]
    },
    {
     "data": {
      "application/json": {
       "ascii": false,
       "bar_format": null,
       "colour": null,
       "elapsed": 0.009000301361083984,
       "initial": 0,
       "n": 0,
       "ncols": null,
       "nrows": 29,
       "postfix": null,
       "prefix": "Computing transition probabilities",
       "rate": null,
       "total": 183,
       "unit": "it",
       "unit_divisor": 1000,
       "unit_scale": false
      },
      "application/vnd.jupyter.widget-view+json": {
       "model_id": "6b7d3df33e634e1a9040831f886e93b5",
       "version_major": 2,
       "version_minor": 0
      },
      "text/plain": [
       "Computing transition probabilities:   0%|          | 0/183 [00:00<?, ?it/s]"
      ]
     },
     "metadata": {},
     "output_type": "display_data"
    },
    {
     "name": "stdout",
     "output_type": "stream",
     "text": [
      "AP：  0.6550751879699248\n",
      "AUC SCORE:  0.6964285714285714\n",
      "####################### SUM UP ############################\n",
      "AP MEAN :  0.6982820869575901\n",
      "AP STD :  0.05678736841053112\n",
      "AUC MEAN :  0.7142857142857143\n",
      "AUC STD :  0.0472455591261534\n"
     ]
    }
   ],
   "source": [
    "all_ap = []\n",
    "all_auc = []\n",
    "\n",
    "filename = 'texas'\n",
    "\n",
    "for i in range(10):\n",
    "    ori_df = pd.read_csv('data/'+filename+'.txt', header=None, sep=' ')\n",
    "    ori_df.columns = ['id_1', 'id_2']\n",
    "\n",
    "    ori_G = nx.from_pandas_edgelist(ori_df, 'id_1', 'id_2')\n",
    "    #print(nx.info(ori_G))\n",
    "    \n",
    "    negative_edges = get_negative_edges(ori_df, ori_G)\n",
    "    #print(len(negative_edges))\n",
    "\n",
    "    train_df, test_df = train_test_split(ori_df, test_size=0.1)\n",
    "    \n",
    "    nodes_number = len(ori_G.nodes)\n",
    "    graph_np = np.zeros((nodes_number, nodes_number))\n",
    "    for i in range(train_df.shape[0]):\n",
    "        graph_np[train_df.iloc[i, 0], train_df.iloc[i, 1]] = 1\n",
    "        graph_np[train_df.iloc[i, 1], train_df.iloc[i, 0]] = 1\n",
    "\n",
    "    train_G = nx.from_numpy_matrix(graph_np)\n",
    "    #print(nx.info(train_G))\n",
    "\n",
    "    edges_embs = n2v_embedding(train_G)\n",
    "    \n",
    "    df_neg = pd.DataFrame(list(negative_edges), columns=['id_1', 'id_2'])\n",
    "    \n",
    "    train_df = train_df.values\n",
    "    test_pos_df = test_df.values\n",
    "    df_neg = df_neg.values\n",
    "    \n",
    "    train_df = n2v_combine_embedding(train_df, edges_embs)\n",
    "    test_pos_df = n2v_combine_embedding(test_pos_df, edges_embs)\n",
    "    df_neg = n2v_combine_embedding(df_neg, edges_embs)\n",
    "    \n",
    "    X_train_neg, X_test_neg = train_test_split(df_neg, test_size=0.1)\n",
    "    \n",
    "    y_train_pos = np.ones(len(train_df))\n",
    "    y_train_neg = np.zeros(len(X_train_neg))\n",
    "    y_test_pos = np.ones(len(test_pos_df))\n",
    "    y_test_neg = np.zeros(len(X_test_neg))\n",
    "    \n",
    "    X_train = np.concatenate((train_df, X_train_neg))\n",
    "    y_train = np.concatenate((y_train_pos, y_train_neg))\n",
    "    X_test = np.concatenate((test_pos_df, X_test_neg))\n",
    "    y_test = np.concatenate((y_test_pos, y_test_neg))\n",
    "    \n",
    "    clf2 = RandomForestClassifier(n_estimators=400)\n",
    "    clf2.fit(X_train, y_train)\n",
    "    \n",
    "    predict_Y = clf2.predict(X_test)\n",
    "    \n",
    "    ap = average_precision_score(y_test, predict_Y)\n",
    "    print(\"AP： \", ap)\n",
    "    fpr, tpr, _ = metrics.roc_curve(y_test, predict_Y, pos_label=1)\n",
    "    auc = metrics.auc(fpr, tpr)\n",
    "    print(\"AUC SCORE: \",auc)\n",
    "    \n",
    "    all_ap.append(ap)\n",
    "    all_auc.append(auc)\n",
    "\n",
    "print(\"####################### SUM UP ############################\")\n",
    "print(\"AP MEAN : \", np.array(all_ap).mean())\n",
    "print(\"AP STD : \", np.array(all_ap).std())\n",
    "print(\"AUC MEAN : \", np.array(all_auc).mean())\n",
    "print(\"AUC STD : \", np.array(all_auc).std())"
   ]
  },
  {
   "cell_type": "code",
   "execution_count": null,
   "id": "f4afc898",
   "metadata": {},
   "outputs": [],
   "source": []
  }
 ],
 "metadata": {
  "kernelspec": {
   "display_name": "pytorch-env",
   "language": "python",
   "name": "pytorch"
  },
  "language_info": {
   "codemirror_mode": {
    "name": "ipython",
    "version": 3
   },
   "file_extension": ".py",
   "mimetype": "text/x-python",
   "name": "python",
   "nbconvert_exporter": "python",
   "pygments_lexer": "ipython3",
   "version": "3.9.7"
  },
  "toc": {
   "base_numbering": 1,
   "nav_menu": {},
   "number_sections": true,
   "sideBar": true,
   "skip_h1_title": false,
   "title_cell": "Table of Contents",
   "title_sidebar": "Contents",
   "toc_cell": false,
   "toc_position": {},
   "toc_section_display": true,
   "toc_window_display": false
  },
  "varInspector": {
   "cols": {
    "lenName": 16,
    "lenType": 16,
    "lenVar": 40
   },
   "kernels_config": {
    "python": {
     "delete_cmd_postfix": "",
     "delete_cmd_prefix": "del ",
     "library": "var_list.py",
     "varRefreshCmd": "print(var_dic_list())"
    },
    "r": {
     "delete_cmd_postfix": ") ",
     "delete_cmd_prefix": "rm(",
     "library": "var_list.r",
     "varRefreshCmd": "cat(var_dic_list()) "
    }
   },
   "types_to_exclude": [
    "module",
    "function",
    "builtin_function_or_method",
    "instance",
    "_Feature"
   ],
   "window_display": false
  }
 },
 "nbformat": 4,
 "nbformat_minor": 5
}
