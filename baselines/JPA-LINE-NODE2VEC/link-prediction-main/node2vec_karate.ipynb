{
 "cells": [
  {
   "cell_type": "code",
   "execution_count": 1,
   "id": "8d4c6546",
   "metadata": {
    "ExecuteTime": {
     "end_time": "2022-11-11T12:49:27.726015Z",
     "start_time": "2022-11-11T12:49:26.697252Z"
    }
   },
   "outputs": [],
   "source": [
    "import pandas as pd\n",
    "import numpy as np\n",
    "import networkx as nx\n",
    "import itertools\n",
    "import pickle\n",
    "import os\n",
    "import random\n",
    "from sklearn.model_selection import train_test_split\n",
    "\n",
    "from sklearn.metrics import average_precision_score\n",
    "from sklearn import metrics\n",
    "\n",
    "from sklearn.ensemble import RandomForestClassifier\n",
    "from node2vec import Node2Vec\n",
    "from node2vec.edges import HadamardEmbedder, WeightedL1Embedder, WeightedL2Embedder\n",
    "from sklearn.linear_model import LogisticRegression"
   ]
  },
  {
   "cell_type": "code",
   "execution_count": 2,
   "id": "50fa8739",
   "metadata": {
    "ExecuteTime": {
     "end_time": "2022-11-11T12:49:27.912770Z",
     "start_time": "2022-11-11T12:49:27.899741Z"
    }
   },
   "outputs": [],
   "source": [
    "def n2v_embedding(train_G):  #https://github.com/eliorc/node2vec\n",
    "    node2vec  = Node2Vec(train_G, dimensions=12, walk_length=80, num_walks=20, workers=4, p=0.25, q=0.25)\n",
    "    model = node2vec.fit(window=20, min_count=1, batch_words=16)\n",
    "    edges_embs = HadamardEmbedder(keyed_vectors=model.wv)\n",
    "    return edges_embs"
   ]
  },
  {
   "cell_type": "code",
   "execution_count": 3,
   "id": "b2ea376f",
   "metadata": {
    "ExecuteTime": {
     "end_time": "2022-11-11T12:49:28.098374Z",
     "start_time": "2022-11-11T12:49:28.084597Z"
    }
   },
   "outputs": [],
   "source": [
    "def n2v_combine_embedding(data, embeddings):\n",
    "    i=0\n",
    "    X = []\n",
    "    for edge in data:\n",
    "        X.append(np.concatenate((data[i], embeddings[(str(int(edge[0])), str(int(edge[1])))])))\n",
    "        # print(embeddings[str(int(data[0]))])\n",
    "        i+=1\n",
    "    return X"
   ]
  },
  {
   "cell_type": "code",
   "execution_count": 4,
   "id": "e4656ab9",
   "metadata": {
    "ExecuteTime": {
     "end_time": "2022-11-11T12:49:28.283887Z",
     "start_time": "2022-11-11T12:49:28.269389Z"
    }
   },
   "outputs": [],
   "source": [
    "def get_edges_dict(traindata):\n",
    "    if os.path.isfile(\"edgesdic.pkl\"):\n",
    "        f = open(\"edgesdic.pkl\",\"rb\")\n",
    "        edges = pickle.load(f)\n",
    "        f.close()\n",
    "        return edges\n",
    "    else:\n",
    "        edges = dict()\n",
    "        for edge in range(len(traindata)): \n",
    "            edges[(traindata.loc[[edge]]['id_1'].values[0],traindata.loc[[edge]]['id_2'].values[0])] = 1 \n",
    "            edges[(traindata.loc[[edge]]['id_2'].values[0],traindata.loc[[edge]]['id_1'].values[0])] = 1  \n",
    "        f = open(\"edgesdic.pkl\",\"wb\")\n",
    "        pickle.dump(edges,f)\n",
    "        f.close()\n",
    "        return edges\n",
    "\n",
    "def get_negative_edges(traindata,g):\n",
    "    edges = get_edges_dict(traindata)\n",
    "    # for missing edges.\n",
    "    negative_edges = set([])\n",
    "    maxNodenum = max(max(traindata['id_1']),max(traindata['id_2']))\n",
    "    #產生與原圖同edge數目的negative edges\n",
    "    while (len(negative_edges)<len(traindata)*2):\n",
    "        node1=random.randint(0, maxNodenum) \n",
    "        node2=random.randint(0, maxNodenum) \n",
    "        tmp = edges.get((node1,node2),0) #edge不在graph裡標為0\n",
    "        if tmp == 0 and node1!=node2 and g.has_node(node1) and g.has_node(node2): # if edge不在graph裡才要做處理\n",
    "            negative_edges.add((node1,node2))\n",
    "        else:\n",
    "            continue\n",
    "    return negative_edges"
   ]
  },
  {
   "cell_type": "code",
   "execution_count": 5,
   "id": "ea72ce6e",
   "metadata": {
    "ExecuteTime": {
     "end_time": "2022-11-11T12:49:29.985602Z",
     "start_time": "2022-11-11T12:49:28.458230Z"
    }
   },
   "outputs": [
    {
     "data": {
      "application/json": {
       "ascii": false,
       "bar_format": null,
       "colour": null,
       "elapsed": 0.015006065368652344,
       "initial": 0,
       "n": 0,
       "ncols": null,
       "nrows": 29,
       "postfix": null,
       "prefix": "Computing transition probabilities",
       "rate": null,
       "total": 34,
       "unit": "it",
       "unit_divisor": 1000,
       "unit_scale": false
      },
      "application/vnd.jupyter.widget-view+json": {
       "model_id": "c76e28a9cfdb435c821dbf7de392ab66",
       "version_major": 2,
       "version_minor": 0
      },
      "text/plain": [
       "Computing transition probabilities:   0%|          | 0/34 [00:00<?, ?it/s]"
      ]
     },
     "metadata": {},
     "output_type": "display_data"
    }
   ],
   "source": [
    "ori_df = pd.read_csv('data/karate_edges.txt', header=None, sep=' ')\n",
    "ori_df.columns = ['id_1', 'id_2']\n",
    "\n",
    "ori_G = nx.from_pandas_edgelist(ori_df, 'id_1', 'id_2')\n",
    "\n",
    "edges_embs = n2v_embedding(ori_G)   # 生成边的表示向量"
   ]
  },
  {
   "cell_type": "code",
   "execution_count": 6,
   "id": "e1c1646d",
   "metadata": {
    "ExecuteTime": {
     "end_time": "2022-11-11T12:49:30.186710Z",
     "start_time": "2022-11-11T12:49:30.160737Z"
    }
   },
   "outputs": [],
   "source": [
    "train_df = ori_df.values\n",
    "\n",
    "train_df = n2v_combine_embedding(train_df, edges_embs)\n",
    "\n",
    "y_train_pos = np.ones(len(train_df))\n",
    "\n",
    "negative_edges = get_negative_edges(ori_df, ori_G)\n",
    "\n",
    "df_neg = pd.DataFrame(list(negative_edges), columns=['id_1', 'id_2'])\n",
    "df_neg = df_neg.values\n",
    "\n",
    "df_neg = n2v_combine_embedding(df_neg, edges_embs)\n",
    "\n",
    "X_train_neg = df_neg\n",
    "\n",
    "y_train_neg = np.zeros(len(X_train_neg))\n",
    "\n",
    "y_train = np.concatenate((y_train_pos, y_train_neg))\n",
    "\n",
    "X_train = np.concatenate((train_df, X_train_neg))"
   ]
  },
  {
   "cell_type": "code",
   "execution_count": 7,
   "id": "003f56d2",
   "metadata": {
    "ExecuteTime": {
     "end_time": "2022-11-11T12:49:31.644687Z",
     "start_time": "2022-11-11T12:49:31.249085Z"
    }
   },
   "outputs": [
    {
     "data": {
      "text/plain": [
       "RandomForestClassifier(n_estimators=400)"
      ]
     },
     "execution_count": 7,
     "metadata": {},
     "output_type": "execute_result"
    }
   ],
   "source": [
    "clf2 = RandomForestClassifier(n_estimators=400)\n",
    "\n",
    "clf2.fit(X_train, y_train)"
   ]
  },
  {
   "cell_type": "code",
   "execution_count": 8,
   "id": "3842a18a",
   "metadata": {
    "ExecuteTime": {
     "end_time": "2022-11-11T12:49:32.731508Z",
     "start_time": "2022-11-11T12:49:32.654441Z"
    }
   },
   "outputs": [],
   "source": [
    "all_edges = []\n",
    "for i in range(34):\n",
    "    for j in range(34):\n",
    "        all_edges.append([i, j])\n",
    "        \n",
    "all_edges = pd.DataFrame(all_edges, columns=['id1', 'id2'])\n",
    "\n",
    "all_df = all_edges.values\n",
    "all_df = n2v_combine_embedding(all_df, edges_embs)\n",
    "\n",
    "all_df = np.array([list(all_df[i]) for i in range(len(all_df))])\n",
    "predict_Y = clf2.predict(all_df)\n",
    "adj_rec = predict_Y.reshape(34, 34)"
   ]
  },
  {
   "cell_type": "code",
   "execution_count": 9,
   "id": "376f54f5",
   "metadata": {
    "ExecuteTime": {
     "end_time": "2022-11-11T12:49:33.788316Z",
     "start_time": "2022-11-11T12:49:33.775326Z"
    }
   },
   "outputs": [],
   "source": [
    "import copy\n",
    "from sklearn.metrics import accuracy_score, f1_score, precision_score, recall_score\n",
    "\n",
    "for i in range(34):\n",
    "    for j in range(34):\n",
    "        if i>=j :\n",
    "            adj_rec[i, j] = 0\n",
    "\n",
    "adj_rec = adj_rec + adj_rec.T"
   ]
  },
  {
   "cell_type": "code",
   "execution_count": 10,
   "id": "cffe2f5d",
   "metadata": {
    "ExecuteTime": {
     "end_time": "2022-11-11T12:49:34.840392Z",
     "start_time": "2022-11-11T12:49:34.812639Z"
    }
   },
   "outputs": [
    {
     "name": "stdout",
     "output_type": "stream",
     "text": [
      "edges：  176.0\n",
      "ACC：  0.8235294117647058\n",
      "AP：  0.6348794063079777\n",
      "RECALL：  0.6491282051282051\n",
      "F1 SCORE：  0.6412559328221978\n"
     ]
    }
   ],
   "source": [
    "predict_edges = adj_rec.reshape(adj_rec.shape[0]*adj_rec.shape[0])\n",
    "\n",
    "adj_true = nx.adjacency_matrix(ori_G).todense()\n",
    "adj_true = np.array(adj_true)\n",
    "true_edges = adj_true.reshape(34*34)\n",
    "\n",
    "print(\"edges： \",predict_edges.sum())\n",
    "print(\"ACC： \",accuracy_score(true_edges, predict_edges))\n",
    "print(\"AP： \",precision_score(true_edges, predict_edges, average='macro'))\n",
    "print(\"RECALL： \",recall_score(true_edges, predict_edges, average='macro'))\n",
    "print(\"F1 SCORE： \",f1_score(true_edges, predict_edges, average='macro'))"
   ]
  },
  {
   "cell_type": "code",
   "execution_count": 11,
   "id": "bcd8da44",
   "metadata": {
    "ExecuteTime": {
     "end_time": "2022-11-11T12:49:36.205052Z",
     "start_time": "2022-11-11T12:49:36.199027Z"
    }
   },
   "outputs": [],
   "source": [
    "predict_graph = predict_edges.reshape(34, 34)\n",
    "pd.DataFrame(predict_graph).to_csv('NODE2VEC_recon_karate.txt', header=None, index=False, sep=' ')"
   ]
  },
  {
   "cell_type": "code",
   "execution_count": null,
   "id": "83422b5e",
   "metadata": {},
   "outputs": [],
   "source": []
  }
 ],
 "metadata": {
  "kernelspec": {
   "display_name": "pytorch-env",
   "language": "python",
   "name": "pytorch"
  },
  "language_info": {
   "codemirror_mode": {
    "name": "ipython",
    "version": 3
   },
   "file_extension": ".py",
   "mimetype": "text/x-python",
   "name": "python",
   "nbconvert_exporter": "python",
   "pygments_lexer": "ipython3",
   "version": "3.9.7"
  },
  "toc": {
   "base_numbering": 1,
   "nav_menu": {},
   "number_sections": true,
   "sideBar": true,
   "skip_h1_title": false,
   "title_cell": "Table of Contents",
   "title_sidebar": "Contents",
   "toc_cell": false,
   "toc_position": {},
   "toc_section_display": true,
   "toc_window_display": false
  },
  "varInspector": {
   "cols": {
    "lenName": 16,
    "lenType": 16,
    "lenVar": 40
   },
   "kernels_config": {
    "python": {
     "delete_cmd_postfix": "",
     "delete_cmd_prefix": "del ",
     "library": "var_list.py",
     "varRefreshCmd": "print(var_dic_list())"
    },
    "r": {
     "delete_cmd_postfix": ") ",
     "delete_cmd_prefix": "rm(",
     "library": "var_list.r",
     "varRefreshCmd": "cat(var_dic_list()) "
    }
   },
   "types_to_exclude": [
    "module",
    "function",
    "builtin_function_or_method",
    "instance",
    "_Feature"
   ],
   "window_display": false
  }
 },
 "nbformat": 4,
 "nbformat_minor": 5
}
