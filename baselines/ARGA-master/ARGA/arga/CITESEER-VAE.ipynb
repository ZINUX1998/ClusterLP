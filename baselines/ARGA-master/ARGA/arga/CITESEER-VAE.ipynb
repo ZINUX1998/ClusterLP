{
 "cells": [
  {
   "cell_type": "code",
   "execution_count": 1,
   "id": "65775001",
   "metadata": {
    "ExecuteTime": {
     "end_time": "2022-10-29T05:41:03.748314Z",
     "start_time": "2022-10-29T05:40:58.173302Z"
    }
   },
   "outputs": [],
   "source": [
    "import settings\n",
    "from link_prediction import Link_pred_Runner\n",
    "dataname = 'citeseer'       # 'cora' or 'wiki' or 'email' or 'citeseer' or 'celegans' or 'polbooks' or 'texas' or 'wisconsin'\n",
    "model = 'arga_vae'     # 'arga_ae' or 'arga_vae'\n",
    "task = 'link_prediction'         # 'clustering' or 'link_prediction'\n",
    "settings = settings.get_settings(dataname, model, task)\n",
    "runner = Link_pred_Runner(settings)"
   ]
  },
  {
   "cell_type": "code",
   "execution_count": 2,
   "id": "254bd93d",
   "metadata": {
    "ExecuteTime": {
     "end_time": "2022-10-29T05:50:08.805306Z",
     "start_time": "2022-10-29T05:41:03.765991Z"
    }
   },
   "outputs": [
    {
     "name": "stdout",
     "output_type": "stream",
     "text": [
      "WARNING:tensorflow:From C:\\Users\\zhangshanfan\\Desktop\\无向图\\ARGA-master\\ARGA\\arga\\model.py:143: The name tf.variable_scope is deprecated. Please use tf.compat.v1.variable_scope instead.\n",
      "\n",
      "WARNING:tensorflow:From C:\\Users\\zhangshanfan\\Desktop\\无向图\\ARGA-master\\ARGA\\arga\\model.py:145: The name tf.set_random_seed is deprecated. Please use tf.compat.v1.set_random_seed instead.\n",
      "\n",
      "WARNING:tensorflow:From C:\\Users\\zhangshanfan\\Desktop\\无向图\\ARGA-master\\ARGA\\arga\\model.py:147: The name tf.get_variable is deprecated. Please use tf.compat.v1.get_variable instead.\n",
      "\n",
      "WARNING:tensorflow:From C:\\Users\\zhangshanfan\\Desktop\\无向图\\ARGA-master\\ARGA\\arga\\layers.py:27: The name tf.random_uniform is deprecated. Please use tf.random.uniform instead.\n",
      "\n",
      "WARNING:tensorflow:From C:\\Users\\zhangshanfan\\Desktop\\无向图\\ARGA-master\\ARGA\\arga\\layers.py:101: The name tf.sparse_tensor_dense_matmul is deprecated. Please use tf.sparse.sparse_dense_matmul instead.\n",
      "\n",
      "WARNING:tensorflow:From C:\\Users\\zhangshanfan\\Desktop\\无向图\\ARGA-master\\ARGA\\arga\\layers.py:79: calling dropout (from tensorflow.python.ops.nn_ops) with keep_prob is deprecated and will be removed in a future version.\n",
      "Instructions for updating:\n",
      "Please use `rate` instead of `keep_prob`. Rate should be set to `rate = 1 - keep_prob`.\n",
      "WARNING:tensorflow:From C:\\Users\\zhangshanfan\\Desktop\\无向图\\ARGA-master\\ARGA\\arga\\model.py:126: The name tf.random_normal is deprecated. Please use tf.random.normal instead.\n",
      "\n",
      "WARNING:tensorflow:From C:\\Users\\zhangshanfan\\Desktop\\无向图\\ARGA-master\\ARGA\\arga\\constructor.py:101: The name tf.sparse_tensor_to_dense is deprecated. Please use tf.sparse.to_dense instead.\n",
      "\n",
      "WARNING:tensorflow:From C:\\Users\\zhangshanfan\\.conda\\envs\\tf1.x\\lib\\site-packages\\tensorflow_core\\python\\ops\\nn_impl.py:183: where (from tensorflow.python.ops.array_ops) is deprecated and will be removed in a future version.\n",
      "Instructions for updating:\n",
      "Use tf.where in 2.0, which has the same broadcast rule as np.where\n",
      "WARNING:tensorflow:From C:\\Users\\zhangshanfan\\Desktop\\无向图\\ARGA-master\\ARGA\\arga\\optimizer.py:67: calling weighted_cross_entropy_with_logits (from tensorflow.python.ops.nn_impl) with targets is deprecated and will be removed in a future version.\n",
      "Instructions for updating:\n",
      "targets is deprecated, use labels instead\n",
      "WARNING:tensorflow:From C:\\Users\\zhangshanfan\\Desktop\\无向图\\ARGA-master\\ARGA\\arga\\optimizer.py:68: The name tf.train.AdamOptimizer is deprecated. Please use tf.compat.v1.train.AdamOptimizer instead.\n",
      "\n",
      "WARNING:tensorflow:From C:\\Users\\zhangshanfan\\Desktop\\无向图\\ARGA-master\\ARGA\\arga\\optimizer.py:70: The name tf.trainable_variables is deprecated. Please use tf.compat.v1.trainable_variables instead.\n",
      "\n",
      "WARNING:tensorflow:From C:\\Users\\zhangshanfan\\Desktop\\无向图\\ARGA-master\\ARGA\\arga\\optimizer.py:75: The name tf.get_variable_scope is deprecated. Please use tf.compat.v1.get_variable_scope instead.\n",
      "\n",
      "Test AP score: 0.7400274108310405\n",
      "Test ROC score: 0.7170438352855935\n",
      "Test AP score: 0.7542706786746075\n",
      "Test ROC score: 0.7173916193696414\n",
      "Test AP score: 0.7402195600464879\n",
      "Test ROC score: 0.6965656321700278\n",
      "Test AP score: 0.7336555922855155\n",
      "Test ROC score: 0.6831397174254318\n",
      "Test AP score: 0.7287343618792661\n",
      "Test ROC score: 0.6713295495713079\n",
      "Test AP score: 0.7253433783315112\n",
      "Test ROC score: 0.6617751479289942\n",
      "Test AP score: 0.731556786893788\n",
      "Test ROC score: 0.6741746165921989\n",
      "Test AP score: 0.755362094751872\n",
      "Test ROC score: 0.7206714164955923\n",
      "Test AP score: 0.7611381175617077\n",
      "Test ROC score: 0.7317570341746165\n",
      "Test AP score: 0.7598333250911742\n",
      "Test ROC score: 0.7312595097210483\n",
      "Test AP score: 0.7617289175129992\n",
      "Test ROC score: 0.7322352372901824\n",
      "Test AP score: 0.7614681769818126\n",
      "Test ROC score: 0.7311822243690376\n",
      "Test AP score: 0.7626299849319128\n",
      "Test ROC score: 0.7299070160608623\n",
      "Test AP score: 0.7661226738245213\n",
      "Test ROC score: 0.7320420239101557\n",
      "Test AP score: 0.769586854861182\n",
      "Test ROC score: 0.7348629392585437\n",
      "Test AP score: 0.770540062803821\n",
      "Test ROC score: 0.7367371090448013\n",
      "Test AP score: 0.7713703015885031\n",
      "Test ROC score: 0.7372298031638691\n",
      "Test AP score: 0.7726759428766771\n",
      "Test ROC score: 0.7380606206979833\n",
      "Test AP score: 0.7741191958834919\n",
      "Test ROC score: 0.738152397053496\n",
      "Test AP score: 0.7777353417033664\n",
      "Test ROC score: 0.740335708247796\n",
      "Test AP score: 0.7797598159141801\n",
      "Test ROC score: 0.7413935515034416\n",
      "Test AP score: 0.7830048515230845\n",
      "Test ROC score: 0.7446733486293926\n",
      "Test AP score: 0.785793306664189\n",
      "Test ROC score: 0.7471464798937326\n",
      "Test AP score: 0.7877178548007994\n",
      "Test ROC score: 0.7487163386064484\n",
      "Test AP score: 0.7920734586607497\n",
      "Test ROC score: 0.7515855572998431\n",
      "Test AP score: 0.7962036387467735\n",
      "Test ROC score: 0.7544016423137302\n",
      "Test AP score: 0.8004003876824706\n",
      "Test ROC score: 0.756116411061466\n",
      "Test AP score: 0.8034248416230121\n",
      "Test ROC score: 0.7575606810771647\n",
      "Test AP score: 0.8045697500762412\n",
      "Test ROC score: 0.7575896630841686\n",
      "Test AP score: 0.8056165207499778\n",
      "Test ROC score: 0.7576524574326772\n",
      "Test AP score: 0.8063513215327633\n",
      "Test ROC score: 0.7584011592802802\n",
      "Test AP score: 0.8072501347566265\n",
      "Test ROC score: 0.758676488346818\n",
      "Test AP score: 0.8084325082220455\n",
      "Test ROC score: 0.7592368071488951\n",
      "Test AP score: 0.8087426656854921\n",
      "Test ROC score: 0.7588069073783359\n",
      "Test AP score: 0.8106022572426471\n",
      "Test ROC score: 0.7603767660910519\n",
      "Test AP score: 0.8117575442204454\n",
      "Test ROC score: 0.7610481825866441\n",
      "Test AP score: 0.812936374924147\n",
      "Test ROC score: 0.761695447409733\n",
      "Test AP score: 0.8147068405673964\n",
      "Test ROC score: 0.7628547276898925\n",
      "Test AP score: 0.8162216715673001\n",
      "Test ROC score: 0.7638497765970294\n",
      "Test AP score: 0.8176599587114284\n",
      "Test ROC score: 0.7651394759087067\n"
     ]
    },
    {
     "data": {
      "text/plain": [
       "(0.8176599587114284, 0.7651394759087067)"
      ]
     },
     "execution_count": 2,
     "metadata": {},
     "output_type": "execute_result"
    }
   ],
   "source": [
    "runner.erun()"
   ]
  },
  {
   "cell_type": "code",
   "execution_count": null,
   "id": "51c11174",
   "metadata": {},
   "outputs": [],
   "source": []
  }
 ],
 "metadata": {
  "kernelspec": {
   "display_name": "tf1.15",
   "language": "python",
   "name": "tf1.15"
  },
  "language_info": {
   "codemirror_mode": {
    "name": "ipython",
    "version": 3
   },
   "file_extension": ".py",
   "mimetype": "text/x-python",
   "name": "python",
   "nbconvert_exporter": "python",
   "pygments_lexer": "ipython3",
   "version": "3.6.13"
  },
  "toc": {
   "base_numbering": 1,
   "nav_menu": {},
   "number_sections": true,
   "sideBar": true,
   "skip_h1_title": false,
   "title_cell": "Table of Contents",
   "title_sidebar": "Contents",
   "toc_cell": false,
   "toc_position": {},
   "toc_section_display": true,
   "toc_window_display": false
  },
  "varInspector": {
   "cols": {
    "lenName": 16,
    "lenType": 16,
    "lenVar": 40
   },
   "kernels_config": {
    "python": {
     "delete_cmd_postfix": "",
     "delete_cmd_prefix": "del ",
     "library": "var_list.py",
     "varRefreshCmd": "print(var_dic_list())"
    },
    "r": {
     "delete_cmd_postfix": ") ",
     "delete_cmd_prefix": "rm(",
     "library": "var_list.r",
     "varRefreshCmd": "cat(var_dic_list()) "
    }
   },
   "types_to_exclude": [
    "module",
    "function",
    "builtin_function_or_method",
    "instance",
    "_Feature"
   ],
   "window_display": false
  }
 },
 "nbformat": 4,
 "nbformat_minor": 5
}
