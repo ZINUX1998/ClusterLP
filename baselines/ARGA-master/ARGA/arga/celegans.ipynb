{
 "cells": [
  {
   "cell_type": "code",
   "execution_count": 1,
   "id": "65775001",
   "metadata": {
    "ExecuteTime": {
     "end_time": "2022-10-29T06:27:35.698249Z",
     "start_time": "2022-10-29T06:27:33.670444Z"
    }
   },
   "outputs": [],
   "source": [
    "import settings\n",
    "from link_prediction import Link_pred_Runner\n",
    "dataname = 'celegans'       # 'cora' or 'wiki' or 'email' or 'citeseer' or 'celegans' or 'polbooks' or 'texas' or 'wisconsin'\n",
    "model = 'arga_ae'     # 'arga_ae' or 'arga_vae'\n",
    "task = 'link_prediction'         # 'clustering' or 'link_prediction'\n",
    "settings = settings.get_settings(dataname, model, task)\n",
    "runner = Link_pred_Runner(settings)"
   ]
  },
  {
   "cell_type": "code",
   "execution_count": 2,
   "id": "254bd93d",
   "metadata": {
    "ExecuteTime": {
     "end_time": "2022-10-29T06:27:56.564116Z",
     "start_time": "2022-10-29T06:27:44.049892Z"
    }
   },
   "outputs": [
    {
     "name": "stdout",
     "output_type": "stream",
     "text": [
      "WARNING:tensorflow:From C:\\Users\\zhangshanfan\\Desktop\\无向图\\ARGA-master\\ARGA\\arga\\model.py:143: The name tf.variable_scope is deprecated. Please use tf.compat.v1.variable_scope instead.\n",
      "\n",
      "WARNING:tensorflow:From C:\\Users\\zhangshanfan\\Desktop\\无向图\\ARGA-master\\ARGA\\arga\\model.py:145: The name tf.set_random_seed is deprecated. Please use tf.compat.v1.set_random_seed instead.\n",
      "\n",
      "WARNING:tensorflow:From C:\\Users\\zhangshanfan\\Desktop\\无向图\\ARGA-master\\ARGA\\arga\\model.py:147: The name tf.get_variable is deprecated. Please use tf.compat.v1.get_variable instead.\n",
      "\n",
      "WARNING:tensorflow:From C:\\Users\\zhangshanfan\\Desktop\\无向图\\ARGA-master\\ARGA\\arga\\layers.py:27: The name tf.random_uniform is deprecated. Please use tf.random.uniform instead.\n",
      "\n",
      "WARNING:tensorflow:From C:\\Users\\zhangshanfan\\Desktop\\无向图\\ARGA-master\\ARGA\\arga\\layers.py:101: The name tf.sparse_tensor_dense_matmul is deprecated. Please use tf.sparse.sparse_dense_matmul instead.\n",
      "\n",
      "WARNING:tensorflow:From C:\\Users\\zhangshanfan\\Desktop\\无向图\\ARGA-master\\ARGA\\arga\\layers.py:79: calling dropout (from tensorflow.python.ops.nn_ops) with keep_prob is deprecated and will be removed in a future version.\n",
      "Instructions for updating:\n",
      "Please use `rate` instead of `keep_prob`. Rate should be set to `rate = 1 - keep_prob`.\n",
      "WARNING:tensorflow:From C:\\Users\\zhangshanfan\\.conda\\envs\\tf1.x\\lib\\site-packages\\tensorflow_core\\python\\ops\\nn_impl.py:183: where (from tensorflow.python.ops.array_ops) is deprecated and will be removed in a future version.\n",
      "Instructions for updating:\n",
      "Use tf.where in 2.0, which has the same broadcast rule as np.where\n",
      "WARNING:tensorflow:From C:\\Users\\zhangshanfan\\Desktop\\无向图\\ARGA-master\\ARGA\\arga\\optimizer.py:28: calling weighted_cross_entropy_with_logits (from tensorflow.python.ops.nn_impl) with targets is deprecated and will be removed in a future version.\n",
      "Instructions for updating:\n",
      "targets is deprecated, use labels instead\n",
      "WARNING:tensorflow:From C:\\Users\\zhangshanfan\\Desktop\\无向图\\ARGA-master\\ARGA\\arga\\optimizer.py:37: The name tf.get_variable_scope is deprecated. Please use tf.compat.v1.get_variable_scope instead.\n",
      "\n",
      "WARNING:tensorflow:From C:\\Users\\zhangshanfan\\Desktop\\无向图\\ARGA-master\\ARGA\\arga\\optimizer.py:38: The name tf.train.AdamOptimizer is deprecated. Please use tf.compat.v1.train.AdamOptimizer instead.\n",
      "\n",
      "Test AP score: 0.7180561094633011\n",
      "Test ROC score: 0.7175517512446502\n",
      "Test AP score: 0.7506784634327222\n",
      "Test ROC score: 0.7371167787579702\n",
      "Test AP score: 0.7549396736198226\n",
      "Test ROC score: 0.7357847846973534\n",
      "Test AP score: 0.7829989676044364\n",
      "Test ROC score: 0.7917940431478732\n",
      "Test AP score: 0.7816010787359793\n",
      "Test ROC score: 0.7964232684077213\n",
      "Test AP score: 0.7947170422641018\n",
      "Test ROC score: 0.8002663988121235\n",
      "Test AP score: 0.7870534142667507\n",
      "Test ROC score: 0.8042187090575597\n",
      "Test AP score: 0.780273204712106\n",
      "Test ROC score: 0.7889553672809853\n",
      "Test AP score: 0.7694897201498093\n",
      "Test ROC score: 0.7894794305179492\n",
      "Test AP score: 0.7691023894732102\n",
      "Test ROC score: 0.7898288060092584\n",
      "Test AP score: 0.7848628239745652\n",
      "Test ROC score: 0.7934099047951787\n",
      "Test AP score: 0.7834984158246747\n",
      "Test ROC score: 0.7949820945060704\n",
      "Test AP score: 0.7916708908748715\n",
      "Test ROC score: 0.8046335924534893\n",
      "Test AP score: 0.8026779226393551\n",
      "Test ROC score: 0.8178006812822081\n",
      "Test AP score: 0.7882266818728687\n",
      "Test ROC score: 0.8137391911957377\n",
      "Test AP score: 0.769992907709089\n",
      "Test ROC score: 0.8008122980172941\n",
      "Test AP score: 0.8010446108157321\n",
      "Test ROC score: 0.8199624421346843\n",
      "Test AP score: 0.7899850542186029\n",
      "Test ROC score: 0.8119268058345707\n",
      "Test AP score: 0.7854561185394116\n",
      "Test ROC score: 0.8110752030745044\n",
      "Test AP score: 0.7852228041721592\n",
      "Test ROC score: 0.7996549917023322\n",
      "Test AP score: 0.7778582891484633\n",
      "Test ROC score: 0.802886714996943\n",
      "Test AP score: 0.7947163289426231\n",
      "Test ROC score: 0.820901388767578\n",
      "Test AP score: 0.7933381456238304\n",
      "Test ROC score: 0.8133243077998079\n",
      "Test AP score: 0.7746754089955151\n",
      "Test ROC score: 0.803519958074941\n",
      "Test AP score: 0.7883092413867927\n",
      "Test ROC score: 0.81627216350773\n",
      "Test AP score: 0.7902752772137592\n",
      "Test ROC score: 0.8257926456459078\n",
      "Test AP score: 0.7878760607973184\n",
      "Test ROC score: 0.820508341339855\n",
      "Test AP score: 0.7988308706999323\n",
      "Test ROC score: 0.8242641278714299\n",
      "Test AP score: 0.7874702313730846\n",
      "Test ROC score: 0.8183684164555857\n",
      "Test AP score: 0.7902092019216578\n",
      "Test ROC score: 0.8271246397065246\n",
      "Test AP score: 0.8106821189291731\n",
      "Test ROC score: 0.8208140448947507\n",
      "Test AP score: 0.7998374205462426\n",
      "Test ROC score: 0.8316228491571318\n",
      "Test AP score: 0.8029360384167761\n",
      "Test ROC score: 0.8345707048650537\n",
      "Test AP score: 0.7954437911369403\n",
      "Test ROC score: 0.8302690191283081\n",
      "Test AP score: 0.7855266661228573\n",
      "Test ROC score: 0.8206175211808893\n",
      "Test AP score: 0.8042582958629569\n",
      "Test ROC score: 0.8255087780592192\n",
      "Test AP score: 0.7941898810067507\n",
      "Test ROC score: 0.8267315922788018\n",
      "Test AP score: 0.7897950906999464\n",
      "Test ROC score: 0.8183684164555857\n",
      "Test AP score: 0.8012741263192518\n",
      "Test ROC score: 0.8210760765132328\n",
      "Test AP score: 0.8209702455193849\n",
      "Test ROC score: 0.8364049261944275\n"
     ]
    }
   ],
   "source": [
    "runner.erun()"
   ]
  },
  {
   "cell_type": "code",
   "execution_count": null,
   "id": "7ec0b378",
   "metadata": {},
   "outputs": [],
   "source": []
  }
 ],
 "metadata": {
  "kernelspec": {
   "display_name": "tf1.15",
   "language": "python",
   "name": "tf1.15"
  },
  "language_info": {
   "codemirror_mode": {
    "name": "ipython",
    "version": 3
   },
   "file_extension": ".py",
   "mimetype": "text/x-python",
   "name": "python",
   "nbconvert_exporter": "python",
   "pygments_lexer": "ipython3",
   "version": "3.6.13"
  },
  "toc": {
   "base_numbering": 1,
   "nav_menu": {},
   "number_sections": true,
   "sideBar": true,
   "skip_h1_title": false,
   "title_cell": "Table of Contents",
   "title_sidebar": "Contents",
   "toc_cell": false,
   "toc_position": {},
   "toc_section_display": true,
   "toc_window_display": false
  },
  "varInspector": {
   "cols": {
    "lenName": 16,
    "lenType": 16,
    "lenVar": 40
   },
   "kernels_config": {
    "python": {
     "delete_cmd_postfix": "",
     "delete_cmd_prefix": "del ",
     "library": "var_list.py",
     "varRefreshCmd": "print(var_dic_list())"
    },
    "r": {
     "delete_cmd_postfix": ") ",
     "delete_cmd_prefix": "rm(",
     "library": "var_list.r",
     "varRefreshCmd": "cat(var_dic_list()) "
    }
   },
   "types_to_exclude": [
    "module",
    "function",
    "builtin_function_or_method",
    "instance",
    "_Feature"
   ],
   "window_display": false
  }
 },
 "nbformat": 4,
 "nbformat_minor": 5
}
