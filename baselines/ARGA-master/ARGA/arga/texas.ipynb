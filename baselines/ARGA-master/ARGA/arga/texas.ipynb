{
 "cells": [
  {
   "cell_type": "code",
   "execution_count": 1,
   "id": "65775001",
   "metadata": {
    "ExecuteTime": {
     "end_time": "2022-10-29T06:10:59.471537Z",
     "start_time": "2022-10-29T06:10:57.490189Z"
    }
   },
   "outputs": [],
   "source": [
    "import settings\n",
    "from link_prediction import Link_pred_Runner\n",
    "dataname = 'texas'       # 'cora' or 'wiki' or 'email' or 'citeseer' or 'celegans' or 'polbooks' or 'texas' or 'wisconsin'\n",
    "model = 'arga_ae'     # 'arga_ae' or 'arga_vae'\n",
    "task = 'link_prediction'         # 'clustering' or 'link_prediction'\n",
    "settings = settings.get_settings(dataname, model, task)\n",
    "runner = Link_pred_Runner(settings)"
   ]
  },
  {
   "cell_type": "code",
   "execution_count": 2,
   "id": "254bd93d",
   "metadata": {
    "ExecuteTime": {
     "end_time": "2022-10-29T06:11:06.759785Z",
     "start_time": "2022-10-29T06:11:00.143412Z"
    }
   },
   "outputs": [
    {
     "name": "stdout",
     "output_type": "stream",
     "text": [
      "WARNING:tensorflow:From C:\\Users\\zhangshanfan\\Desktop\\无向图\\ARGA-master\\ARGA\\arga\\model.py:143: The name tf.variable_scope is deprecated. Please use tf.compat.v1.variable_scope instead.\n",
      "\n",
      "WARNING:tensorflow:From C:\\Users\\zhangshanfan\\Desktop\\无向图\\ARGA-master\\ARGA\\arga\\model.py:145: The name tf.set_random_seed is deprecated. Please use tf.compat.v1.set_random_seed instead.\n",
      "\n",
      "WARNING:tensorflow:From C:\\Users\\zhangshanfan\\Desktop\\无向图\\ARGA-master\\ARGA\\arga\\model.py:147: The name tf.get_variable is deprecated. Please use tf.compat.v1.get_variable instead.\n",
      "\n",
      "WARNING:tensorflow:From C:\\Users\\zhangshanfan\\Desktop\\无向图\\ARGA-master\\ARGA\\arga\\layers.py:27: The name tf.random_uniform is deprecated. Please use tf.random.uniform instead.\n",
      "\n",
      "WARNING:tensorflow:From C:\\Users\\zhangshanfan\\Desktop\\无向图\\ARGA-master\\ARGA\\arga\\layers.py:101: The name tf.sparse_tensor_dense_matmul is deprecated. Please use tf.sparse.sparse_dense_matmul instead.\n",
      "\n",
      "WARNING:tensorflow:From C:\\Users\\zhangshanfan\\Desktop\\无向图\\ARGA-master\\ARGA\\arga\\layers.py:79: calling dropout (from tensorflow.python.ops.nn_ops) with keep_prob is deprecated and will be removed in a future version.\n",
      "Instructions for updating:\n",
      "Please use `rate` instead of `keep_prob`. Rate should be set to `rate = 1 - keep_prob`.\n",
      "WARNING:tensorflow:From C:\\Users\\zhangshanfan\\.conda\\envs\\tf1.x\\lib\\site-packages\\tensorflow_core\\python\\ops\\nn_impl.py:183: where (from tensorflow.python.ops.array_ops) is deprecated and will be removed in a future version.\n",
      "Instructions for updating:\n",
      "Use tf.where in 2.0, which has the same broadcast rule as np.where\n",
      "WARNING:tensorflow:From C:\\Users\\zhangshanfan\\Desktop\\无向图\\ARGA-master\\ARGA\\arga\\optimizer.py:28: calling weighted_cross_entropy_with_logits (from tensorflow.python.ops.nn_impl) with targets is deprecated and will be removed in a future version.\n",
      "Instructions for updating:\n",
      "targets is deprecated, use labels instead\n",
      "WARNING:tensorflow:From C:\\Users\\zhangshanfan\\Desktop\\无向图\\ARGA-master\\ARGA\\arga\\optimizer.py:37: The name tf.get_variable_scope is deprecated. Please use tf.compat.v1.get_variable_scope instead.\n",
      "\n",
      "WARNING:tensorflow:From C:\\Users\\zhangshanfan\\Desktop\\无向图\\ARGA-master\\ARGA\\arga\\optimizer.py:38: The name tf.train.AdamOptimizer is deprecated. Please use tf.compat.v1.train.AdamOptimizer instead.\n",
      "\n",
      "Test AP score: 0.7243482038300371\n",
      "Test ROC score: 0.635116598079561\n",
      "Test AP score: 0.7455961675607334\n",
      "Test ROC score: 0.6474622770919068\n",
      "Test AP score: 0.6150994335928868\n",
      "Test ROC score: 0.47462277091906724\n",
      "Test AP score: 0.5472196044185027\n",
      "Test ROC score: 0.4471879286694102\n",
      "Test AP score: 0.517710826442402\n",
      "Test ROC score: 0.36488340192043894\n",
      "Test AP score: 0.5028537117437062\n",
      "Test ROC score: 0.3580246913580247\n",
      "Test AP score: 0.5119598818150508\n",
      "Test ROC score: 0.3703703703703704\n",
      "Test AP score: 0.5832757475538923\n",
      "Test ROC score: 0.4732510288065843\n",
      "Test AP score: 0.5759493750263489\n",
      "Test ROC score: 0.4471879286694102\n",
      "Test AP score: 0.5437209140895467\n",
      "Test ROC score: 0.4087791495198903\n",
      "Test AP score: 0.5771925106905036\n",
      "Test ROC score: 0.4814814814814815\n",
      "Test AP score: 0.5454446058295086\n",
      "Test ROC score: 0.4417009602194787\n",
      "Test AP score: 0.5585433266537134\n",
      "Test ROC score: 0.4622770919067215\n",
      "Test AP score: 0.5447379735519937\n",
      "Test ROC score: 0.43621399176954734\n",
      "Test AP score: 0.5307691445986848\n",
      "Test ROC score: 0.4060356652949245\n",
      "Test AP score: 0.5957887729593174\n",
      "Test ROC score: 0.4746227709190672\n",
      "Test AP score: 0.5484075037744722\n",
      "Test ROC score: 0.46639231824417005\n",
      "Test AP score: 0.5665511080860908\n",
      "Test ROC score: 0.46227709190672156\n",
      "Test AP score: 0.5578328908164247\n",
      "Test ROC score: 0.45130315500685875\n",
      "Test AP score: 0.5899252256162941\n",
      "Test ROC score: 0.44170096021947874\n",
      "Test AP score: 0.578063316577011\n",
      "Test ROC score: 0.46776406035665286\n",
      "Test AP score: 0.637905061550258\n",
      "Test ROC score: 0.541838134430727\n",
      "Test AP score: 0.5485738767364241\n",
      "Test ROC score: 0.4430727023319616\n",
      "Test AP score: 0.5509978533797859\n",
      "Test ROC score: 0.401920438957476\n",
      "Test AP score: 0.5524084410587282\n",
      "Test ROC score: 0.4430727023319616\n",
      "Test AP score: 0.5691728583233757\n",
      "Test ROC score: 0.45130315500685875\n",
      "Test AP score: 0.5526945138679049\n",
      "Test ROC score: 0.4060356652949245\n",
      "Test AP score: 0.5510797888437007\n",
      "Test ROC score: 0.42661179698216734\n",
      "Test AP score: 0.5569654858669468\n",
      "Test ROC score: 0.4444444444444445\n",
      "Test AP score: 0.5371332774350519\n",
      "Test ROC score: 0.38134430727023316\n",
      "Test AP score: 0.546629653807176\n",
      "Test ROC score: 0.42524005486968447\n",
      "Test AP score: 0.5435984956373678\n",
      "Test ROC score: 0.41700960219478733\n",
      "Test AP score: 0.5098255348466874\n",
      "Test ROC score: 0.35390946502057613\n",
      "Test AP score: 0.5569399792776191\n",
      "Test ROC score: 0.4238683127572016\n",
      "Test AP score: 0.5755509530925773\n",
      "Test ROC score: 0.4444444444444444\n",
      "Test AP score: 0.5311503865067144\n",
      "Test ROC score: 0.41289437585733885\n",
      "Test AP score: 0.511010564562697\n",
      "Test ROC score: 0.3991769547325103\n",
      "Test AP score: 0.5588961918305082\n",
      "Test ROC score: 0.41426611796982166\n",
      "Test AP score: 0.5343650807695521\n",
      "Test ROC score: 0.4238683127572016\n",
      "Test AP score: 0.6199059606641961\n",
      "Test ROC score: 0.52400548696845\n"
     ]
    }
   ],
   "source": [
    "runner.erun()"
   ]
  },
  {
   "cell_type": "code",
   "execution_count": null,
   "id": "a45a9964",
   "metadata": {},
   "outputs": [],
   "source": []
  }
 ],
 "metadata": {
  "kernelspec": {
   "display_name": "tf1.15",
   "language": "python",
   "name": "tf1.15"
  },
  "language_info": {
   "codemirror_mode": {
    "name": "ipython",
    "version": 3
   },
   "file_extension": ".py",
   "mimetype": "text/x-python",
   "name": "python",
   "nbconvert_exporter": "python",
   "pygments_lexer": "ipython3",
   "version": "3.6.13"
  },
  "toc": {
   "base_numbering": 1,
   "nav_menu": {},
   "number_sections": true,
   "sideBar": true,
   "skip_h1_title": false,
   "title_cell": "Table of Contents",
   "title_sidebar": "Contents",
   "toc_cell": false,
   "toc_position": {},
   "toc_section_display": true,
   "toc_window_display": false
  },
  "varInspector": {
   "cols": {
    "lenName": 16,
    "lenType": 16,
    "lenVar": 40
   },
   "kernels_config": {
    "python": {
     "delete_cmd_postfix": "",
     "delete_cmd_prefix": "del ",
     "library": "var_list.py",
     "varRefreshCmd": "print(var_dic_list())"
    },
    "r": {
     "delete_cmd_postfix": ") ",
     "delete_cmd_prefix": "rm(",
     "library": "var_list.r",
     "varRefreshCmd": "cat(var_dic_list()) "
    }
   },
   "types_to_exclude": [
    "module",
    "function",
    "builtin_function_or_method",
    "instance",
    "_Feature"
   ],
   "window_display": false
  }
 },
 "nbformat": 4,
 "nbformat_minor": 5
}
