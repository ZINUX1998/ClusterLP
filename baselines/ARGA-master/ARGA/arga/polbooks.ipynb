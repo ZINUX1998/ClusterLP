{
 "cells": [
  {
   "cell_type": "code",
   "execution_count": 1,
   "id": "65775001",
   "metadata": {
    "ExecuteTime": {
     "end_time": "2022-10-29T06:20:24.289987Z",
     "start_time": "2022-10-29T06:20:22.276095Z"
    }
   },
   "outputs": [],
   "source": [
    "import settings\n",
    "from link_prediction import Link_pred_Runner\n",
    "dataname = 'polbooks'       # 'cora' or 'wiki' or 'email' or 'citeseer' or 'celegans' or 'polbooks' or 'texas' or 'wisconsin'\n",
    "model = 'arga_ae'     # 'arga_ae' or 'arga_vae'\n",
    "task = 'link_prediction'         # 'clustering' or 'link_prediction'\n",
    "settings = settings.get_settings(dataname, model, task)\n",
    "runner = Link_pred_Runner(settings)"
   ]
  },
  {
   "cell_type": "code",
   "execution_count": 2,
   "id": "254bd93d",
   "metadata": {
    "ExecuteTime": {
     "end_time": "2022-10-29T06:20:35.123902Z",
     "start_time": "2022-10-29T06:20:29.491621Z"
    }
   },
   "outputs": [
    {
     "name": "stdout",
     "output_type": "stream",
     "text": [
      "WARNING:tensorflow:From C:\\Users\\zhangshanfan\\Desktop\\无向图\\ARGA-master\\ARGA\\arga\\model.py:143: The name tf.variable_scope is deprecated. Please use tf.compat.v1.variable_scope instead.\n",
      "\n",
      "WARNING:tensorflow:From C:\\Users\\zhangshanfan\\Desktop\\无向图\\ARGA-master\\ARGA\\arga\\model.py:145: The name tf.set_random_seed is deprecated. Please use tf.compat.v1.set_random_seed instead.\n",
      "\n",
      "WARNING:tensorflow:From C:\\Users\\zhangshanfan\\Desktop\\无向图\\ARGA-master\\ARGA\\arga\\model.py:147: The name tf.get_variable is deprecated. Please use tf.compat.v1.get_variable instead.\n",
      "\n",
      "WARNING:tensorflow:From C:\\Users\\zhangshanfan\\Desktop\\无向图\\ARGA-master\\ARGA\\arga\\layers.py:27: The name tf.random_uniform is deprecated. Please use tf.random.uniform instead.\n",
      "\n",
      "WARNING:tensorflow:From C:\\Users\\zhangshanfan\\Desktop\\无向图\\ARGA-master\\ARGA\\arga\\layers.py:101: The name tf.sparse_tensor_dense_matmul is deprecated. Please use tf.sparse.sparse_dense_matmul instead.\n",
      "\n",
      "WARNING:tensorflow:From C:\\Users\\zhangshanfan\\Desktop\\无向图\\ARGA-master\\ARGA\\arga\\layers.py:79: calling dropout (from tensorflow.python.ops.nn_ops) with keep_prob is deprecated and will be removed in a future version.\n",
      "Instructions for updating:\n",
      "Please use `rate` instead of `keep_prob`. Rate should be set to `rate = 1 - keep_prob`.\n",
      "WARNING:tensorflow:From C:\\Users\\zhangshanfan\\.conda\\envs\\tf1.x\\lib\\site-packages\\tensorflow_core\\python\\ops\\nn_impl.py:183: where (from tensorflow.python.ops.array_ops) is deprecated and will be removed in a future version.\n",
      "Instructions for updating:\n",
      "Use tf.where in 2.0, which has the same broadcast rule as np.where\n",
      "WARNING:tensorflow:From C:\\Users\\zhangshanfan\\Desktop\\无向图\\ARGA-master\\ARGA\\arga\\optimizer.py:28: calling weighted_cross_entropy_with_logits (from tensorflow.python.ops.nn_impl) with targets is deprecated and will be removed in a future version.\n",
      "Instructions for updating:\n",
      "targets is deprecated, use labels instead\n",
      "WARNING:tensorflow:From C:\\Users\\zhangshanfan\\Desktop\\无向图\\ARGA-master\\ARGA\\arga\\optimizer.py:37: The name tf.get_variable_scope is deprecated. Please use tf.compat.v1.get_variable_scope instead.\n",
      "\n",
      "WARNING:tensorflow:From C:\\Users\\zhangshanfan\\Desktop\\无向图\\ARGA-master\\ARGA\\arga\\optimizer.py:38: The name tf.train.AdamOptimizer is deprecated. Please use tf.compat.v1.train.AdamOptimizer instead.\n",
      "\n",
      "Test AP score: 0.6627905812092674\n",
      "Test ROC score: 0.6707128099173554\n",
      "Test AP score: 0.7251376971421282\n",
      "Test ROC score: 0.7636880165289256\n",
      "Test AP score: 0.7657599197934464\n",
      "Test ROC score: 0.8143078512396695\n",
      "Test AP score: 0.7873579242561329\n",
      "Test ROC score: 0.8318698347107438\n",
      "Test AP score: 0.7898963253665174\n",
      "Test ROC score: 0.834452479338843\n",
      "Test AP score: 0.7785102097893144\n",
      "Test ROC score: 0.8442665289256199\n",
      "Test AP score: 0.7797995288215572\n",
      "Test ROC score: 0.8267045454545454\n",
      "Test AP score: 0.774584916030566\n",
      "Test ROC score: 0.8292871900826446\n",
      "Test AP score: 0.7433243477741712\n",
      "Test ROC score: 0.8179235537190083\n",
      "Test AP score: 0.7741983182175783\n",
      "Test ROC score: 0.8318698347107438\n",
      "Test AP score: 0.779802156044809\n",
      "Test ROC score: 0.837551652892562\n",
      "Test AP score: 0.7900613334747447\n",
      "Test ROC score: 0.8442665289256198\n",
      "Test AP score: 0.7736258447783382\n",
      "Test ROC score: 0.8406508264462811\n",
      "Test AP score: 0.769092210862293\n",
      "Test ROC score: 0.8401342975206612\n",
      "Test AP score: 0.7912167188354091\n",
      "Test ROC score: 0.8514979338842975\n",
      "Test AP score: 0.7737443948947025\n",
      "Test ROC score: 0.8509814049586777\n",
      "Test AP score: 0.8099070582196155\n",
      "Test ROC score: 0.8675103305785123\n",
      "Test AP score: 0.7920342375491212\n",
      "Test ROC score: 0.8561466942148761\n",
      "Test AP score: 0.8131209375717002\n",
      "Test ROC score: 0.8897210743801653\n",
      "Test AP score: 0.7838005414704021\n",
      "Test ROC score: 0.8680268595041322\n",
      "Test AP score: 0.790565910169144\n",
      "Test ROC score: 0.8706095041322314\n",
      "Test AP score: 0.8074735262303601\n",
      "Test ROC score: 0.8793904958677685\n",
      "Test AP score: 0.7890170665584809\n",
      "Test ROC score: 0.8566632231404958\n",
      "Test AP score: 0.8094198687838391\n",
      "Test ROC score: 0.8933367768595042\n",
      "Test AP score: 0.8151755131482014\n",
      "Test ROC score: 0.8762913223140496\n",
      "Test AP score: 0.8113061318381195\n",
      "Test ROC score: 0.8690599173553719\n",
      "Test AP score: 0.7974373603161539\n",
      "Test ROC score: 0.8654442148760331\n",
      "Test AP score: 0.7684991966612587\n",
      "Test ROC score: 0.8473657024793388\n",
      "Test AP score: 0.8162834831579807\n",
      "Test ROC score: 0.8892045454545455\n",
      "Test AP score: 0.8076629813647321\n",
      "Test ROC score: 0.8716425619834711\n",
      "Test AP score: 0.8298897248431157\n",
      "Test ROC score: 0.903150826446281\n",
      "Test AP score: 0.789039940054584\n",
      "Test ROC score: 0.8711260330578512\n",
      "Test AP score: 0.8138121340271415\n",
      "Test ROC score: 0.8855888429752066\n",
      "Test AP score: 0.8088532468478857\n",
      "Test ROC score: 0.8773243801652892\n",
      "Test AP score: 0.8009655590747253\n",
      "Test ROC score: 0.8654442148760331\n",
      "Test AP score: 0.8000542579721898\n",
      "Test ROC score: 0.8669938016528925\n",
      "Test AP score: 0.815434063828162\n",
      "Test ROC score: 0.8783574380165289\n",
      "Test AP score: 0.7859577405473513\n",
      "Test ROC score: 0.8468491735537191\n",
      "Test AP score: 0.8060968608137181\n",
      "Test ROC score: 0.8737086776859504\n",
      "Test AP score: 0.7800089301159469\n",
      "Test ROC score: 0.847365702479339\n"
     ]
    }
   ],
   "source": [
    "runner.erun()"
   ]
  }
 ],
 "metadata": {
  "kernelspec": {
   "display_name": "tf1.15",
   "language": "python",
   "name": "tf1.15"
  },
  "language_info": {
   "codemirror_mode": {
    "name": "ipython",
    "version": 3
   },
   "file_extension": ".py",
   "mimetype": "text/x-python",
   "name": "python",
   "nbconvert_exporter": "python",
   "pygments_lexer": "ipython3",
   "version": "3.6.13"
  },
  "toc": {
   "base_numbering": 1,
   "nav_menu": {},
   "number_sections": true,
   "sideBar": true,
   "skip_h1_title": false,
   "title_cell": "Table of Contents",
   "title_sidebar": "Contents",
   "toc_cell": false,
   "toc_position": {},
   "toc_section_display": true,
   "toc_window_display": false
  },
  "varInspector": {
   "cols": {
    "lenName": 16,
    "lenType": 16,
    "lenVar": 40
   },
   "kernels_config": {
    "python": {
     "delete_cmd_postfix": "",
     "delete_cmd_prefix": "del ",
     "library": "var_list.py",
     "varRefreshCmd": "print(var_dic_list())"
    },
    "r": {
     "delete_cmd_postfix": ") ",
     "delete_cmd_prefix": "rm(",
     "library": "var_list.r",
     "varRefreshCmd": "cat(var_dic_list()) "
    }
   },
   "types_to_exclude": [
    "module",
    "function",
    "builtin_function_or_method",
    "instance",
    "_Feature"
   ],
   "window_display": false
  }
 },
 "nbformat": 4,
 "nbformat_minor": 5
}
