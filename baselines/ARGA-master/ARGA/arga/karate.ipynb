{
 "cells": [
  {
   "cell_type": "code",
   "execution_count": 1,
   "id": "65775001",
   "metadata": {
    "ExecuteTime": {
     "end_time": "2022-11-01T13:11:29.031936Z",
     "start_time": "2022-11-01T13:11:27.060155Z"
    }
   },
   "outputs": [],
   "source": [
    "import settings\n",
    "from link_prediction import Link_pred_Runner\n",
    "dataname = 'karate'       # 'cora' or 'wiki' or 'email' or 'citeseer' or 'celegans' or 'polbooks' or 'texas' or 'wisconsin'\n",
    "model = 'arga_ae'     # 'arga_ae' or 'arga_vae'\n",
    "task = 'link_prediction'         # 'clustering' or 'link_prediction'\n",
    "settings = settings.get_settings(dataname, model, task)\n",
    "runner = Link_pred_Runner(settings)"
   ]
  },
  {
   "cell_type": "code",
   "execution_count": 2,
   "id": "254bd93d",
   "metadata": {
    "ExecuteTime": {
     "end_time": "2022-11-01T13:11:32.913012Z",
     "start_time": "2022-11-01T13:11:29.119507Z"
    }
   },
   "outputs": [
    {
     "name": "stdout",
     "output_type": "stream",
     "text": [
      "WARNING:tensorflow:From C:\\Users\\zhangshanfan\\Desktop\\无向图\\ARGA-master\\ARGA\\arga\\model.py:143: The name tf.variable_scope is deprecated. Please use tf.compat.v1.variable_scope instead.\n",
      "\n",
      "WARNING:tensorflow:From C:\\Users\\zhangshanfan\\Desktop\\无向图\\ARGA-master\\ARGA\\arga\\model.py:145: The name tf.set_random_seed is deprecated. Please use tf.compat.v1.set_random_seed instead.\n",
      "\n",
      "WARNING:tensorflow:From C:\\Users\\zhangshanfan\\Desktop\\无向图\\ARGA-master\\ARGA\\arga\\model.py:147: The name tf.get_variable is deprecated. Please use tf.compat.v1.get_variable instead.\n",
      "\n",
      "WARNING:tensorflow:From C:\\Users\\zhangshanfan\\Desktop\\无向图\\ARGA-master\\ARGA\\arga\\layers.py:27: The name tf.random_uniform is deprecated. Please use tf.random.uniform instead.\n",
      "\n",
      "WARNING:tensorflow:From C:\\Users\\zhangshanfan\\Desktop\\无向图\\ARGA-master\\ARGA\\arga\\layers.py:101: The name tf.sparse_tensor_dense_matmul is deprecated. Please use tf.sparse.sparse_dense_matmul instead.\n",
      "\n",
      "WARNING:tensorflow:From C:\\Users\\zhangshanfan\\Desktop\\无向图\\ARGA-master\\ARGA\\arga\\layers.py:79: calling dropout (from tensorflow.python.ops.nn_ops) with keep_prob is deprecated and will be removed in a future version.\n",
      "Instructions for updating:\n",
      "Please use `rate` instead of `keep_prob`. Rate should be set to `rate = 1 - keep_prob`.\n",
      "WARNING:tensorflow:From C:\\Users\\zhangshanfan\\.conda\\envs\\tf1.x\\lib\\site-packages\\tensorflow_core\\python\\ops\\nn_impl.py:183: where (from tensorflow.python.ops.array_ops) is deprecated and will be removed in a future version.\n",
      "Instructions for updating:\n",
      "Use tf.where in 2.0, which has the same broadcast rule as np.where\n",
      "WARNING:tensorflow:From C:\\Users\\zhangshanfan\\Desktop\\无向图\\ARGA-master\\ARGA\\arga\\optimizer.py:28: calling weighted_cross_entropy_with_logits (from tensorflow.python.ops.nn_impl) with targets is deprecated and will be removed in a future version.\n",
      "Instructions for updating:\n",
      "targets is deprecated, use labels instead\n",
      "WARNING:tensorflow:From C:\\Users\\zhangshanfan\\Desktop\\无向图\\ARGA-master\\ARGA\\arga\\optimizer.py:37: The name tf.get_variable_scope is deprecated. Please use tf.compat.v1.get_variable_scope instead.\n",
      "\n",
      "WARNING:tensorflow:From C:\\Users\\zhangshanfan\\Desktop\\无向图\\ARGA-master\\ARGA\\arga\\optimizer.py:38: The name tf.train.AdamOptimizer is deprecated. Please use tf.compat.v1.train.AdamOptimizer instead.\n",
      "\n",
      "Test AP score: 0.9999999999999998\n",
      "Test ROC score: 1.0\n",
      "Test AP score: 0.9276437847866419\n",
      "Test ROC score: 0.8979591836734694\n",
      "Test AP score: 0.9617346938775511\n",
      "Test ROC score: 0.9591836734693878\n",
      "Test AP score: 0.8928571428571428\n",
      "Test ROC score: 0.8367346938775511\n",
      "Test AP score: 0.8885281385281385\n",
      "Test ROC score: 0.8571428571428571\n",
      "Test AP score: 0.7738095238095237\n",
      "Test ROC score: 0.7959183673469388\n",
      "Test AP score: 0.9093537414965986\n",
      "Test ROC score: 0.9183673469387755\n",
      "Test AP score: 0.8736394557823131\n",
      "Test ROC score: 0.8979591836734695\n",
      "Test AP score: 0.859750566893424\n",
      "Test ROC score: 0.8775510204081632\n",
      "Test AP score: 0.9682539682539681\n",
      "Test ROC score: 0.9591836734693877\n",
      "Test AP score: 0.8444444444444443\n",
      "Test ROC score: 0.8571428571428572\n",
      "Test AP score: 0.9999999999999998\n",
      "Test ROC score: 1.0\n",
      "Test AP score: 0.7869614512471654\n",
      "Test ROC score: 0.7959183673469388\n",
      "Test AP score: 0.8917233560090703\n",
      "Test ROC score: 0.8775510204081632\n",
      "Test AP score: 0.8444444444444443\n",
      "Test ROC score: 0.8571428571428572\n",
      "Test AP score: 0.827437641723356\n",
      "Test ROC score: 0.8367346938775511\n",
      "Test AP score: 0.808390022675737\n",
      "Test ROC score: 0.8163265306122449\n",
      "Test AP score: 0.9093537414965986\n",
      "Test ROC score: 0.9183673469387755\n",
      "Test AP score: 0.9240362811791383\n",
      "Test ROC score: 0.9183673469387755\n",
      "Test AP score: 0.947845804988662\n",
      "Test ROC score: 0.9387755102040816\n",
      "Test AP score: 0.9379251700680272\n",
      "Test ROC score: 0.9387755102040817\n",
      "Test AP score: 0.8954648526077098\n",
      "Test ROC score: 0.8979591836734694\n",
      "Test AP score: 0.859750566893424\n",
      "Test ROC score: 0.8775510204081632\n",
      "Test AP score: 0.9617346938775511\n",
      "Test ROC score: 0.9591836734693878\n",
      "Test AP score: 0.9379251700680272\n",
      "Test ROC score: 0.9387755102040817\n",
      "Test AP score: 0.9093537414965986\n",
      "Test ROC score: 0.9183673469387755\n",
      "Test AP score: 0.8121315192743763\n",
      "Test ROC score: 0.8571428571428572\n",
      "Test AP score: 0.9093537414965986\n",
      "Test ROC score: 0.9183673469387755\n",
      "Test AP score: 0.9093537414965986\n",
      "Test ROC score: 0.9183673469387755\n",
      "Test AP score: 0.827437641723356\n",
      "Test ROC score: 0.8367346938775511\n",
      "Test AP score: 0.8954648526077098\n",
      "Test ROC score: 0.8979591836734694\n",
      "Test AP score: 0.8917233560090703\n",
      "Test ROC score: 0.8775510204081632\n",
      "Test AP score: 0.9821428571428572\n",
      "Test ROC score: 0.979591836734694\n",
      "Test AP score: 0.8260204081632654\n",
      "Test ROC score: 0.8775510204081634\n",
      "Test AP score: 0.9379251700680272\n",
      "Test ROC score: 0.9387755102040817\n",
      "Test AP score: 0.8260204081632654\n",
      "Test ROC score: 0.8775510204081634\n",
      "Test AP score: 0.9240362811791383\n",
      "Test ROC score: 0.9183673469387755\n",
      "Test AP score: 0.8736394557823131\n",
      "Test ROC score: 0.8979591836734695\n",
      "Test AP score: 0.9379251700680272\n",
      "Test ROC score: 0.9387755102040817\n",
      "Test AP score: 0.8444444444444443\n",
      "Test ROC score: 0.8571428571428572\n"
     ]
    }
   ],
   "source": [
    "embedding, feas = runner.erun()"
   ]
  },
  {
   "cell_type": "code",
   "execution_count": 3,
   "id": "679e2e9a",
   "metadata": {
    "ExecuteTime": {
     "end_time": "2022-11-01T13:11:33.099437Z",
     "start_time": "2022-11-01T13:11:33.006023Z"
    }
   },
   "outputs": [
    {
     "name": "stdout",
     "output_type": "stream",
     "text": [
      "gama :  0.2\n",
      "edges：  908.0\n",
      "ACC：  0.3494809688581315\n",
      "AP：  0.5859030837004405\n",
      "RECALL：  0.624\n",
      "F1 SCORE：  0.34533449007133216\n",
      "gama :  0.25\n",
      "edges：  804.0\n",
      "ACC：  0.43944636678200694\n",
      "AP：  0.5970149253731343\n",
      "RECALL：  0.6759999999999999\n",
      "F1 SCORE：  0.4228550295857988\n",
      "gama :  0.3\n",
      "edges：  716.0\n",
      "ACC：  0.5155709342560554\n",
      "AP：  0.6089385474860335\n",
      "RECALL：  0.72\n",
      "F1 SCORE：  0.48445463812436296\n",
      "gama :  0.35\n",
      "edges：  640.0\n",
      "ACC：  0.5813148788927336\n",
      "AP：  0.621875\n",
      "RECALL：  0.758\n",
      "F1 SCORE：  0.5363492926373292\n",
      "gama :  0.4\n",
      "edges：  588.0\n",
      "ACC：  0.6228373702422145\n",
      "AP：  0.6291918175720993\n",
      "RECALL：  0.7765897435897435\n",
      "F1 SCORE：  0.56795863506693\n",
      "gama :  0.45\n",
      "edges：  546.0\n",
      "ACC：  0.6591695501730104\n",
      "AP：  0.6393862967633459\n",
      "RECALL：  0.7975897435897437\n",
      "F1 SCORE：  0.5970129709260144\n",
      "gama :  0.5\n",
      "edges：  478.0\n",
      "ACC：  0.7179930795847751\n",
      "AP：  0.6596129398550993\n",
      "RECALL：  0.8315897435897437\n",
      "F1 SCORE：  0.6457627564736448\n",
      "gama :  0.55\n",
      "edges：  448.0\n",
      "ACC：  0.7439446366782007\n",
      "AP：  0.6704625706214689\n",
      "RECALL：  0.8465897435897436\n",
      "F1 SCORE：  0.6683158335530499\n",
      "gama :  0.6\n",
      "edges：  408.0\n",
      "ACC：  0.7785467128027682\n",
      "AP：  0.6873885918003565\n",
      "RECALL：  0.8665897435897436\n",
      "F1 SCORE：  0.6998231007676452\n",
      "gama :  0.65\n",
      "edges：  376.0\n",
      "ACC：  0.8027681660899654\n",
      "AP：  0.6995635570103655\n",
      "RECALL：  0.8751794871794871\n",
      "F1 SCORE：  0.721669341894061\n",
      "gama :  0.7\n",
      "edges：  340.0\n",
      "ACC：  0.8235294117647058\n",
      "AP：  0.7085784313725491\n",
      "RECALL：  0.870948717948718\n",
      "F1 SCORE：  0.7381874378286202\n",
      "gama :  0.75\n",
      "edges：  310.0\n",
      "ACC：  0.8460207612456747\n",
      "AP：  0.7251658659345688\n",
      "RECALL：  0.8785384615384615\n",
      "F1 SCORE：  0.7608005245072282\n",
      "gama :  0.8\n",
      "edges：  276.0\n",
      "ACC：  0.8719723183391004\n",
      "AP：  0.7492918313570487\n",
      "RECALL：  0.8881282051282051\n",
      "F1 SCORE：  0.7893420015760442\n",
      "gama :  0.85\n",
      "edges：  202.0\n",
      "ACC：  0.9117647058823529\n",
      "AP：  0.8021566307574154\n",
      "RECALL：  0.8732564102564102\n",
      "F1 SCORE：  0.8314415923789048\n",
      "gama :  0.9\n",
      "edges：  142.0\n",
      "ACC：  0.9325259515570934\n",
      "AP：  0.8646414979026029\n",
      "RECALL：  0.8365641025641026\n",
      "F1 SCORE：  0.8497630679205295\n",
      "gama :  0.95\n",
      "edges：  80.0\n",
      "ACC：  0.9065743944636678\n",
      "AP：  0.8572490706319702\n",
      "RECALL：  0.6971282051282051\n",
      "F1 SCORE：  0.7451748799843243\n",
      "gama :  0.96\n",
      "edges：  60.0\n",
      "ACC：  0.8961937716262975\n",
      "AP：  0.8507299270072992\n",
      "RECALL：  0.6478461538461538\n",
      "F1 SCORE：  0.6935962680237489\n",
      "gama :  0.965\n",
      "edges：  58.0\n",
      "ACC：  0.8944636678200693\n",
      "AP：  0.8464606494566924\n",
      "RECALL：  0.6414358974358975\n",
      "F1 SCORE：  0.6858779612091622\n",
      "gama :  0.97\n",
      "edges：  56.0\n",
      "ACC：  0.8927335640138409\n",
      "AP：  0.841948051948052\n",
      "RECALL：  0.635025641025641\n",
      "F1 SCORE：  0.6780233602875112\n",
      "gama :  0.975\n",
      "edges：  48.0\n",
      "ACC：  0.8927335640138409\n",
      "AP：  0.8643200962695547\n",
      "RECALL：  0.6242051282051282\n",
      "F1 SCORE：  0.6666666666666667\n"
     ]
    }
   ],
   "source": [
    "import copy\n",
    "from sklearn.metrics import accuracy_score, f1_score, precision_score, recall_score\n",
    "\n",
    "def sigmoid(x):\n",
    "    return 1 / (1 + np.exp(-x))\n",
    "\n",
    "# Predict on test set of edges\n",
    "adj_rec = np.dot(embedding, embedding.T)\n",
    "adj_rec = sigmoid(adj_rec)\n",
    "adj_rec = adj_rec / adj_rec.max()\n",
    "\n",
    "for i in range(adj_rec.shape[0]):\n",
    "    adj_rec[i, i] = 0\n",
    "s = adj_rec.reshape(adj_rec.shape[0]*adj_rec.shape[0])\n",
    "\n",
    "adj = feas['adj']\n",
    "adj_true = adj.toarray()\n",
    "true_edges = adj_true.reshape(34*34)\n",
    "\n",
    "for gama in [0.2,0.25,0.3,0.35,0.4,0.45,0.5,0.55,0.6,0.65,0.7,0.75,0.8,0.85,0.9, 0.95, 0.96, 0.965, 0.97, 0.975]:\n",
    "    print(\"gama : \",gama)\n",
    "    predict_edges = copy.deepcopy(s)\n",
    "    predict_edges[predict_edges > gama] = 1\n",
    "    predict_edges[predict_edges <= gama] = 0\n",
    "    print(\"edges： \",predict_edges.sum())\n",
    "    print(\"ACC： \",accuracy_score(true_edges, predict_edges))\n",
    "    print(\"AP： \",precision_score(true_edges, predict_edges, average='macro'))\n",
    "    print(\"RECALL： \",recall_score(true_edges, predict_edges, average='macro'))\n",
    "    print(\"F1 SCORE： \",f1_score(true_edges, predict_edges, average='macro'))"
   ]
  },
  {
   "cell_type": "code",
   "execution_count": 4,
   "id": "18713f6e",
   "metadata": {
    "ExecuteTime": {
     "end_time": "2022-11-01T13:11:33.207773Z",
     "start_time": "2022-11-01T13:11:33.194760Z"
    }
   },
   "outputs": [
    {
     "name": "stdout",
     "output_type": "stream",
     "text": [
      "edges：  142.0\n",
      "ACC：  0.9325259515570934\n",
      "AP：  0.8646414979026029\n",
      "RECALL：  0.8365641025641026\n",
      "F1 SCORE：  0.8497630679205295\n"
     ]
    }
   ],
   "source": [
    "gama = 0.9\n",
    "predict_edges = copy.deepcopy(s)\n",
    "predict_edges[predict_edges > gama] = 1\n",
    "predict_edges[predict_edges <= gama] = 0\n",
    "print(\"edges： \",predict_edges.sum())\n",
    "print(\"ACC： \",accuracy_score(true_edges, predict_edges))\n",
    "print(\"AP： \",precision_score(true_edges, predict_edges, average='macro'))\n",
    "print(\"RECALL： \",recall_score(true_edges, predict_edges, average='macro'))\n",
    "print(\"F1 SCORE： \",f1_score(true_edges, predict_edges, average='macro'))"
   ]
  },
  {
   "cell_type": "code",
   "execution_count": 5,
   "id": "0a305330",
   "metadata": {
    "ExecuteTime": {
     "end_time": "2022-11-01T13:11:33.318039Z",
     "start_time": "2022-11-01T13:11:33.304482Z"
    }
   },
   "outputs": [],
   "source": [
    "import pandas as pd\n",
    "predict_graph = predict_edges.reshape(34, 34)\n",
    "pd.DataFrame(predict_graph).to_csv('ARVGA_recon_karate.txt', header=None, index=False, sep=' ')"
   ]
  },
  {
   "cell_type": "code",
   "execution_count": 6,
   "id": "3a84ba7f",
   "metadata": {
    "ExecuteTime": {
     "end_time": "2022-11-01T13:11:33.442102Z",
     "start_time": "2022-11-01T13:11:33.428272Z"
    }
   },
   "outputs": [
    {
     "data": {
      "text/plain": [
       "array([[0., 1., 1., 1., 0.],\n",
       "       [1., 0., 1., 1., 0.],\n",
       "       [1., 1., 0., 1., 0.],\n",
       "       [1., 1., 1., 0., 0.],\n",
       "       [0., 0., 0., 0., 0.]], dtype=float32)"
      ]
     },
     "execution_count": 6,
     "metadata": {},
     "output_type": "execute_result"
    }
   ],
   "source": [
    "predict_graph[:5, :5]"
   ]
  },
  {
   "cell_type": "code",
   "execution_count": null,
   "id": "8387f077",
   "metadata": {},
   "outputs": [],
   "source": []
  }
 ],
 "metadata": {
  "kernelspec": {
   "display_name": "tf1.15",
   "language": "python",
   "name": "tf1.15"
  },
  "language_info": {
   "codemirror_mode": {
    "name": "ipython",
    "version": 3
   },
   "file_extension": ".py",
   "mimetype": "text/x-python",
   "name": "python",
   "nbconvert_exporter": "python",
   "pygments_lexer": "ipython3",
   "version": "3.6.13"
  },
  "toc": {
   "base_numbering": 1,
   "nav_menu": {},
   "number_sections": true,
   "sideBar": true,
   "skip_h1_title": false,
   "title_cell": "Table of Contents",
   "title_sidebar": "Contents",
   "toc_cell": false,
   "toc_position": {},
   "toc_section_display": true,
   "toc_window_display": false
  },
  "varInspector": {
   "cols": {
    "lenName": 16,
    "lenType": 16,
    "lenVar": 40
   },
   "kernels_config": {
    "python": {
     "delete_cmd_postfix": "",
     "delete_cmd_prefix": "del ",
     "library": "var_list.py",
     "varRefreshCmd": "print(var_dic_list())"
    },
    "r": {
     "delete_cmd_postfix": ") ",
     "delete_cmd_prefix": "rm(",
     "library": "var_list.r",
     "varRefreshCmd": "cat(var_dic_list()) "
    }
   },
   "types_to_exclude": [
    "module",
    "function",
    "builtin_function_or_method",
    "instance",
    "_Feature"
   ],
   "window_display": false
  }
 },
 "nbformat": 4,
 "nbformat_minor": 5
}
