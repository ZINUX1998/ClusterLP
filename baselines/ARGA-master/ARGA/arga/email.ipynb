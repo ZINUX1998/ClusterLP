{
 "cells": [
  {
   "cell_type": "code",
   "execution_count": 1,
   "id": "65775001",
   "metadata": {
    "ExecuteTime": {
     "end_time": "2022-10-29T06:16:22.981074Z",
     "start_time": "2022-10-29T06:16:20.978637Z"
    }
   },
   "outputs": [],
   "source": [
    "import settings\n",
    "from link_prediction import Link_pred_Runner\n",
    "dataname = 'email'       # 'cora' or 'wiki' or 'email' or 'citeseer' or 'celegans' or 'polbooks' or 'texas' or 'wisconsin'\n",
    "model = 'arga_ae'     # 'arga_ae' or 'arga_vae'\n",
    "task = 'link_prediction'         # 'clustering' or 'link_prediction'\n",
    "settings = settings.get_settings(dataname, model, task)\n",
    "runner = Link_pred_Runner(settings)"
   ]
  },
  {
   "cell_type": "code",
   "execution_count": 2,
   "id": "254bd93d",
   "metadata": {
    "ExecuteTime": {
     "end_time": "2022-10-29T06:17:32.942806Z",
     "start_time": "2022-10-29T06:16:23.792615Z"
    }
   },
   "outputs": [
    {
     "name": "stdout",
     "output_type": "stream",
     "text": [
      "WARNING:tensorflow:From C:\\Users\\zhangshanfan\\Desktop\\无向图\\ARGA-master\\ARGA\\arga\\model.py:143: The name tf.variable_scope is deprecated. Please use tf.compat.v1.variable_scope instead.\n",
      "\n",
      "WARNING:tensorflow:From C:\\Users\\zhangshanfan\\Desktop\\无向图\\ARGA-master\\ARGA\\arga\\model.py:145: The name tf.set_random_seed is deprecated. Please use tf.compat.v1.set_random_seed instead.\n",
      "\n",
      "WARNING:tensorflow:From C:\\Users\\zhangshanfan\\Desktop\\无向图\\ARGA-master\\ARGA\\arga\\model.py:147: The name tf.get_variable is deprecated. Please use tf.compat.v1.get_variable instead.\n",
      "\n",
      "WARNING:tensorflow:From C:\\Users\\zhangshanfan\\Desktop\\无向图\\ARGA-master\\ARGA\\arga\\layers.py:27: The name tf.random_uniform is deprecated. Please use tf.random.uniform instead.\n",
      "\n",
      "WARNING:tensorflow:From C:\\Users\\zhangshanfan\\Desktop\\无向图\\ARGA-master\\ARGA\\arga\\layers.py:101: The name tf.sparse_tensor_dense_matmul is deprecated. Please use tf.sparse.sparse_dense_matmul instead.\n",
      "\n",
      "WARNING:tensorflow:From C:\\Users\\zhangshanfan\\Desktop\\无向图\\ARGA-master\\ARGA\\arga\\layers.py:79: calling dropout (from tensorflow.python.ops.nn_ops) with keep_prob is deprecated and will be removed in a future version.\n",
      "Instructions for updating:\n",
      "Please use `rate` instead of `keep_prob`. Rate should be set to `rate = 1 - keep_prob`.\n",
      "WARNING:tensorflow:From C:\\Users\\zhangshanfan\\.conda\\envs\\tf1.x\\lib\\site-packages\\tensorflow_core\\python\\ops\\nn_impl.py:183: where (from tensorflow.python.ops.array_ops) is deprecated and will be removed in a future version.\n",
      "Instructions for updating:\n",
      "Use tf.where in 2.0, which has the same broadcast rule as np.where\n",
      "WARNING:tensorflow:From C:\\Users\\zhangshanfan\\Desktop\\无向图\\ARGA-master\\ARGA\\arga\\optimizer.py:28: calling weighted_cross_entropy_with_logits (from tensorflow.python.ops.nn_impl) with targets is deprecated and will be removed in a future version.\n",
      "Instructions for updating:\n",
      "targets is deprecated, use labels instead\n",
      "WARNING:tensorflow:From C:\\Users\\zhangshanfan\\Desktop\\无向图\\ARGA-master\\ARGA\\arga\\optimizer.py:37: The name tf.get_variable_scope is deprecated. Please use tf.compat.v1.get_variable_scope instead.\n",
      "\n",
      "WARNING:tensorflow:From C:\\Users\\zhangshanfan\\Desktop\\无向图\\ARGA-master\\ARGA\\arga\\optimizer.py:38: The name tf.train.AdamOptimizer is deprecated. Please use tf.compat.v1.train.AdamOptimizer instead.\n",
      "\n",
      "Test AP score: 0.8137110408715958\n",
      "Test ROC score: 0.8203607579919014\n",
      "Test AP score: 0.8265604449936985\n",
      "Test ROC score: 0.8385359075323079\n",
      "Test AP score: 0.8151741253581977\n",
      "Test ROC score: 0.8205158426758933\n",
      "Test AP score: 0.8036052845051515\n",
      "Test ROC score: 0.7992506308069521\n",
      "Test AP score: 0.7939529911502113\n",
      "Test ROC score: 0.7886471032507301\n",
      "Test AP score: 0.7937212322464045\n",
      "Test ROC score: 0.7873160889503714\n",
      "Test AP score: 0.80936174382709\n",
      "Test ROC score: 0.8066760854764745\n",
      "Test AP score: 0.8373272896146114\n",
      "Test ROC score: 0.8376631684731447\n",
      "Test AP score: 0.8454743741563875\n",
      "Test ROC score: 0.8441290366604685\n",
      "Test AP score: 0.8487207325175918\n",
      "Test ROC score: 0.8479576897965133\n",
      "Test AP score: 0.8486026383238567\n",
      "Test ROC score: 0.8509872690982911\n",
      "Test AP score: 0.8440915624071166\n",
      "Test ROC score: 0.8490359160619656\n",
      "Test AP score: 0.8491127622482332\n",
      "Test ROC score: 0.8511245190436239\n",
      "Test AP score: 0.8556534333431494\n",
      "Test ROC score: 0.8592912785026264\n",
      "Test AP score: 0.8547053878667621\n",
      "Test ROC score: 0.8587089355142374\n",
      "Test AP score: 0.8563231786949967\n",
      "Test ROC score: 0.8601392040123511\n",
      "Test AP score: 0.8595333116857979\n",
      "Test ROC score: 0.8631199316386713\n",
      "Test AP score: 0.8622581399198004\n",
      "Test ROC score: 0.8640640096524708\n",
      "Test AP score: 0.861989313954505\n",
      "Test ROC score: 0.8651313799900436\n",
      "Test AP score: 0.8621529805584993\n",
      "Test ROC score: 0.8658781127434636\n",
      "Test AP score: 0.8637732707803478\n",
      "Test ROC score: 0.8660789474092329\n",
      "Test AP score: 0.8643978386380924\n",
      "Test ROC score: 0.8658021212483076\n",
      "Test AP score: 0.8660166075041952\n",
      "Test ROC score: 0.8687867259917279\n",
      "Test AP score: 0.8661795806622755\n",
      "Test ROC score: 0.8666562501453918\n",
      "Test AP score: 0.8703128143718104\n",
      "Test ROC score: 0.8730046416845919\n",
      "Test AP score: 0.8717803470279595\n",
      "Test ROC score: 0.8741654505442698\n",
      "Test AP score: 0.8722097531353403\n",
      "Test ROC score: 0.8746617215330431\n",
      "Test AP score: 0.8687188960655389\n",
      "Test ROC score: 0.8700878864904181\n",
      "Test AP score: 0.8681805302754614\n",
      "Test ROC score: 0.8692252279357144\n",
      "Test AP score: 0.872303315480473\n",
      "Test ROC score: 0.8724005868404441\n",
      "Test AP score: 0.8760923404414893\n",
      "Test ROC score: 0.8762234243008395\n",
      "Test AP score: 0.8752039503865775\n",
      "Test ROC score: 0.8749846853874559\n",
      "Test AP score: 0.8767536349576417\n",
      "Test ROC score: 0.8751548908281366\n",
      "Test AP score: 0.8788327951799154\n",
      "Test ROC score: 0.8791359146662036\n",
      "Test AP score: 0.8817965795012083\n",
      "Test ROC score: 0.8814439624757098\n",
      "Test AP score: 0.8811298571801712\n",
      "Test ROC score: 0.8803812446786567\n",
      "Test AP score: 0.8816273022828386\n",
      "Test ROC score: 0.8808639457575809\n",
      "Test AP score: 0.8833561066736958\n",
      "Test ROC score: 0.8837353386816871\n",
      "Test AP score: 0.8831889493318488\n",
      "Test ROC score: 0.8877272184476334\n",
      "Test AP score: 0.879383405264941\n",
      "Test ROC score: 0.8788412537666193\n"
     ]
    }
   ],
   "source": [
    "runner.erun()"
   ]
  },
  {
   "cell_type": "code",
   "execution_count": null,
   "id": "8122b420",
   "metadata": {},
   "outputs": [],
   "source": []
  }
 ],
 "metadata": {
  "kernelspec": {
   "display_name": "tf1.15",
   "language": "python",
   "name": "tf1.15"
  },
  "language_info": {
   "codemirror_mode": {
    "name": "ipython",
    "version": 3
   },
   "file_extension": ".py",
   "mimetype": "text/x-python",
   "name": "python",
   "nbconvert_exporter": "python",
   "pygments_lexer": "ipython3",
   "version": "3.6.13"
  },
  "toc": {
   "base_numbering": 1,
   "nav_menu": {},
   "number_sections": true,
   "sideBar": true,
   "skip_h1_title": false,
   "title_cell": "Table of Contents",
   "title_sidebar": "Contents",
   "toc_cell": false,
   "toc_position": {},
   "toc_section_display": true,
   "toc_window_display": false
  },
  "varInspector": {
   "cols": {
    "lenName": 16,
    "lenType": 16,
    "lenVar": 40
   },
   "kernels_config": {
    "python": {
     "delete_cmd_postfix": "",
     "delete_cmd_prefix": "del ",
     "library": "var_list.py",
     "varRefreshCmd": "print(var_dic_list())"
    },
    "r": {
     "delete_cmd_postfix": ") ",
     "delete_cmd_prefix": "rm(",
     "library": "var_list.r",
     "varRefreshCmd": "cat(var_dic_list()) "
    }
   },
   "types_to_exclude": [
    "module",
    "function",
    "builtin_function_or_method",
    "instance",
    "_Feature"
   ],
   "window_display": false
  }
 },
 "nbformat": 4,
 "nbformat_minor": 5
}
