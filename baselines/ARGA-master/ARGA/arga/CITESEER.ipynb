{
 "cells": [
  {
   "cell_type": "code",
   "execution_count": 1,
   "id": "65775001",
   "metadata": {
    "ExecuteTime": {
     "end_time": "2022-10-28T13:30:15.564049Z",
     "start_time": "2022-10-28T13:30:13.603618Z"
    }
   },
   "outputs": [],
   "source": [
    "import settings\n",
    "from link_prediction import Link_pred_Runner\n",
    "dataname = 'citeseer'       # 'cora' or 'wiki' or 'email' or 'citeseer' or 'celegans' or 'polbooks' or 'texas' or 'wisconsin'\n",
    "model = 'arga_ae'     # 'arga_ae' or 'arga_vae'\n",
    "task = 'link_prediction'         # 'clustering' or 'link_prediction'\n",
    "settings = settings.get_settings(dataname, model, task)\n",
    "runner = Link_pred_Runner(settings)"
   ]
  },
  {
   "cell_type": "code",
   "execution_count": 2,
   "id": "254bd93d",
   "metadata": {
    "ExecuteTime": {
     "end_time": "2022-10-28T13:40:02.716901Z",
     "start_time": "2022-10-28T13:30:15.660252Z"
    }
   },
   "outputs": [
    {
     "name": "stdout",
     "output_type": "stream",
     "text": [
      "WARNING:tensorflow:From C:\\Users\\zhangshanfan\\Desktop\\无向图\\ARGA-master\\ARGA\\arga\\model.py:143: The name tf.variable_scope is deprecated. Please use tf.compat.v1.variable_scope instead.\n",
      "\n",
      "WARNING:tensorflow:From C:\\Users\\zhangshanfan\\Desktop\\无向图\\ARGA-master\\ARGA\\arga\\model.py:145: The name tf.set_random_seed is deprecated. Please use tf.compat.v1.set_random_seed instead.\n",
      "\n",
      "WARNING:tensorflow:From C:\\Users\\zhangshanfan\\Desktop\\无向图\\ARGA-master\\ARGA\\arga\\model.py:147: The name tf.get_variable is deprecated. Please use tf.compat.v1.get_variable instead.\n",
      "\n",
      "WARNING:tensorflow:From C:\\Users\\zhangshanfan\\Desktop\\无向图\\ARGA-master\\ARGA\\arga\\layers.py:27: The name tf.random_uniform is deprecated. Please use tf.random.uniform instead.\n",
      "\n",
      "WARNING:tensorflow:From C:\\Users\\zhangshanfan\\Desktop\\无向图\\ARGA-master\\ARGA\\arga\\layers.py:101: The name tf.sparse_tensor_dense_matmul is deprecated. Please use tf.sparse.sparse_dense_matmul instead.\n",
      "\n",
      "WARNING:tensorflow:From C:\\Users\\zhangshanfan\\Desktop\\无向图\\ARGA-master\\ARGA\\arga\\layers.py:79: calling dropout (from tensorflow.python.ops.nn_ops) with keep_prob is deprecated and will be removed in a future version.\n",
      "Instructions for updating:\n",
      "Please use `rate` instead of `keep_prob`. Rate should be set to `rate = 1 - keep_prob`.\n",
      "WARNING:tensorflow:From C:\\Users\\zhangshanfan\\.conda\\envs\\tf1.x\\lib\\site-packages\\tensorflow_core\\python\\ops\\nn_impl.py:183: where (from tensorflow.python.ops.array_ops) is deprecated and will be removed in a future version.\n",
      "Instructions for updating:\n",
      "Use tf.where in 2.0, which has the same broadcast rule as np.where\n",
      "WARNING:tensorflow:From C:\\Users\\zhangshanfan\\Desktop\\无向图\\ARGA-master\\ARGA\\arga\\optimizer.py:28: calling weighted_cross_entropy_with_logits (from tensorflow.python.ops.nn_impl) with targets is deprecated and will be removed in a future version.\n",
      "Instructions for updating:\n",
      "targets is deprecated, use labels instead\n",
      "WARNING:tensorflow:From C:\\Users\\zhangshanfan\\Desktop\\无向图\\ARGA-master\\ARGA\\arga\\optimizer.py:37: The name tf.get_variable_scope is deprecated. Please use tf.compat.v1.get_variable_scope instead.\n",
      "\n",
      "WARNING:tensorflow:From C:\\Users\\zhangshanfan\\Desktop\\无向图\\ARGA-master\\ARGA\\arga\\optimizer.py:38: The name tf.train.AdamOptimizer is deprecated. Please use tf.compat.v1.train.AdamOptimizer instead.\n",
      "\n",
      "Test AP score: 0.6175620425903179\n",
      "Test ROC score: 0.6041589180050719\n",
      "Test AP score: 0.7387928452720663\n",
      "Test ROC score: 0.6809129332206254\n",
      "Test AP score: 0.7409188309961874\n",
      "Test ROC score: 0.6770196836130902\n",
      "Test AP score: 0.790208366836991\n",
      "Test ROC score: 0.7352928390291027\n",
      "Test AP score: 0.814988818736528\n",
      "Test ROC score: 0.766211810167854\n",
      "Test AP score: 0.8367522972059342\n",
      "Test ROC score: 0.7987682647023306\n",
      "Test AP score: 0.8341669092346412\n",
      "Test ROC score: 0.7913730225818139\n",
      "Test AP score: 0.8366579842348327\n",
      "Test ROC score: 0.7981596425552469\n",
      "Test AP score: 0.8464349403801962\n",
      "Test ROC score: 0.8098345610433523\n",
      "Test AP score: 0.8481574323450091\n",
      "Test ROC score: 0.8126409853882381\n",
      "Test AP score: 0.8581348203020314\n",
      "Test ROC score: 0.8196159884071972\n",
      "Test AP score: 0.8549890000453577\n",
      "Test ROC score: 0.8153797850501147\n",
      "Test AP score: 0.8542606028350326\n",
      "Test ROC score: 0.8122304069556816\n",
      "Test AP score: 0.8517310874728734\n",
      "Test ROC score: 0.8038304552590267\n",
      "Test AP score: 0.8567901536806107\n",
      "Test ROC score: 0.807723704866562\n",
      "Test AP score: 0.8473067724497975\n",
      "Test ROC score: 0.7943243569617195\n",
      "Test AP score: 0.8429998980256435\n",
      "Test ROC score: 0.7903538220021737\n",
      "Test AP score: 0.8554367080974254\n",
      "Test ROC score: 0.8084965583866682\n",
      "Test AP score: 0.8451231208441243\n",
      "Test ROC score: 0.7963965704625044\n",
      "Test AP score: 0.8604716979081023\n",
      "Test ROC score: 0.8121676126071732\n",
      "Test AP score: 0.8563303213457032\n",
      "Test ROC score: 0.8067141649559232\n",
      "Test AP score: 0.853247165825945\n",
      "Test ROC score: 0.8070377973674677\n",
      "Test AP score: 0.8530430994462057\n",
      "Test ROC score: 0.8075787948315422\n",
      "Test AP score: 0.8501751601495576\n",
      "Test ROC score: 0.7979954111822244\n",
      "Test AP score: 0.8517360798948006\n",
      "Test ROC score: 0.8008163265306122\n",
      "Test AP score: 0.8623479056077268\n",
      "Test ROC score: 0.8170220987803405\n",
      "Test AP score: 0.853354827936921\n",
      "Test ROC score: 0.8073855814515155\n",
      "Test AP score: 0.8480575577602836\n",
      "Test ROC score: 0.7983383649317716\n",
      "Test AP score: 0.8631775356590313\n",
      "Test ROC score: 0.8200458881777564\n",
      "Test AP score: 0.8536691020809699\n",
      "Test ROC score: 0.8065837459244052\n",
      "Test AP score: 0.8514639088227444\n",
      "Test ROC score: 0.7998502596304793\n",
      "Test AP score: 0.8538877423250417\n",
      "Test ROC score: 0.8022799178843135\n",
      "Test AP score: 0.8499984500586\n",
      "Test ROC score: 0.8013911363361912\n",
      "Test AP score: 0.8468257892701411\n",
      "Test ROC score: 0.7912087912087912\n",
      "Test AP score: 0.8434045720775333\n",
      "Test ROC score: 0.787112667552228\n",
      "Test AP score: 0.8475837622977409\n",
      "Test ROC score: 0.791686994324357\n",
      "Test AP score: 0.8503051216430999\n",
      "Test ROC score: 0.8013331723221833\n",
      "Test AP score: 0.8481436614888365\n",
      "Test ROC score: 0.7953918608863664\n",
      "Test AP score: 0.8491061266115036\n",
      "Test ROC score: 0.7993092621664051\n",
      "Test AP score: 0.8449073471351634\n",
      "Test ROC score: 0.7937495471561405\n"
     ]
    }
   ],
   "source": [
    "runner.erun()"
   ]
  }
 ],
 "metadata": {
  "kernelspec": {
   "display_name": "tf1.15",
   "language": "python",
   "name": "tf1.15"
  },
  "language_info": {
   "codemirror_mode": {
    "name": "ipython",
    "version": 3
   },
   "file_extension": ".py",
   "mimetype": "text/x-python",
   "name": "python",
   "nbconvert_exporter": "python",
   "pygments_lexer": "ipython3",
   "version": "3.6.13"
  },
  "toc": {
   "base_numbering": 1,
   "nav_menu": {},
   "number_sections": true,
   "sideBar": true,
   "skip_h1_title": false,
   "title_cell": "Table of Contents",
   "title_sidebar": "Contents",
   "toc_cell": false,
   "toc_position": {},
   "toc_section_display": true,
   "toc_window_display": false
  },
  "varInspector": {
   "cols": {
    "lenName": 16,
    "lenType": 16,
    "lenVar": 40
   },
   "kernels_config": {
    "python": {
     "delete_cmd_postfix": "",
     "delete_cmd_prefix": "del ",
     "library": "var_list.py",
     "varRefreshCmd": "print(var_dic_list())"
    },
    "r": {
     "delete_cmd_postfix": ") ",
     "delete_cmd_prefix": "rm(",
     "library": "var_list.r",
     "varRefreshCmd": "cat(var_dic_list()) "
    }
   },
   "types_to_exclude": [
    "module",
    "function",
    "builtin_function_or_method",
    "instance",
    "_Feature"
   ],
   "window_display": false
  }
 },
 "nbformat": 4,
 "nbformat_minor": 5
}
