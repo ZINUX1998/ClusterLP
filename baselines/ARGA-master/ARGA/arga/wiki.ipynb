{
 "cells": [
  {
   "cell_type": "code",
   "execution_count": 1,
   "id": "65775001",
   "metadata": {
    "ExecuteTime": {
     "end_time": "2022-10-29T06:30:54.810759Z",
     "start_time": "2022-10-29T06:30:52.790046Z"
    }
   },
   "outputs": [],
   "source": [
    "import settings\n",
    "from link_prediction import Link_pred_Runner\n",
    "dataname = 'wiki'       # 'cora' or 'wiki' or 'email' or 'citeseer' or 'celegans' or 'polbooks' or 'texas' or 'wisconsin'\n",
    "model = 'arga_ae'     # 'arga_ae' or 'arga_vae'\n",
    "task = 'link_prediction'         # 'clustering' or 'link_prediction'\n",
    "settings = settings.get_settings(dataname, model, task)\n",
    "runner = Link_pred_Runner(settings)"
   ]
  },
  {
   "cell_type": "code",
   "execution_count": 2,
   "id": "254bd93d",
   "metadata": {
    "ExecuteTime": {
     "end_time": "2022-10-29T06:36:20.325681Z",
     "start_time": "2022-10-29T06:31:04.595650Z"
    }
   },
   "outputs": [
    {
     "name": "stdout",
     "output_type": "stream",
     "text": [
      "WARNING:tensorflow:From C:\\Users\\zhangshanfan\\Desktop\\无向图\\ARGA-master\\ARGA\\arga\\model.py:143: The name tf.variable_scope is deprecated. Please use tf.compat.v1.variable_scope instead.\n",
      "\n",
      "WARNING:tensorflow:From C:\\Users\\zhangshanfan\\Desktop\\无向图\\ARGA-master\\ARGA\\arga\\model.py:145: The name tf.set_random_seed is deprecated. Please use tf.compat.v1.set_random_seed instead.\n",
      "\n",
      "WARNING:tensorflow:From C:\\Users\\zhangshanfan\\Desktop\\无向图\\ARGA-master\\ARGA\\arga\\model.py:147: The name tf.get_variable is deprecated. Please use tf.compat.v1.get_variable instead.\n",
      "\n",
      "WARNING:tensorflow:From C:\\Users\\zhangshanfan\\Desktop\\无向图\\ARGA-master\\ARGA\\arga\\layers.py:27: The name tf.random_uniform is deprecated. Please use tf.random.uniform instead.\n",
      "\n",
      "WARNING:tensorflow:From C:\\Users\\zhangshanfan\\Desktop\\无向图\\ARGA-master\\ARGA\\arga\\layers.py:101: The name tf.sparse_tensor_dense_matmul is deprecated. Please use tf.sparse.sparse_dense_matmul instead.\n",
      "\n",
      "WARNING:tensorflow:From C:\\Users\\zhangshanfan\\Desktop\\无向图\\ARGA-master\\ARGA\\arga\\layers.py:79: calling dropout (from tensorflow.python.ops.nn_ops) with keep_prob is deprecated and will be removed in a future version.\n",
      "Instructions for updating:\n",
      "Please use `rate` instead of `keep_prob`. Rate should be set to `rate = 1 - keep_prob`.\n",
      "WARNING:tensorflow:From C:\\Users\\zhangshanfan\\.conda\\envs\\tf1.x\\lib\\site-packages\\tensorflow_core\\python\\ops\\nn_impl.py:183: where (from tensorflow.python.ops.array_ops) is deprecated and will be removed in a future version.\n",
      "Instructions for updating:\n",
      "Use tf.where in 2.0, which has the same broadcast rule as np.where\n",
      "WARNING:tensorflow:From C:\\Users\\zhangshanfan\\Desktop\\无向图\\ARGA-master\\ARGA\\arga\\optimizer.py:28: calling weighted_cross_entropy_with_logits (from tensorflow.python.ops.nn_impl) with targets is deprecated and will be removed in a future version.\n",
      "Instructions for updating:\n",
      "targets is deprecated, use labels instead\n",
      "WARNING:tensorflow:From C:\\Users\\zhangshanfan\\Desktop\\无向图\\ARGA-master\\ARGA\\arga\\optimizer.py:37: The name tf.get_variable_scope is deprecated. Please use tf.compat.v1.get_variable_scope instead.\n",
      "\n",
      "WARNING:tensorflow:From C:\\Users\\zhangshanfan\\Desktop\\无向图\\ARGA-master\\ARGA\\arga\\optimizer.py:38: The name tf.train.AdamOptimizer is deprecated. Please use tf.compat.v1.train.AdamOptimizer instead.\n",
      "\n",
      "Test AP score: 0.7607016762221059\n",
      "Test ROC score: 0.7595350488840382\n",
      "Test AP score: 0.8139659035967992\n",
      "Test ROC score: 0.7927708349928273\n",
      "Test AP score: 0.8236511998087127\n",
      "Test ROC score: 0.797396077216904\n",
      "Test AP score: 0.8457800572531289\n",
      "Test ROC score: 0.8213918011197956\n",
      "Test AP score: 0.8567032540237083\n",
      "Test ROC score: 0.8349861272511113\n",
      "Test AP score: 0.8739167224401254\n",
      "Test ROC score: 0.853014373016517\n",
      "Test AP score: 0.8910022414770169\n",
      "Test ROC score: 0.8656014638783694\n",
      "Test AP score: 0.893274076104344\n",
      "Test ROC score: 0.8692120263742285\n",
      "Test AP score: 0.9014188187794628\n",
      "Test ROC score: 0.879524090640752\n",
      "Test AP score: 0.9064746438387167\n",
      "Test ROC score: 0.8865427263543518\n",
      "Test AP score: 0.9127725268255678\n",
      "Test ROC score: 0.8916540917350874\n",
      "Test AP score: 0.9157578059966556\n",
      "Test ROC score: 0.8941234187039048\n",
      "Test AP score: 0.9149904178077009\n",
      "Test ROC score: 0.8940608852503683\n",
      "Test AP score: 0.9195703943335172\n",
      "Test ROC score: 0.89952511797606\n",
      "Test AP score: 0.9204034636634777\n",
      "Test ROC score: 0.9003507084519173\n",
      "Test AP score: 0.922839312666287\n",
      "Test ROC score: 0.9001400302691693\n",
      "Test AP score: 0.9251084453022812\n",
      "Test ROC score: 0.9036858259738655\n",
      "Test AP score: 0.9256967128149014\n",
      "Test ROC score: 0.9042501159474451\n",
      "Test AP score: 0.9255631097368936\n",
      "Test ROC score: 0.9039508487055203\n",
      "Test AP score: 0.9261816002557742\n",
      "Test ROC score: 0.9025244904081872\n",
      "Test AP score: 0.9264074283677525\n",
      "Test ROC score: 0.9023607123155916\n",
      "Test AP score: 0.9287252727861488\n",
      "Test ROC score: 0.9055826740644735\n",
      "Test AP score: 0.9299570865967781\n",
      "Test ROC score: 0.9060204082392291\n",
      "Test AP score: 0.9270903589480254\n",
      "Test ROC score: 0.903621803628578\n",
      "Test AP score: 0.9285272923532879\n",
      "Test ROC score: 0.902240112083771\n",
      "Test AP score: 0.9284503672289044\n",
      "Test ROC score: 0.905022106320271\n",
      "Test AP score: 0.9281691305353386\n",
      "Test ROC score: 0.9011539655515116\n",
      "Test AP score: 0.9313861586228991\n",
      "Test ROC score: 0.9086103354398669\n",
      "Test AP score: 0.9301367927660698\n",
      "Test ROC score: 0.9044280385116741\n",
      "Test AP score: 0.9296774178660938\n",
      "Test ROC score: 0.9064439979423516\n",
      "Test AP score: 0.9308258674209106\n",
      "Test ROC score: 0.9069673433927823\n",
      "Test AP score: 0.9284022869587212\n",
      "Test ROC score: 0.9041525935377631\n",
      "Test AP score: 0.9314963064258144\n",
      "Test ROC score: 0.9075212111241058\n",
      "Test AP score: 0.929399875297161\n",
      "Test ROC score: 0.9061588751720602\n",
      "Test AP score: 0.9291605871575703\n",
      "Test ROC score: 0.9040297599683164\n",
      "Test AP score: 0.9309326716873748\n",
      "Test ROC score: 0.9052930846189293\n",
      "Test AP score: 0.9304254218525111\n",
      "Test ROC score: 0.906342008857417\n",
      "Test AP score: 0.9315063789424447\n",
      "Test ROC score: 0.9085478019863304\n",
      "Test AP score: 0.9295896462890851\n",
      "Test ROC score: 0.9027225130110528\n",
      "Test AP score: 0.932535017164404\n",
      "Test ROC score: 0.9079671342034914\n"
     ]
    }
   ],
   "source": [
    "runner.erun()"
   ]
  },
  {
   "cell_type": "code",
   "execution_count": null,
   "id": "d077d5fb",
   "metadata": {},
   "outputs": [],
   "source": []
  }
 ],
 "metadata": {
  "kernelspec": {
   "display_name": "tf1.15",
   "language": "python",
   "name": "tf1.15"
  },
  "language_info": {
   "codemirror_mode": {
    "name": "ipython",
    "version": 3
   },
   "file_extension": ".py",
   "mimetype": "text/x-python",
   "name": "python",
   "nbconvert_exporter": "python",
   "pygments_lexer": "ipython3",
   "version": "3.6.13"
  },
  "toc": {
   "base_numbering": 1,
   "nav_menu": {},
   "number_sections": true,
   "sideBar": true,
   "skip_h1_title": false,
   "title_cell": "Table of Contents",
   "title_sidebar": "Contents",
   "toc_cell": false,
   "toc_position": {},
   "toc_section_display": true,
   "toc_window_display": false
  },
  "varInspector": {
   "cols": {
    "lenName": 16,
    "lenType": 16,
    "lenVar": 40
   },
   "kernels_config": {
    "python": {
     "delete_cmd_postfix": "",
     "delete_cmd_prefix": "del ",
     "library": "var_list.py",
     "varRefreshCmd": "print(var_dic_list())"
    },
    "r": {
     "delete_cmd_postfix": ") ",
     "delete_cmd_prefix": "rm(",
     "library": "var_list.r",
     "varRefreshCmd": "cat(var_dic_list()) "
    }
   },
   "types_to_exclude": [
    "module",
    "function",
    "builtin_function_or_method",
    "instance",
    "_Feature"
   ],
   "window_display": false
  }
 },
 "nbformat": 4,
 "nbformat_minor": 5
}
