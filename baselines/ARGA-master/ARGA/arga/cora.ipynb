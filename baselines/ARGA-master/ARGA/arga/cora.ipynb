{
 "cells": [
  {
   "cell_type": "code",
   "execution_count": 1,
   "id": "65775001",
   "metadata": {
    "ExecuteTime": {
     "end_time": "2022-10-29T06:38:54.883589Z",
     "start_time": "2022-10-29T06:38:52.882648Z"
    }
   },
   "outputs": [],
   "source": [
    "import settings\n",
    "from link_prediction import Link_pred_Runner\n",
    "dataname = 'cora'       # 'cora' or 'wiki' or 'email' or 'citeseer' or 'celegans' or 'polbooks' or 'texas' or 'wisconsin'\n",
    "model = 'arga_ae'     # 'arga_ae' or 'arga_vae'\n",
    "task = 'link_prediction'         # 'clustering' or 'link_prediction'\n",
    "settings = settings.get_settings(dataname, model, task)\n",
    "runner = Link_pred_Runner(settings)"
   ]
  },
  {
   "cell_type": "code",
   "execution_count": 2,
   "id": "254bd93d",
   "metadata": {
    "ExecuteTime": {
     "end_time": "2022-10-29T06:45:24.021704Z",
     "start_time": "2022-10-29T06:38:54.902284Z"
    }
   },
   "outputs": [
    {
     "name": "stdout",
     "output_type": "stream",
     "text": [
      "WARNING:tensorflow:From C:\\Users\\zhangshanfan\\Desktop\\无向图\\ARGA-master\\ARGA\\arga\\model.py:143: The name tf.variable_scope is deprecated. Please use tf.compat.v1.variable_scope instead.\n",
      "\n",
      "WARNING:tensorflow:From C:\\Users\\zhangshanfan\\Desktop\\无向图\\ARGA-master\\ARGA\\arga\\model.py:145: The name tf.set_random_seed is deprecated. Please use tf.compat.v1.set_random_seed instead.\n",
      "\n",
      "WARNING:tensorflow:From C:\\Users\\zhangshanfan\\Desktop\\无向图\\ARGA-master\\ARGA\\arga\\model.py:147: The name tf.get_variable is deprecated. Please use tf.compat.v1.get_variable instead.\n",
      "\n",
      "WARNING:tensorflow:From C:\\Users\\zhangshanfan\\Desktop\\无向图\\ARGA-master\\ARGA\\arga\\layers.py:27: The name tf.random_uniform is deprecated. Please use tf.random.uniform instead.\n",
      "\n",
      "WARNING:tensorflow:From C:\\Users\\zhangshanfan\\Desktop\\无向图\\ARGA-master\\ARGA\\arga\\layers.py:101: The name tf.sparse_tensor_dense_matmul is deprecated. Please use tf.sparse.sparse_dense_matmul instead.\n",
      "\n",
      "WARNING:tensorflow:From C:\\Users\\zhangshanfan\\Desktop\\无向图\\ARGA-master\\ARGA\\arga\\layers.py:79: calling dropout (from tensorflow.python.ops.nn_ops) with keep_prob is deprecated and will be removed in a future version.\n",
      "Instructions for updating:\n",
      "Please use `rate` instead of `keep_prob`. Rate should be set to `rate = 1 - keep_prob`.\n",
      "WARNING:tensorflow:From C:\\Users\\zhangshanfan\\.conda\\envs\\tf1.x\\lib\\site-packages\\tensorflow_core\\python\\ops\\nn_impl.py:183: where (from tensorflow.python.ops.array_ops) is deprecated and will be removed in a future version.\n",
      "Instructions for updating:\n",
      "Use tf.where in 2.0, which has the same broadcast rule as np.where\n",
      "WARNING:tensorflow:From C:\\Users\\zhangshanfan\\Desktop\\无向图\\ARGA-master\\ARGA\\arga\\optimizer.py:28: calling weighted_cross_entropy_with_logits (from tensorflow.python.ops.nn_impl) with targets is deprecated and will be removed in a future version.\n",
      "Instructions for updating:\n",
      "targets is deprecated, use labels instead\n",
      "WARNING:tensorflow:From C:\\Users\\zhangshanfan\\Desktop\\无向图\\ARGA-master\\ARGA\\arga\\optimizer.py:37: The name tf.get_variable_scope is deprecated. Please use tf.compat.v1.get_variable_scope instead.\n",
      "\n",
      "WARNING:tensorflow:From C:\\Users\\zhangshanfan\\Desktop\\无向图\\ARGA-master\\ARGA\\arga\\optimizer.py:38: The name tf.train.AdamOptimizer is deprecated. Please use tf.compat.v1.train.AdamOptimizer instead.\n",
      "\n",
      "Test AP score: 0.6139197457386047\n",
      "Test ROC score: 0.6110525008191439\n",
      "Test AP score: 0.7355403967469749\n",
      "Test ROC score: 0.6992895952529263\n",
      "Test AP score: 0.7472766617624722\n",
      "Test ROC score: 0.7061271959356064\n",
      "Test AP score: 0.8336501302889645\n",
      "Test ROC score: 0.8116329227412333\n",
      "Test AP score: 0.8423733213753226\n",
      "Test ROC score: 0.8259238322249387\n",
      "Test AP score: 0.8554401471994468\n",
      "Test ROC score: 0.8342124877128424\n",
      "Test AP score: 0.8766193722986103\n",
      "Test ROC score: 0.858207101166965\n",
      "Test AP score: 0.8747381724037853\n",
      "Test ROC score: 0.8602774647228053\n",
      "Test AP score: 0.8807475456122004\n",
      "Test ROC score: 0.8634100147985987\n",
      "Test AP score: 0.8888488940843129\n",
      "Test ROC score: 0.8697327250665217\n",
      "Test AP score: 0.9008489781984632\n",
      "Test ROC score: 0.8803149833110695\n",
      "Test AP score: 0.9010551638430406\n",
      "Test ROC score: 0.8749212361690714\n",
      "Test AP score: 0.8962725247128188\n",
      "Test ROC score: 0.8700639832354562\n",
      "Test AP score: 0.905160073952068\n",
      "Test ROC score: 0.8795192435791724\n",
      "Test AP score: 0.8998808272207851\n",
      "Test ROC score: 0.8732037345757916\n",
      "Test AP score: 0.9024124473660925\n",
      "Test ROC score: 0.8728472719809598\n",
      "Test AP score: 0.8935141481710501\n",
      "Test ROC score: 0.8650483024819158\n",
      "Test AP score: 0.8912073581223795\n",
      "Test ROC score: 0.8570080906207129\n",
      "Test AP score: 0.8979211371237975\n",
      "Test ROC score: 0.8623838346013559\n",
      "Test AP score: 0.8999327991727105\n",
      "Test ROC score: 0.864659434196645\n",
      "Test AP score: 0.8965698497733805\n",
      "Test ROC score: 0.8672770938576815\n",
      "Test AP score: 0.8920034854519721\n",
      "Test ROC score: 0.8543796290628632\n",
      "Test AP score: 0.8914563930688941\n",
      "Test ROC score: 0.8562627597406105\n",
      "Test AP score: 0.8911065054979797\n",
      "Test ROC score: 0.8516971580209485\n",
      "Test AP score: 0.8982726873179957\n",
      "Test ROC score: 0.862509856730842\n",
      "Test AP score: 0.8936754094530557\n",
      "Test ROC score: 0.8576418019004137\n",
      "Test AP score: 0.8916482568326092\n",
      "Test ROC score: 0.8505665594878462\n",
      "Test AP score: 0.8928113492232279\n",
      "Test ROC score: 0.8559999135848255\n",
      "Test AP score: 0.8987493990241836\n",
      "Test ROC score: 0.8648466670747383\n",
      "Test AP score: 0.8952578157516025\n",
      "Test ROC score: 0.8554130105246481\n",
      "Test AP score: 0.8939427813955878\n",
      "Test ROC score: 0.8580594752438528\n",
      "Test AP score: 0.8890675321136164\n",
      "Test ROC score: 0.8475204245865574\n",
      "Test AP score: 0.888782203332697\n",
      "Test ROC score: 0.8432572759776616\n",
      "Test AP score: 0.8947913562102687\n",
      "Test ROC score: 0.8549089220067043\n",
      "Test AP score: 0.8915203279245942\n",
      "Test ROC score: 0.851754768137285\n",
      "Test AP score: 0.8962226321851617\n",
      "Test ROC score: 0.8585023530131891\n",
      "Test AP score: 0.8945323119234616\n",
      "Test ROC score: 0.8576093962099745\n",
      "Test AP score: 0.8893372056833168\n",
      "Test ROC score: 0.8458857375355112\n",
      "Test AP score: 0.8921995518517332\n",
      "Test ROC score: 0.8530653982839387\n",
      "Test AP score: 0.8886682487585295\n",
      "Test ROC score: 0.842483140039391\n"
     ]
    }
   ],
   "source": [
    "runner.erun()"
   ]
  },
  {
   "cell_type": "code",
   "execution_count": null,
   "id": "49c3376f",
   "metadata": {},
   "outputs": [],
   "source": []
  }
 ],
 "metadata": {
  "kernelspec": {
   "display_name": "tf1.15",
   "language": "python",
   "name": "tf1.15"
  },
  "language_info": {
   "codemirror_mode": {
    "name": "ipython",
    "version": 3
   },
   "file_extension": ".py",
   "mimetype": "text/x-python",
   "name": "python",
   "nbconvert_exporter": "python",
   "pygments_lexer": "ipython3",
   "version": "3.6.13"
  },
  "toc": {
   "base_numbering": 1,
   "nav_menu": {},
   "number_sections": true,
   "sideBar": true,
   "skip_h1_title": false,
   "title_cell": "Table of Contents",
   "title_sidebar": "Contents",
   "toc_cell": false,
   "toc_position": {},
   "toc_section_display": true,
   "toc_window_display": false
  },
  "varInspector": {
   "cols": {
    "lenName": 16,
    "lenType": 16,
    "lenVar": 40
   },
   "kernels_config": {
    "python": {
     "delete_cmd_postfix": "",
     "delete_cmd_prefix": "del ",
     "library": "var_list.py",
     "varRefreshCmd": "print(var_dic_list())"
    },
    "r": {
     "delete_cmd_postfix": ") ",
     "delete_cmd_prefix": "rm(",
     "library": "var_list.r",
     "varRefreshCmd": "cat(var_dic_list()) "
    }
   },
   "types_to_exclude": [
    "module",
    "function",
    "builtin_function_or_method",
    "instance",
    "_Feature"
   ],
   "window_display": false
  }
 },
 "nbformat": 4,
 "nbformat_minor": 5
}
