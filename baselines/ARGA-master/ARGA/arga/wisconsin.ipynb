{
 "cells": [
  {
   "cell_type": "code",
   "execution_count": 1,
   "id": "65775001",
   "metadata": {
    "ExecuteTime": {
     "end_time": "2022-11-16T13:18:29.054423Z",
     "start_time": "2022-11-16T13:18:27.049158Z"
    }
   },
   "outputs": [],
   "source": [
    "import settings\n",
    "from link_prediction import Link_pred_Runner\n",
    "dataname = 'wisconsin'       # 'cora' or 'wiki' or 'email' or 'citeseer' or 'celegans' or 'polbooks' or 'texas' or 'wisconsin'\n",
    "model = 'arga_ae'     # 'arga_ae' or 'arga_vae'\n",
    "task = 'link_prediction'         # 'clustering' or 'link_prediction'\n",
    "settings = settings.get_settings(dataname, model, task)\n",
    "runner = Link_pred_Runner(settings)"
   ]
  },
  {
   "cell_type": "code",
   "execution_count": 2,
   "id": "254bd93d",
   "metadata": {
    "ExecuteTime": {
     "end_time": "2022-11-16T13:18:38.942533Z",
     "start_time": "2022-11-16T13:18:29.118340Z"
    }
   },
   "outputs": [
    {
     "name": "stdout",
     "output_type": "stream",
     "text": [
      "WARNING:tensorflow:From C:\\Users\\zhangshanfan\\Desktop\\无向图\\ARGA-master\\ARGA\\arga\\model.py:143: The name tf.variable_scope is deprecated. Please use tf.compat.v1.variable_scope instead.\n",
      "\n",
      "WARNING:tensorflow:From C:\\Users\\zhangshanfan\\Desktop\\无向图\\ARGA-master\\ARGA\\arga\\model.py:145: The name tf.set_random_seed is deprecated. Please use tf.compat.v1.set_random_seed instead.\n",
      "\n",
      "WARNING:tensorflow:From C:\\Users\\zhangshanfan\\Desktop\\无向图\\ARGA-master\\ARGA\\arga\\model.py:147: The name tf.get_variable is deprecated. Please use tf.compat.v1.get_variable instead.\n",
      "\n",
      "WARNING:tensorflow:From C:\\Users\\zhangshanfan\\Desktop\\无向图\\ARGA-master\\ARGA\\arga\\layers.py:27: The name tf.random_uniform is deprecated. Please use tf.random.uniform instead.\n",
      "\n",
      "WARNING:tensorflow:From C:\\Users\\zhangshanfan\\Desktop\\无向图\\ARGA-master\\ARGA\\arga\\layers.py:101: The name tf.sparse_tensor_dense_matmul is deprecated. Please use tf.sparse.sparse_dense_matmul instead.\n",
      "\n",
      "WARNING:tensorflow:From C:\\Users\\zhangshanfan\\Desktop\\无向图\\ARGA-master\\ARGA\\arga\\layers.py:79: calling dropout (from tensorflow.python.ops.nn_ops) with keep_prob is deprecated and will be removed in a future version.\n",
      "Instructions for updating:\n",
      "Please use `rate` instead of `keep_prob`. Rate should be set to `rate = 1 - keep_prob`.\n",
      "WARNING:tensorflow:From C:\\Users\\zhangshanfan\\.conda\\envs\\tf1.x\\lib\\site-packages\\tensorflow_core\\python\\ops\\nn_impl.py:183: where (from tensorflow.python.ops.array_ops) is deprecated and will be removed in a future version.\n",
      "Instructions for updating:\n",
      "Use tf.where in 2.0, which has the same broadcast rule as np.where\n",
      "WARNING:tensorflow:From C:\\Users\\zhangshanfan\\Desktop\\无向图\\ARGA-master\\ARGA\\arga\\optimizer.py:28: calling weighted_cross_entropy_with_logits (from tensorflow.python.ops.nn_impl) with targets is deprecated and will be removed in a future version.\n",
      "Instructions for updating:\n",
      "targets is deprecated, use labels instead\n",
      "WARNING:tensorflow:From C:\\Users\\zhangshanfan\\Desktop\\无向图\\ARGA-master\\ARGA\\arga\\optimizer.py:37: The name tf.get_variable_scope is deprecated. Please use tf.compat.v1.get_variable_scope instead.\n",
      "\n",
      "WARNING:tensorflow:From C:\\Users\\zhangshanfan\\Desktop\\无向图\\ARGA-master\\ARGA\\arga\\optimizer.py:38: The name tf.train.AdamOptimizer is deprecated. Please use tf.compat.v1.train.AdamOptimizer instead.\n",
      "\n",
      "Test AP score: 0.6827774955913393\n",
      "Test ROC score: 0.6706172839506173\n",
      "Test AP score: 0.634684466340681\n",
      "Test ROC score: 0.6069135802469136\n",
      "Test AP score: 0.6689474377733324\n",
      "Test ROC score: 0.6113580246913579\n",
      "Test AP score: 0.6424406972330488\n",
      "Test ROC score: 0.5980246913580247\n",
      "Test AP score: 0.7653676349899708\n",
      "Test ROC score: 0.688395061728395\n",
      "Test AP score: 0.786931235208405\n",
      "Test ROC score: 0.7229629629629629\n",
      "Test AP score: 0.8167866975711229\n",
      "Test ROC score: 0.7565432098765432\n",
      "Test AP score: 0.77955035184922\n",
      "Test ROC score: 0.6809876543209877\n",
      "Test AP score: 0.7820604432328533\n",
      "Test ROC score: 0.7180246913580248\n",
      "Test AP score: 0.7822721231077872\n",
      "Test ROC score: 0.6967901234567901\n",
      "Test AP score: 0.7718372742788996\n",
      "Test ROC score: 0.6765432098765432\n",
      "Test AP score: 0.7788457076882324\n",
      "Test ROC score: 0.6844444444444444\n",
      "Test AP score: 0.7966780313158858\n",
      "Test ROC score: 0.7412345679012345\n",
      "Test AP score: 0.7748735800876576\n",
      "Test ROC score: 0.6953086419753085\n",
      "Test AP score: 0.8226120319813279\n",
      "Test ROC score: 0.7535802469135802\n",
      "Test AP score: 0.7885135833813198\n",
      "Test ROC score: 0.7002469135802469\n",
      "Test AP score: 0.7864604780158989\n",
      "Test ROC score: 0.6923456790123457\n",
      "Test AP score: 0.801159740896406\n",
      "Test ROC score: 0.7308641975308643\n",
      "Test AP score: 0.7793155966213694\n",
      "Test ROC score: 0.674074074074074\n",
      "Test AP score: 0.8082088908015226\n",
      "Test ROC score: 0.7249382716049383\n",
      "Test AP score: 0.8023822118951549\n",
      "Test ROC score: 0.7106172839506173\n",
      "Test AP score: 0.7882878321794036\n",
      "Test ROC score: 0.6844444444444444\n",
      "Test AP score: 0.8173227738688761\n",
      "Test ROC score: 0.7066666666666667\n",
      "Test AP score: 0.8208989825538276\n",
      "Test ROC score: 0.7540740740740741\n",
      "Test AP score: 0.8000088829698621\n",
      "Test ROC score: 0.6888888888888889\n",
      "Test AP score: 0.8141170487436464\n",
      "Test ROC score: 0.7318518518518519\n",
      "Test AP score: 0.7908593911342088\n",
      "Test ROC score: 0.6972839506172839\n",
      "Test AP score: 0.7886828128732081\n",
      "Test ROC score: 0.6987654320987653\n",
      "Test AP score: 0.7583834465223123\n",
      "Test ROC score: 0.654320987654321\n",
      "Test AP score: 0.8127873248106304\n",
      "Test ROC score: 0.7338271604938271\n",
      "Test AP score: 0.783424841047712\n",
      "Test ROC score: 0.6849382716049383\n",
      "Test AP score: 0.7557317439411604\n",
      "Test ROC score: 0.6493827160493827\n",
      "Test AP score: 0.7684219420265095\n",
      "Test ROC score: 0.6548148148148148\n",
      "Test AP score: 0.8057908122408468\n",
      "Test ROC score: 0.7308641975308643\n",
      "Test AP score: 0.7863217789332515\n",
      "Test ROC score: 0.6854320987654322\n",
      "Test AP score: 0.7663739207856324\n",
      "Test ROC score: 0.6572839506172841\n",
      "Test AP score: 0.7891482357683786\n",
      "Test ROC score: 0.7283950617283951\n",
      "Test AP score: 0.797949210159335\n",
      "Test ROC score: 0.7041975308641976\n",
      "Test AP score: 0.769345382618809\n",
      "Test ROC score: 0.6982716049382716\n",
      "Test AP score: 0.8372809667171308\n",
      "Test ROC score: 0.7669135802469136\n",
      "Test AP score: 0.7727710591716728\n",
      "Test ROC score: 0.6849382716049383\n",
      "Test AP score: 0.8048113193479829\n",
      "Test ROC score: 0.7195061728395062\n",
      "Test AP score: 0.7894522231853287\n",
      "Test ROC score: 0.7096296296296297\n",
      "Test AP score: 0.7628730545126319\n",
      "Test ROC score: 0.7002469135802469\n",
      "Test AP score: 0.7657477433775484\n",
      "Test ROC score: 0.6637037037037038\n",
      "Test AP score: 0.7702400934972489\n",
      "Test ROC score: 0.6859259259259258\n",
      "Test AP score: 0.769269089452042\n",
      "Test ROC score: 0.6804938271604939\n",
      "Test AP score: 0.7824638571254435\n",
      "Test ROC score: 0.7180246913580246\n",
      "Test AP score: 0.7780989448600637\n",
      "Test ROC score: 0.6809876543209876\n",
      "Test AP score: 0.7548690563351591\n",
      "Test ROC score: 0.6750617283950617\n"
     ]
    }
   ],
   "source": [
    "_, _ = runner.erun()"
   ]
  },
  {
   "cell_type": "code",
   "execution_count": null,
   "id": "008c458a",
   "metadata": {},
   "outputs": [],
   "source": []
  }
 ],
 "metadata": {
  "kernelspec": {
   "display_name": "tf1.15",
   "language": "python",
   "name": "tf1.15"
  },
  "language_info": {
   "codemirror_mode": {
    "name": "ipython",
    "version": 3
   },
   "file_extension": ".py",
   "mimetype": "text/x-python",
   "name": "python",
   "nbconvert_exporter": "python",
   "pygments_lexer": "ipython3",
   "version": "3.6.13"
  },
  "toc": {
   "base_numbering": 1,
   "nav_menu": {},
   "number_sections": true,
   "sideBar": true,
   "skip_h1_title": false,
   "title_cell": "Table of Contents",
   "title_sidebar": "Contents",
   "toc_cell": false,
   "toc_position": {},
   "toc_section_display": true,
   "toc_window_display": false
  },
  "varInspector": {
   "cols": {
    "lenName": 16,
    "lenType": 16,
    "lenVar": 40
   },
   "kernels_config": {
    "python": {
     "delete_cmd_postfix": "",
     "delete_cmd_prefix": "del ",
     "library": "var_list.py",
     "varRefreshCmd": "print(var_dic_list())"
    },
    "r": {
     "delete_cmd_postfix": ") ",
     "delete_cmd_prefix": "rm(",
     "library": "var_list.r",
     "varRefreshCmd": "cat(var_dic_list()) "
    }
   },
   "types_to_exclude": [
    "module",
    "function",
    "builtin_function_or_method",
    "instance",
    "_Feature"
   ],
   "window_display": false
  }
 },
 "nbformat": 4,
 "nbformat_minor": 5
}
