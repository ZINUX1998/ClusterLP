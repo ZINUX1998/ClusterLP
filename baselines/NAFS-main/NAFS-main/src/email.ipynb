{
 "cells": [
  {
   "cell_type": "code",
   "execution_count": 1,
   "id": "0fdbac13",
   "metadata": {
    "ExecuteTime": {
     "end_time": "2022-10-31T06:01:38.532652Z",
     "start_time": "2022-10-31T06:01:37.072358Z"
    }
   },
   "outputs": [],
   "source": [
    "from __future__ import division\n",
    "from __future__ import print_function\n",
    "\n",
    "import argparse\n",
    "import time\n",
    "\n",
    "import numpy as np\n",
    "import scipy.sparse as sp\n",
    "import torch\n",
    "from torch import optim\n",
    "import torch.nn as nn\n",
    "import torch.nn.functional as F\n",
    "import networkx as nx\n",
    "\n",
    "from utils import *"
   ]
  },
  {
   "cell_type": "code",
   "execution_count": 2,
   "id": "5ee15e65",
   "metadata": {
    "ExecuteTime": {
     "end_time": "2022-10-31T06:01:39.130505Z",
     "start_time": "2022-10-31T06:01:39.113732Z"
    }
   },
   "outputs": [],
   "source": [
    "parser = argparse.ArgumentParser()\n",
    "parser.add_argument('--seed', type=int, default=42, help='Random seed.')\n",
    "parser.add_argument('--dataset', type=str,\n",
    "                    default='email', help='type of dataset.')\n",
    "parser.add_argument('--hops', type=int, default=20, help='number of hops')\n",
    "\n",
    "args,_ = parser.parse_known_args()"
   ]
  },
  {
   "cell_type": "code",
   "execution_count": 3,
   "id": "2a4f77e1",
   "metadata": {
    "ExecuteTime": {
     "end_time": "2022-10-31T06:01:39.766404Z",
     "start_time": "2022-10-31T06:01:39.754401Z"
    }
   },
   "outputs": [],
   "source": [
    "def run(args):\n",
    "    print(\"Using {} dataset\".format(args.dataset))\n",
    "\n",
    "    adj, features = load_data(args.dataset)\n",
    "    \n",
    "    n_nodes, feat_dim = features.shape\n",
    "\n",
    "    adj_orig = adj\n",
    "    adj_orig = adj_orig - sp.dia_matrix((adj_orig.diagonal()[np.newaxis, :], [0]), shape=adj_orig.shape)\n",
    "    adj_orig.eliminate_zeros()\n",
    "\n",
    "    adj_train, test_edges, test_edges_false = mask_test_edges(adj)\n",
    "    adj = adj_train\n",
    "\n",
    "    for hop in range(args.hops, args.hops+1):\n",
    "        input_features = 0.\n",
    "        if args.dataset == 'pubmed':\n",
    "            r_list = [0.3, 0.4, 0.5]\n",
    "        else:\n",
    "            r_list = [0, 0.1, 0.2, 0.3, 0.4, 0.5]\n",
    "        for r in r_list:\n",
    "            adj_norm = normalize_adj(adj, r)\n",
    "\n",
    "            features_list = []\n",
    "            features_list.append(features)\n",
    "            for _ in range(hop):\n",
    "                features_list.append(torch.spmm(adj_norm, features_list[-1]))\n",
    "\n",
    "            weight_list = []\n",
    "            norm_fea = torch.norm(features, 2, 1).add(1e-10)\n",
    "            for fea in features_list:\n",
    "                norm_cur = torch.norm(fea, 2, 1).add(1e-10)\n",
    "\n",
    "                temp = torch.div((features*fea).sum(1), norm_fea)\n",
    "                temp = torch.div(temp, norm_cur)\n",
    "                weight_list.append(temp.unsqueeze(-1))\n",
    "\n",
    "            weight = F.softmax(torch.cat(weight_list, dim=1), dim=1)\n",
    "\n",
    "            input_feas = []\n",
    "            for i in range(n_nodes):\n",
    "                fea = 0.\n",
    "                for j in range(hop+1):\n",
    "                    fea += (weight[i][j]*features_list[j][i]).unsqueeze(0)\n",
    "                input_feas.append(fea)\n",
    "            input_feas = torch.cat(input_feas, dim=0)\n",
    "            if r == r_list[0]:\n",
    "                input_features = input_feas\n",
    "            else:\n",
    "                temp = []\n",
    "                temp.append(input_features.unsqueeze(0))\n",
    "                temp.append(input_feas.unsqueeze(0))\n",
    "                input_features = torch.cat(temp, dim=0).max(0)[0]\n",
    "\n",
    "        sim = torch.sigmoid(torch.mm(input_features, input_features.T))\n",
    "\n",
    "        roc_score, ap_score = get_roc_score(sim.numpy(), adj_orig, test_edges, test_edges_false)\n",
    "        print(f'AUC: {roc_score:.4f}, AP: {ap_score:.4f}')\n",
    "        \n",
    "        return roc_score, ap_score"
   ]
  },
  {
   "cell_type": "code",
   "execution_count": 4,
   "id": "e0a36d94",
   "metadata": {
    "ExecuteTime": {
     "end_time": "2022-10-31T06:02:53.147755Z",
     "start_time": "2022-10-31T06:01:40.458484Z"
    }
   },
   "outputs": [
    {
     "name": "stdout",
     "output_type": "stream",
     "text": [
      "Using email dataset\n",
      "AUC: 0.9170, AP: 0.9001\n",
      "Using email dataset\n",
      "AUC: 0.9220, AP: 0.9078\n",
      "Using email dataset\n",
      "AUC: 0.9196, AP: 0.9017\n",
      "Using email dataset\n",
      "AUC: 0.9120, AP: 0.8970\n",
      "Using email dataset\n",
      "AUC: 0.9174, AP: 0.9015\n",
      "Using email dataset\n",
      "AUC: 0.9210, AP: 0.9108\n",
      "Using email dataset\n",
      "AUC: 0.9211, AP: 0.9088\n",
      "Using email dataset\n",
      "AUC: 0.9149, AP: 0.9013\n",
      "Using email dataset\n",
      "AUC: 0.9184, AP: 0.8944\n",
      "Using email dataset\n",
      "AUC: 0.9092, AP: 0.8941\n",
      "############################# SUM UP ###########################\n",
      "AP MEAN :  0.9017744755572012\n",
      "AP STD :  0.005532580332027531\n",
      "AUC MEAN :  0.917276957207483\n",
      "AUC STD :  0.003949125267972038\n"
     ]
    }
   ],
   "source": [
    "if __name__ == '__main__':\n",
    "    set_seed(args.seed)\n",
    "    all_ap = []\n",
    "    all_auc = []\n",
    "    for i in range(10):\n",
    "        auc, ap = run(args)\n",
    "        all_ap.append(ap)\n",
    "        all_auc.append(auc)\n",
    "    print('############################# SUM UP ###########################')\n",
    "    print(\"AP MEAN : \", np.array(all_ap).mean())\n",
    "    print(\"AP STD : \", np.array(all_ap).std())\n",
    "    print(\"AUC MEAN : \", np.array(all_auc).mean())\n",
    "    print(\"AUC STD : \", np.array(all_auc).std())"
   ]
  },
  {
   "cell_type": "code",
   "execution_count": null,
   "id": "1ee25bcd",
   "metadata": {},
   "outputs": [],
   "source": []
  }
 ],
 "metadata": {
  "kernelspec": {
   "display_name": "pytorch-env",
   "language": "python",
   "name": "pytorch"
  },
  "language_info": {
   "codemirror_mode": {
    "name": "ipython",
    "version": 3
   },
   "file_extension": ".py",
   "mimetype": "text/x-python",
   "name": "python",
   "nbconvert_exporter": "python",
   "pygments_lexer": "ipython3",
   "version": "3.9.7"
  },
  "toc": {
   "base_numbering": 1,
   "nav_menu": {},
   "number_sections": true,
   "sideBar": true,
   "skip_h1_title": false,
   "title_cell": "Table of Contents",
   "title_sidebar": "Contents",
   "toc_cell": false,
   "toc_position": {},
   "toc_section_display": true,
   "toc_window_display": false
  },
  "varInspector": {
   "cols": {
    "lenName": 16,
    "lenType": 16,
    "lenVar": 40
   },
   "kernels_config": {
    "python": {
     "delete_cmd_postfix": "",
     "delete_cmd_prefix": "del ",
     "library": "var_list.py",
     "varRefreshCmd": "print(var_dic_list())"
    },
    "r": {
     "delete_cmd_postfix": ") ",
     "delete_cmd_prefix": "rm(",
     "library": "var_list.r",
     "varRefreshCmd": "cat(var_dic_list()) "
    }
   },
   "types_to_exclude": [
    "module",
    "function",
    "builtin_function_or_method",
    "instance",
    "_Feature"
   ],
   "window_display": false
  }
 },
 "nbformat": 4,
 "nbformat_minor": 5
}
