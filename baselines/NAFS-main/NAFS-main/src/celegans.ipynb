{
 "cells": [
  {
   "cell_type": "code",
   "execution_count": 1,
   "id": "0fdbac13",
   "metadata": {
    "ExecuteTime": {
     "end_time": "2022-10-31T06:04:43.189776Z",
     "start_time": "2022-10-31T06:04:41.665145Z"
    }
   },
   "outputs": [],
   "source": [
    "from __future__ import division\n",
    "from __future__ import print_function\n",
    "\n",
    "import argparse\n",
    "import time\n",
    "\n",
    "import numpy as np\n",
    "import scipy.sparse as sp\n",
    "import torch\n",
    "from torch import optim\n",
    "import torch.nn as nn\n",
    "import torch.nn.functional as F\n",
    "import networkx as nx\n",
    "\n",
    "from utils import *"
   ]
  },
  {
   "cell_type": "code",
   "execution_count": 2,
   "id": "5ee15e65",
   "metadata": {
    "ExecuteTime": {
     "end_time": "2022-10-31T06:04:43.221003Z",
     "start_time": "2022-10-31T06:04:43.207909Z"
    }
   },
   "outputs": [],
   "source": [
    "parser = argparse.ArgumentParser()\n",
    "parser.add_argument('--seed', type=int, default=42, help='Random seed.')\n",
    "parser.add_argument('--dataset', type=str,\n",
    "                    default='celegans', help='type of dataset.')\n",
    "parser.add_argument('--hops', type=int, default=20, help='number of hops')\n",
    "\n",
    "args,_ = parser.parse_known_args()"
   ]
  },
  {
   "cell_type": "code",
   "execution_count": 3,
   "id": "2a4f77e1",
   "metadata": {
    "ExecuteTime": {
     "end_time": "2022-10-31T06:04:43.252950Z",
     "start_time": "2022-10-31T06:04:43.238906Z"
    }
   },
   "outputs": [],
   "source": [
    "def run(args):\n",
    "    print(\"Using {} dataset\".format(args.dataset))\n",
    "\n",
    "    adj, features = load_data(args.dataset)\n",
    "    \n",
    "    n_nodes, feat_dim = features.shape\n",
    "\n",
    "    adj_orig = adj\n",
    "    adj_orig = adj_orig - sp.dia_matrix((adj_orig.diagonal()[np.newaxis, :], [0]), shape=adj_orig.shape)\n",
    "    adj_orig.eliminate_zeros()\n",
    "\n",
    "    adj_train, test_edges, test_edges_false = mask_test_edges(adj)\n",
    "    adj = adj_train\n",
    "\n",
    "    for hop in range(args.hops, args.hops+1):\n",
    "        input_features = 0.\n",
    "        if args.dataset == 'pubmed':\n",
    "            r_list = [0.3, 0.4, 0.5]\n",
    "        else:\n",
    "            r_list = [0, 0.1, 0.2, 0.3, 0.4, 0.5]\n",
    "        for r in r_list:\n",
    "            adj_norm = normalize_adj(adj, r)\n",
    "\n",
    "            features_list = []\n",
    "            features_list.append(features)\n",
    "            for _ in range(hop):\n",
    "                features_list.append(torch.spmm(adj_norm, features_list[-1]))\n",
    "\n",
    "            weight_list = []\n",
    "            norm_fea = torch.norm(features, 2, 1).add(1e-10)\n",
    "            for fea in features_list:\n",
    "                norm_cur = torch.norm(fea, 2, 1).add(1e-10)\n",
    "\n",
    "                temp = torch.div((features*fea).sum(1), norm_fea)\n",
    "                temp = torch.div(temp, norm_cur)\n",
    "                weight_list.append(temp.unsqueeze(-1))\n",
    "\n",
    "            weight = F.softmax(torch.cat(weight_list, dim=1), dim=1)\n",
    "\n",
    "            input_feas = []\n",
    "            for i in range(n_nodes):\n",
    "                fea = 0.\n",
    "                for j in range(hop+1):\n",
    "                    fea += (weight[i][j]*features_list[j][i]).unsqueeze(0)\n",
    "                input_feas.append(fea)\n",
    "            input_feas = torch.cat(input_feas, dim=0)\n",
    "            if r == r_list[0]:\n",
    "                input_features = input_feas\n",
    "            else:\n",
    "                temp = []\n",
    "                temp.append(input_features.unsqueeze(0))\n",
    "                temp.append(input_feas.unsqueeze(0))\n",
    "                input_features = torch.cat(temp, dim=0).max(0)[0]\n",
    "\n",
    "        sim = torch.sigmoid(torch.mm(input_features, input_features.T))\n",
    "\n",
    "        roc_score, ap_score = get_roc_score(sim.numpy(), adj_orig, test_edges, test_edges_false)\n",
    "        print(f'AUC: {roc_score:.4f}, AP: {ap_score:.4f}')\n",
    "        \n",
    "        return roc_score, ap_score"
   ]
  },
  {
   "cell_type": "code",
   "execution_count": 4,
   "id": "e0a36d94",
   "metadata": {
    "ExecuteTime": {
     "end_time": "2022-10-31T06:04:53.703697Z",
     "start_time": "2022-10-31T06:04:43.898578Z"
    }
   },
   "outputs": [
    {
     "name": "stdout",
     "output_type": "stream",
     "text": [
      "Using celegans dataset\n",
      "AUC: 0.8108, AP: 0.8088\n",
      "Using celegans dataset\n",
      "AUC: 0.8132, AP: 0.7850\n",
      "Using celegans dataset\n",
      "AUC: 0.8373, AP: 0.8188\n",
      "Using celegans dataset\n",
      "AUC: 0.8551, AP: 0.8456\n",
      "Using celegans dataset\n",
      "AUC: 0.8375, AP: 0.8168\n",
      "Using celegans dataset\n",
      "AUC: 0.8403, AP: 0.8139\n",
      "Using celegans dataset\n",
      "AUC: 0.8359, AP: 0.8208\n",
      "Using celegans dataset\n",
      "AUC: 0.8214, AP: 0.8192\n",
      "Using celegans dataset\n",
      "AUC: 0.8082, AP: 0.7796\n",
      "Using celegans dataset\n",
      "AUC: 0.8453, AP: 0.8118\n",
      "############################# SUM UP ###########################\n",
      "AP MEAN :  0.8120425087279282\n",
      "AP STD :  0.01767479700010291\n",
      "AUC MEAN :  0.8305070311817626\n",
      "AUC STD :  0.015205189025146795\n"
     ]
    }
   ],
   "source": [
    "if __name__ == '__main__':\n",
    "    set_seed(args.seed)\n",
    "    all_ap = []\n",
    "    all_auc = []\n",
    "    for i in range(10):\n",
    "        auc, ap = run(args)\n",
    "        all_ap.append(ap)\n",
    "        all_auc.append(auc)\n",
    "    print('############################# SUM UP ###########################')\n",
    "    print(\"AP MEAN : \", np.array(all_ap).mean())\n",
    "    print(\"AP STD : \", np.array(all_ap).std())\n",
    "    print(\"AUC MEAN : \", np.array(all_auc).mean())\n",
    "    print(\"AUC STD : \", np.array(all_auc).std())"
   ]
  },
  {
   "cell_type": "code",
   "execution_count": null,
   "id": "1ee25bcd",
   "metadata": {},
   "outputs": [],
   "source": []
  }
 ],
 "metadata": {
  "kernelspec": {
   "display_name": "pytorch-env",
   "language": "python",
   "name": "pytorch"
  },
  "language_info": {
   "codemirror_mode": {
    "name": "ipython",
    "version": 3
   },
   "file_extension": ".py",
   "mimetype": "text/x-python",
   "name": "python",
   "nbconvert_exporter": "python",
   "pygments_lexer": "ipython3",
   "version": "3.9.7"
  },
  "toc": {
   "base_numbering": 1,
   "nav_menu": {},
   "number_sections": true,
   "sideBar": true,
   "skip_h1_title": false,
   "title_cell": "Table of Contents",
   "title_sidebar": "Contents",
   "toc_cell": false,
   "toc_position": {},
   "toc_section_display": true,
   "toc_window_display": false
  },
  "varInspector": {
   "cols": {
    "lenName": 16,
    "lenType": 16,
    "lenVar": 40
   },
   "kernels_config": {
    "python": {
     "delete_cmd_postfix": "",
     "delete_cmd_prefix": "del ",
     "library": "var_list.py",
     "varRefreshCmd": "print(var_dic_list())"
    },
    "r": {
     "delete_cmd_postfix": ") ",
     "delete_cmd_prefix": "rm(",
     "library": "var_list.r",
     "varRefreshCmd": "cat(var_dic_list()) "
    }
   },
   "types_to_exclude": [
    "module",
    "function",
    "builtin_function_or_method",
    "instance",
    "_Feature"
   ],
   "window_display": false
  }
 },
 "nbformat": 4,
 "nbformat_minor": 5
}
