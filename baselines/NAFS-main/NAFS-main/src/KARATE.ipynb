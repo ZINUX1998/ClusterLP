{
 "cells": [
  {
   "cell_type": "code",
   "execution_count": 1,
   "id": "0fdbac13",
   "metadata": {
    "ExecuteTime": {
     "end_time": "2022-11-02T06:09:50.458491Z",
     "start_time": "2022-11-02T06:09:47.378289Z"
    }
   },
   "outputs": [],
   "source": [
    "from __future__ import division\n",
    "from __future__ import print_function\n",
    "\n",
    "import argparse\n",
    "import time\n",
    "\n",
    "import numpy as np\n",
    "import scipy.sparse as sp\n",
    "import torch\n",
    "from torch import optim\n",
    "import torch.nn as nn\n",
    "import torch.nn.functional as F\n",
    "import networkx as nx\n",
    "\n",
    "from utils import *"
   ]
  },
  {
   "cell_type": "code",
   "execution_count": 2,
   "id": "5ee15e65",
   "metadata": {
    "ExecuteTime": {
     "end_time": "2022-11-02T06:09:50.534927Z",
     "start_time": "2022-11-02T06:09:50.522895Z"
    }
   },
   "outputs": [],
   "source": [
    "parser = argparse.ArgumentParser()\n",
    "parser.add_argument('--seed', type=int, default=42, help='Random seed.')\n",
    "parser.add_argument('--dataset', type=str,\n",
    "                    default='karate', help='type of dataset.')\n",
    "parser.add_argument('--hops', type=int, default=20, help='number of hops')\n",
    "\n",
    "args,_ = parser.parse_known_args()"
   ]
  },
  {
   "cell_type": "code",
   "execution_count": 9,
   "id": "2a4f77e1",
   "metadata": {
    "ExecuteTime": {
     "end_time": "2022-11-02T06:11:34.941118Z",
     "start_time": "2022-11-02T06:11:34.916537Z"
    }
   },
   "outputs": [],
   "source": [
    "def run(args):\n",
    "    print(\"Using {} dataset\".format(args.dataset))\n",
    "\n",
    "    adj, features = load_data(args.dataset)\n",
    "    \n",
    "    n_nodes, feat_dim = features.shape\n",
    "\n",
    "    adj_orig = adj\n",
    "    adj_orig = adj_orig - sp.dia_matrix((adj_orig.diagonal()[np.newaxis, :], [0]), shape=adj_orig.shape)\n",
    "    adj_orig.eliminate_zeros()\n",
    "\n",
    "    adj_train, test_edges, test_edges_false = mask_test_edges(adj, adj_name='karate')\n",
    "    adj = adj_train\n",
    "\n",
    "    for hop in range(args.hops, args.hops+1):\n",
    "        input_features = 0.\n",
    "        if args.dataset == 'pubmed':\n",
    "            r_list = [0.3, 0.4, 0.5]\n",
    "        else:\n",
    "            r_list = [0, 0.1, 0.2, 0.3, 0.4, 0.5]\n",
    "        for r in r_list:\n",
    "            adj_norm = normalize_adj(adj, r)\n",
    "\n",
    "            features_list = []\n",
    "            features_list.append(features)\n",
    "            for _ in range(hop):\n",
    "                features_list.append(torch.spmm(adj_norm, features_list[-1]))\n",
    "\n",
    "            weight_list = []\n",
    "            norm_fea = torch.norm(features, 2, 1).add(1e-10)\n",
    "            for fea in features_list:\n",
    "                norm_cur = torch.norm(fea, 2, 1).add(1e-10)\n",
    "\n",
    "                temp = torch.div((features*fea).sum(1), norm_fea)\n",
    "                temp = torch.div(temp, norm_cur)\n",
    "                weight_list.append(temp.unsqueeze(-1))\n",
    "\n",
    "            weight = F.softmax(torch.cat(weight_list, dim=1), dim=1)\n",
    "\n",
    "            input_feas = []\n",
    "            for i in range(n_nodes):\n",
    "                fea = 0.\n",
    "                for j in range(hop+1):\n",
    "                    fea += (weight[i][j]*features_list[j][i]).unsqueeze(0)\n",
    "                input_feas.append(fea)\n",
    "            input_feas = torch.cat(input_feas, dim=0)\n",
    "            if r == r_list[0]:\n",
    "                input_features = input_feas\n",
    "            else:\n",
    "                temp = []\n",
    "                temp.append(input_features.unsqueeze(0))\n",
    "                temp.append(input_feas.unsqueeze(0))\n",
    "                input_features = torch.cat(temp, dim=0).max(0)[0]\n",
    "\n",
    "        sim = torch.sigmoid(torch.mm(input_features, input_features.T))\n",
    "\n",
    "        roc_score, ap_score = get_roc_score(sim.numpy(), adj_orig, test_edges, test_edges_false)\n",
    "        print(f'AUC: {roc_score:.4f}, AP: {ap_score:.4f}')\n",
    "        \n",
    "        return sim.numpy(), adj_orig"
   ]
  },
  {
   "cell_type": "code",
   "execution_count": 10,
   "id": "e0a36d94",
   "metadata": {
    "ExecuteTime": {
     "end_time": "2022-11-02T06:11:35.574106Z",
     "start_time": "2022-11-02T06:11:35.456219Z"
    }
   },
   "outputs": [
    {
     "name": "stdout",
     "output_type": "stream",
     "text": [
      "Using karate dataset\n",
      "AUC: 1.0000, AP: 1.0000\n"
     ]
    }
   ],
   "source": [
    "if __name__ == '__main__':\n",
    "    adj_rec, adj = run(args)"
   ]
  },
  {
   "cell_type": "code",
   "execution_count": 13,
   "id": "1ee25bcd",
   "metadata": {
    "ExecuteTime": {
     "end_time": "2022-11-02T06:13:10.467368Z",
     "start_time": "2022-11-02T06:13:10.403071Z"
    }
   },
   "outputs": [
    {
     "name": "stdout",
     "output_type": "stream",
     "text": [
      "gama :  0.51\n",
      "edges：  744.0\n",
      "ACC：  0.4913494809688581\n",
      "AP：  0.6048387096774194\n",
      "RECALL：  0.706\n",
      "F1 SCORE：  0.4651180358829084\n",
      "gama :  0.511\n",
      "edges：  574.0\n",
      "ACC：  0.6384083044982699\n",
      "AP：  0.6358885017421603\n",
      "RECALL：  0.7909999999999999\n",
      "F1 SCORE：  0.5815873785567082\n",
      "gama :  0.512\n",
      "edges：  356.0\n",
      "ACC：  0.8269896193771626\n",
      "AP：  0.7191011235955056\n",
      "RECALL：  0.9\n",
      "F1 SCORE：  0.7491319444444444\n",
      "gama :  0.513\n",
      "edges：  224.0\n",
      "ACC：  0.9307958477508651\n",
      "AP：  0.8316025444512569\n",
      "RECALL：  0.9437692307692308\n",
      "F1 SCORE：  0.8740329083578511\n",
      "gama :  0.514\n",
      "edges：  170.0\n",
      "ACC：  0.9394463667820069\n",
      "AP：  0.8622718052738336\n",
      "RECALL：  0.8892564102564102\n",
      "F1 SCORE：  0.8750146732650022\n",
      "gama :  0.515\n",
      "edges：  126.0\n",
      "ACC：  0.9325259515570934\n",
      "AP：  0.8785483125288951\n",
      "RECALL：  0.8149230769230769\n",
      "F1 SCORE：  0.8424903049994759\n",
      "gama :  0.516\n",
      "edges：  104.0\n",
      "ACC：  0.9307958477508651\n",
      "AP：  0.9013234863995321\n",
      "RECALL：  0.7814615384615384\n",
      "F1 SCORE：  0.8266606687659319\n",
      "gama :  0.517\n",
      "edges：  74.0\n",
      "ACC：  0.9152249134948097\n",
      "AP：  0.9043562971474246\n",
      "RECALL：  0.7075384615384616\n",
      "F1 SCORE：  0.7634214592991688\n",
      "gama :  0.518\n",
      "edges：  46.0\n",
      "ACC：  0.8944636678200693\n",
      "AP：  0.8825303564433999\n",
      "RECALL：  0.6252051282051282\n",
      "F1 SCORE：  0.669109849373563\n",
      "gama :  0.519\n",
      "edges：  22.0\n",
      "ACC：  0.8771626297577855\n",
      "AP：  0.8482443482443482\n",
      "RECALL：  0.5556923076923077\n",
      "F1 SCORE：  0.5678527426471363\n",
      "gama :  0.52\n",
      "edges：  4.0\n",
      "ACC：  0.8685121107266436\n",
      "AP：  0.9340277777777778\n",
      "RECALL：  0.5128205128205128\n",
      "F1 SCORE：  0.4896840148698885\n"
     ]
    }
   ],
   "source": [
    "import copy\n",
    "from sklearn.metrics import accuracy_score, f1_score, precision_score, recall_score\n",
    "\n",
    "# def sigmoid(x):\n",
    "#     return 1 / (1 + np.exp(-x))\n",
    "\n",
    "# adj_rec = np.dot(embedding, embedding.T)\n",
    "# adj_rec = sigmoid(adj_rec)\n",
    "# adj_rec = adj_rec/adj_rec.max()\n",
    "\n",
    "for i in range(adj_rec.shape[0]):\n",
    "    adj_rec[i, i] = 0\n",
    "s = adj_rec.reshape(adj_rec.shape[0]*adj_rec.shape[0])\n",
    "\n",
    "adj_true = adj.toarray()\n",
    "true_edges = adj_true.reshape(34*34)\n",
    "\n",
    "for gama in [0.51, 0.511, 0.512, 0.513, 0.514, 0.515, 0.516, 0.517, 0.518, 0.519, 0.52]:\n",
    "    print(\"gama : \",gama)\n",
    "    predict_edges = copy.deepcopy(s)\n",
    "    predict_edges[predict_edges > gama] = 1\n",
    "    predict_edges[predict_edges <= gama] = 0\n",
    "    print(\"edges： \",predict_edges.sum())\n",
    "    print(\"ACC： \",accuracy_score(true_edges, predict_edges))\n",
    "    print(\"AP： \",precision_score(true_edges, predict_edges, average='macro'))\n",
    "    print(\"RECALL： \",recall_score(true_edges, predict_edges, average='macro'))\n",
    "    print(\"F1 SCORE： \",f1_score(true_edges, predict_edges, average='macro'))"
   ]
  },
  {
   "cell_type": "code",
   "execution_count": 14,
   "id": "a8e5363e",
   "metadata": {
    "ExecuteTime": {
     "end_time": "2022-11-02T06:17:30.520208Z",
     "start_time": "2022-11-02T06:17:30.497764Z"
    }
   },
   "outputs": [
    {
     "name": "stdout",
     "output_type": "stream",
     "text": [
      "edges：  170.0\n",
      "ACC：  0.9394463667820069\n",
      "AP：  0.8622718052738336\n",
      "RECALL：  0.8892564102564102\n",
      "F1 SCORE：  0.8750146732650022\n"
     ]
    }
   ],
   "source": [
    "gama = 0.514\n",
    "predict_edges = copy.deepcopy(s)\n",
    "predict_edges[predict_edges > gama] = 1\n",
    "predict_edges[predict_edges <= gama] = 0\n",
    "print(\"edges： \",predict_edges.sum())\n",
    "print(\"ACC： \",accuracy_score(true_edges, predict_edges))\n",
    "print(\"AP： \",precision_score(true_edges, predict_edges, average='macro'))\n",
    "print(\"RECALL： \",recall_score(true_edges, predict_edges, average='macro'))\n",
    "print(\"F1 SCORE： \",f1_score(true_edges, predict_edges, average='macro'))"
   ]
  },
  {
   "cell_type": "code",
   "execution_count": 15,
   "id": "4c77f154",
   "metadata": {
    "ExecuteTime": {
     "end_time": "2022-11-02T06:18:01.984282Z",
     "start_time": "2022-11-02T06:18:01.971252Z"
    }
   },
   "outputs": [],
   "source": [
    "predict_graph = predict_edges.reshape(34, 34)\n",
    "pd.DataFrame(predict_graph).to_csv('NAFS_recon_karate.txt', header=None, index=False, sep=' ')"
   ]
  },
  {
   "cell_type": "code",
   "execution_count": null,
   "id": "5d2b524c",
   "metadata": {},
   "outputs": [],
   "source": []
  }
 ],
 "metadata": {
  "kernelspec": {
   "display_name": "pytorch-env",
   "language": "python",
   "name": "pytorch"
  },
  "language_info": {
   "codemirror_mode": {
    "name": "ipython",
    "version": 3
   },
   "file_extension": ".py",
   "mimetype": "text/x-python",
   "name": "python",
   "nbconvert_exporter": "python",
   "pygments_lexer": "ipython3",
   "version": "3.9.7"
  },
  "toc": {
   "base_numbering": 1,
   "nav_menu": {},
   "number_sections": true,
   "sideBar": true,
   "skip_h1_title": false,
   "title_cell": "Table of Contents",
   "title_sidebar": "Contents",
   "toc_cell": false,
   "toc_position": {},
   "toc_section_display": true,
   "toc_window_display": false
  },
  "varInspector": {
   "cols": {
    "lenName": 16,
    "lenType": 16,
    "lenVar": 40
   },
   "kernels_config": {
    "python": {
     "delete_cmd_postfix": "",
     "delete_cmd_prefix": "del ",
     "library": "var_list.py",
     "varRefreshCmd": "print(var_dic_list())"
    },
    "r": {
     "delete_cmd_postfix": ") ",
     "delete_cmd_prefix": "rm(",
     "library": "var_list.r",
     "varRefreshCmd": "cat(var_dic_list()) "
    }
   },
   "types_to_exclude": [
    "module",
    "function",
    "builtin_function_or_method",
    "instance",
    "_Feature"
   ],
   "window_display": false
  }
 },
 "nbformat": 4,
 "nbformat_minor": 5
}
